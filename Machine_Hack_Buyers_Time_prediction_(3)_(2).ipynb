{
  "nbformat": 4,
  "nbformat_minor": 0,
  "metadata": {
    "kernelspec": {
      "display_name": "Python 3",
      "language": "python",
      "name": "python3"
    },
    "language_info": {
      "codemirror_mode": {
        "name": "ipython",
        "version": 3
      },
      "file_extension": ".py",
      "mimetype": "text/x-python",
      "name": "python",
      "nbconvert_exporter": "python",
      "pygments_lexer": "ipython3",
      "version": "3.8.5"
    },
    "colab": {
      "name": "Machine Hack Buyers Time prediction (3) (2).ipynb",
      "provenance": []
    }
  },
  "cells": [
    {
      "cell_type": "code",
      "metadata": {
        "id": "Vw63c7uvfbVQ"
      },
      "source": [
        "import pandas as pd\n",
        "import numpy as np\n",
        "import seaborn as sns\n",
        "import matplotlib.pyplot as plt"
      ],
      "execution_count": null,
      "outputs": []
    },
    {
      "cell_type": "code",
      "metadata": {
        "colab": {
          "resources": {
            "http://localhost:8080/nbextensions/google.colab/files.js": {
              "data": "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",
              "ok": true,
              "headers": [
                [
                  "content-type",
                  "application/javascript"
                ]
              ],
              "status": 200,
              "status_text": ""
            }
          },
          "base_uri": "https://localhost:8080/",
          "height": 39
        },
        "id": "YcSf0AbVfdrl",
        "outputId": "5b38fa75-8dce-4694-b9f2-636c26a68d67"
      },
      "source": [
        "from google.colab import files\r\n",
        "uploaded = files.upload()"
      ],
      "execution_count": null,
      "outputs": [
        {
          "output_type": "display_data",
          "data": {
            "text/html": [
              "\n",
              "     <input type=\"file\" id=\"files-07f0d24f-94b9-4adc-8c4c-3df72bed2aa6\" name=\"files[]\" multiple disabled\n",
              "        style=\"border:none\" />\n",
              "     <output id=\"result-07f0d24f-94b9-4adc-8c4c-3df72bed2aa6\">\n",
              "      Upload widget is only available when the cell has been executed in the\n",
              "      current browser session. Please rerun this cell to enable.\n",
              "      </output>\n",
              "      <script src=\"/nbextensions/google.colab/files.js\"></script> "
            ],
            "text/plain": [
              "<IPython.core.display.HTML object>"
            ]
          },
          "metadata": {
            "tags": []
          }
        }
      ]
    },
    {
      "cell_type": "code",
      "metadata": {
        "id": "LFjpN5cQfbVc"
      },
      "source": [
        "train = pd.read_csv(\"Train.csv\")"
      ],
      "execution_count": null,
      "outputs": []
    },
    {
      "cell_type": "code",
      "metadata": {
        "id": "LEfIfK3dfbVd"
      },
      "source": [
        "test = pd.read_csv(\"Test.csv\")"
      ],
      "execution_count": null,
      "outputs": []
    },
    {
      "cell_type": "code",
      "metadata": {
        "colab": {
          "base_uri": "https://localhost:8080/",
          "height": 826
        },
        "id": "pXyNAOOQfbVd",
        "outputId": "9dcc0af2-0c5d-431e-b007-160df5c505fe"
      },
      "source": [
        "train.head(10)"
      ],
      "execution_count": null,
      "outputs": [
        {
          "output_type": "execute_result",
          "data": {
            "text/html": [
              "<div>\n",
              "<style scoped>\n",
              "    .dataframe tbody tr th:only-of-type {\n",
              "        vertical-align: middle;\n",
              "    }\n",
              "\n",
              "    .dataframe tbody tr th {\n",
              "        vertical-align: top;\n",
              "    }\n",
              "\n",
              "    .dataframe thead th {\n",
              "        text-align: right;\n",
              "    }\n",
              "</style>\n",
              "<table border=\"1\" class=\"dataframe\">\n",
              "  <thead>\n",
              "    <tr style=\"text-align: right;\">\n",
              "      <th></th>\n",
              "      <th>session_id</th>\n",
              "      <th>session_number</th>\n",
              "      <th>client_agent</th>\n",
              "      <th>device_details</th>\n",
              "      <th>date</th>\n",
              "      <th>purchased</th>\n",
              "      <th>added_in_cart</th>\n",
              "      <th>checked_out</th>\n",
              "      <th>time_spent</th>\n",
              "    </tr>\n",
              "  </thead>\n",
              "  <tbody>\n",
              "    <tr>\n",
              "      <th>0</th>\n",
              "      <td>57f879e70d3c5fc2a98102d64c9fd84e</td>\n",
              "      <td>715</td>\n",
              "      <td>Mozilla/5.0 (Windows NT 6.1; WOW64) AppleWebKi...</td>\n",
              "      <td>Desktop - Chrome</td>\n",
              "      <td>2020-01-22</td>\n",
              "      <td>1</td>\n",
              "      <td>0</td>\n",
              "      <td>0</td>\n",
              "      <td>236.886</td>\n",
              "    </tr>\n",
              "    <tr>\n",
              "      <th>1</th>\n",
              "      <td>a5442b0c7c33d0a811e7661e556b2de8</td>\n",
              "      <td>55</td>\n",
              "      <td>Product/8.0 iPhone/8.1.3</td>\n",
              "      <td>iPhone - iOS</td>\n",
              "      <td>2020-02-27</td>\n",
              "      <td>1</td>\n",
              "      <td>0</td>\n",
              "      <td>0</td>\n",
              "      <td>1277.455</td>\n",
              "    </tr>\n",
              "    <tr>\n",
              "      <th>2</th>\n",
              "      <td>305cb1486ed8610c00b37007926cb2c4</td>\n",
              "      <td>11</td>\n",
              "      <td>Mozilla/5.0 (iPhone; CPU iPhone OS 7_1_2 like ...</td>\n",
              "      <td>iPhone - MobileWeb</td>\n",
              "      <td>2019-08-01</td>\n",
              "      <td>0</td>\n",
              "      <td>0</td>\n",
              "      <td>0</td>\n",
              "      <td>21.704</td>\n",
              "    </tr>\n",
              "    <tr>\n",
              "      <th>3</th>\n",
              "      <td>f2c1ecc9993f0071df91ba178450498c</td>\n",
              "      <td>2794</td>\n",
              "      <td>Mozilla/5.0 (compatible; MSIE 9.0; Windows NT ...</td>\n",
              "      <td>Desktop - IE</td>\n",
              "      <td>2019-12-30</td>\n",
              "      <td>0</td>\n",
              "      <td>1</td>\n",
              "      <td>0</td>\n",
              "      <td>455.201</td>\n",
              "    </tr>\n",
              "    <tr>\n",
              "      <th>4</th>\n",
              "      <td>e460830ae295e55d2216ebdc761ab9a6</td>\n",
              "      <td>3674</td>\n",
              "      <td>Mozilla/5.0 (iPhone; CPU iPhone OS 7_1_1 like ...</td>\n",
              "      <td>iPhone - Web</td>\n",
              "      <td>2019-09-10</td>\n",
              "      <td>0</td>\n",
              "      <td>0</td>\n",
              "      <td>0</td>\n",
              "      <td>1164.877</td>\n",
              "    </tr>\n",
              "    <tr>\n",
              "      <th>5</th>\n",
              "      <td>b4ae55a4553d43697dcf64b66033677b</td>\n",
              "      <td>550</td>\n",
              "      <td>Product/160402 Android/5.0 Device/LGE_LG-D855 ...</td>\n",
              "      <td>Android Phone - Android</td>\n",
              "      <td>2020-02-06</td>\n",
              "      <td>0</td>\n",
              "      <td>1</td>\n",
              "      <td>0</td>\n",
              "      <td>6010.343</td>\n",
              "    </tr>\n",
              "    <tr>\n",
              "      <th>6</th>\n",
              "      <td>a17491477ea11e951286f583b3095899</td>\n",
              "      <td>198</td>\n",
              "      <td>Mozilla/5.0 (Windows NT 6.1; WOW64; rv:30.0) G...</td>\n",
              "      <td>Desktop - Firefox</td>\n",
              "      <td>2019-05-30</td>\n",
              "      <td>1</td>\n",
              "      <td>1</td>\n",
              "      <td>1</td>\n",
              "      <td>8471.435</td>\n",
              "    </tr>\n",
              "    <tr>\n",
              "      <th>7</th>\n",
              "      <td>939dfd89beacc36f5f8acd5bfa062b57</td>\n",
              "      <td>2915</td>\n",
              "      <td>Mozilla/5.0 (Windows NT 6.3; WOW64; Trident/7....</td>\n",
              "      <td>Android Tablet - Web</td>\n",
              "      <td>2020-01-03</td>\n",
              "      <td>0</td>\n",
              "      <td>0</td>\n",
              "      <td>0</td>\n",
              "      <td>83.030</td>\n",
              "    </tr>\n",
              "    <tr>\n",
              "      <th>8</th>\n",
              "      <td>1334aaff26b65ec26dc1e539c0ed20cb</td>\n",
              "      <td>319</td>\n",
              "      <td>Product/4.5.1 iPhone/8.1</td>\n",
              "      <td>iPhone - iOS</td>\n",
              "      <td>2019-10-19</td>\n",
              "      <td>0</td>\n",
              "      <td>0</td>\n",
              "      <td>0</td>\n",
              "      <td>97.722</td>\n",
              "    </tr>\n",
              "    <tr>\n",
              "      <th>9</th>\n",
              "      <td>750d0bfd2fb9ba1628586bb98c1611ca</td>\n",
              "      <td>2574</td>\n",
              "      <td>Mozilla/5.0 (Windows NT 6.1; WOW64) AppleWebKi...</td>\n",
              "      <td>Desktop - Chrome</td>\n",
              "      <td>2020-03-04</td>\n",
              "      <td>0</td>\n",
              "      <td>1</td>\n",
              "      <td>0</td>\n",
              "      <td>44.841</td>\n",
              "    </tr>\n",
              "  </tbody>\n",
              "</table>\n",
              "</div>"
            ],
            "text/plain": [
              "                         session_id  session_number  ... checked_out time_spent\n",
              "0  57f879e70d3c5fc2a98102d64c9fd84e             715  ...           0    236.886\n",
              "1  a5442b0c7c33d0a811e7661e556b2de8              55  ...           0   1277.455\n",
              "2  305cb1486ed8610c00b37007926cb2c4              11  ...           0     21.704\n",
              "3  f2c1ecc9993f0071df91ba178450498c            2794  ...           0    455.201\n",
              "4  e460830ae295e55d2216ebdc761ab9a6            3674  ...           0   1164.877\n",
              "5  b4ae55a4553d43697dcf64b66033677b             550  ...           0   6010.343\n",
              "6  a17491477ea11e951286f583b3095899             198  ...           1   8471.435\n",
              "7  939dfd89beacc36f5f8acd5bfa062b57            2915  ...           0     83.030\n",
              "8  1334aaff26b65ec26dc1e539c0ed20cb             319  ...           0     97.722\n",
              "9  750d0bfd2fb9ba1628586bb98c1611ca            2574  ...           0     44.841\n",
              "\n",
              "[10 rows x 9 columns]"
            ]
          },
          "metadata": {
            "tags": []
          },
          "execution_count": 285
        }
      ]
    },
    {
      "cell_type": "code",
      "metadata": {
        "colab": {
          "base_uri": "https://localhost:8080/",
          "height": 285
        },
        "id": "BB_T7G_kfbVf",
        "outputId": "da6bffa9-5a41-417e-ef9c-10f8e562a48d"
      },
      "source": [
        "train['time_spent'].plot(sort_columns=True)"
      ],
      "execution_count": null,
      "outputs": [
        {
          "output_type": "execute_result",
          "data": {
            "text/plain": [
              "<matplotlib.axes._subplots.AxesSubplot at 0x7f6f83fd4198>"
            ]
          },
          "metadata": {
            "tags": []
          },
          "execution_count": 286
        },
        {
          "output_type": "display_data",
          "data": {
            "image/png": "[encoded data removed]",
            "text/plain": [
              "<Figure size 432x288 with 1 Axes>"
            ]
          },
          "metadata": {
            "tags": [],
            "needs_background": "light"
          }
        }
      ]
    },
    {
      "cell_type": "code",
      "metadata": {
        "colab": {
          "base_uri": "https://localhost:8080/"
        },
        "id": "bK8kpdtGfbVf",
        "outputId": "197a4975-d3ce-4755-d7f2-1abb70a78c50"
      },
      "source": [
        "train['session_number'].value_counts()"
      ],
      "execution_count": null,
      "outputs": [
        {
          "output_type": "execute_result",
          "data": {
            "text/plain": [
              "11      437\n",
              "22      192\n",
              "33      132\n",
              "44      101\n",
              "55       93\n",
              "       ... \n",
              "3949      1\n",
              "3696      1\n",
              "5962      1\n",
              "7601      1\n",
              "6083      1\n",
              "Name: session_number, Length: 610, dtype: int64"
            ]
          },
          "metadata": {
            "tags": []
          },
          "execution_count": 287
        }
      ]
    },
    {
      "cell_type": "code",
      "metadata": {
        "id": "v6ZGCXzqfbVg"
      },
      "source": [
        "train['counts'] = train['session_number'].map(train['session_number'].value_counts())"
      ],
      "execution_count": null,
      "outputs": []
    },
    {
      "cell_type": "code",
      "metadata": {
        "colab": {
          "base_uri": "https://localhost:8080/"
        },
        "id": "qb7ILmM4fbVg",
        "outputId": "c35346d4-ec55-4177-e85f-ed4f364af866"
      },
      "source": [
        "train[(train.counts >50) & (train.counts <= 100) ].count()"
      ],
      "execution_count": null,
      "outputs": [
        {
          "output_type": "execute_result",
          "data": {
            "text/plain": [
              "session_id        929\n",
              "session_number    929\n",
              "client_agent      883\n",
              "device_details    929\n",
              "date              929\n",
              "purchased         929\n",
              "added_in_cart     929\n",
              "checked_out       929\n",
              "time_spent        929\n",
              "counts            929\n",
              "dtype: int64"
            ]
          },
          "metadata": {
            "tags": []
          },
          "execution_count": 289
        }
      ]
    },
    {
      "cell_type": "code",
      "metadata": {
        "id": "E-T9kMFDfbVg"
      },
      "source": [
        "train.loc[(train['counts'] >=0) & (train['counts'] <= 10), 'counts'] = 1\n",
        "train.loc[(train['counts'] >10) & (train['counts'] <= 20), 'counts'] = 2\n",
        "train.loc[(train['counts'] >20) & (train['counts'] <= 50), 'counts'] = 3\n",
        "train.loc[(train['counts'] >50) & (train['counts'] <= 200), 'counts'] = 4\n",
        "train.loc[train['counts'] >200, 'counts'] = 5"
      ],
      "execution_count": null,
      "outputs": []
    },
    {
      "cell_type": "code",
      "metadata": {
        "id": "3JGHhPcZfbVh"
      },
      "source": [
        "train = train.drop('session_number', axis=1)"
      ],
      "execution_count": null,
      "outputs": []
    },
    {
      "cell_type": "code",
      "metadata": {
        "id": "_exuarNLfbVh"
      },
      "source": [
        "train = train.drop(train[train.time_spent > 10000].index)"
      ],
      "execution_count": null,
      "outputs": []
    },
    {
      "cell_type": "code",
      "metadata": {
        "id": "y8_yhqi2fbVh"
      },
      "source": [
        "train.time_spent = np.log(train.time_spent)"
      ],
      "execution_count": null,
      "outputs": []
    },
    {
      "cell_type": "code",
      "metadata": {
        "colab": {
          "base_uri": "https://localhost:8080/",
          "height": 352
        },
        "id": "6aqN8f8WfbVh",
        "outputId": "3f36031a-960f-4044-989a-1f5f73b2c9fd"
      },
      "source": [
        "sns.distplot(train.time_spent)"
      ],
      "execution_count": null,
      "outputs": [
        {
          "output_type": "stream",
          "text": [
            "/usr/local/lib/python3.6/dist-packages/seaborn/distributions.py:2551: FutureWarning: `distplot` is a deprecated function and will be removed in a future version. Please adapt your code to use either `displot` (a figure-level function with similar flexibility) or `histplot` (an axes-level function for histograms).\n",
            "  warnings.warn(msg, FutureWarning)\n"
          ],
          "name": "stderr"
        },
        {
          "output_type": "execute_result",
          "data": {
            "text/plain": [
              "<matplotlib.axes._subplots.AxesSubplot at 0x7f6f83b85f98>"
            ]
          },
          "metadata": {
            "tags": []
          },
          "execution_count": 294
        },
        {
          "output_type": "display_data",
          "data": {
            "image/png": "[encoded data removed]",
            "text/plain": [
              "<Figure size 432x288 with 1 Axes>"
            ]
          },
          "metadata": {
            "tags": [],
            "needs_background": "light"
          }
        }
      ]
    },
    {
      "cell_type": "code",
      "metadata": {
        "colab": {
          "base_uri": "https://localhost:8080/",
          "height": 352
        },
        "id": "kbx2IYf5fbVi",
        "outputId": "f4f3aef0-06a9-49b5-f312-3cd37925104c"
      },
      "source": [
        "sns.boxplot(train.time_spent)"
      ],
      "execution_count": null,
      "outputs": [
        {
          "output_type": "stream",
          "text": [
            "/usr/local/lib/python3.6/dist-packages/seaborn/_decorators.py:43: FutureWarning: Pass the following variable as a keyword arg: x. From version 0.12, the only valid positional argument will be `data`, and passing other arguments without an explicit keyword will result in an error or misinterpretation.\n",
            "  FutureWarning\n"
          ],
          "name": "stderr"
        },
        {
          "output_type": "execute_result",
          "data": {
            "text/plain": [
              "<matplotlib.axes._subplots.AxesSubplot at 0x7f6f838a3470>"
            ]
          },
          "metadata": {
            "tags": []
          },
          "execution_count": 295
        },
        {
          "output_type": "display_data",
          "data": {
            "image/png": "[encoded data removed]",
            "text/plain": [
              "<Figure size 432x288 with 1 Axes>"
            ]
          },
          "metadata": {
            "tags": [],
            "needs_background": "light"
          }
        }
      ]
    },
    {
      "cell_type": "code",
      "metadata": {
        "colab": {
          "base_uri": "https://localhost:8080/"
        },
        "id": "hdQibA_xfbVi",
        "outputId": "5f0a2bf0-c5de-41e4-b095-e2bf442bba4d"
      },
      "source": [
        "train.dtypes"
      ],
      "execution_count": null,
      "outputs": [
        {
          "output_type": "execute_result",
          "data": {
            "text/plain": [
              "session_id         object\n",
              "client_agent       object\n",
              "device_details     object\n",
              "date               object\n",
              "purchased           int64\n",
              "added_in_cart       int64\n",
              "checked_out         int64\n",
              "time_spent        float64\n",
              "counts              int64\n",
              "dtype: object"
            ]
          },
          "metadata": {
            "tags": []
          },
          "execution_count": 296
        }
      ]
    },
    {
      "cell_type": "code",
      "metadata": {
        "id": "vDjF832ofbVi"
      },
      "source": [
        "from datetime import datetime\n",
        "train['Year'] = pd.to_datetime(train['date']).dt.year\n",
        "train['Month'] = pd.to_datetime(train['date']).dt.month\n",
        "train['Date'] = pd.to_datetime(train['date']).dt.day\n",
        "train['dayofWeek'] = pd.to_datetime(train['date']).dt.day_name()\n",
        "train['dayofWeek'] = train['dayofWeek'].map({'Monday':1,'Tuesday':2,'Wednesday':3,'Thursday':4,\n",
        "                                           'Friday':5, 'Saturday':6,'Sunday':7})"
      ],
      "execution_count": null,
      "outputs": []
    },
    {
      "cell_type": "code",
      "metadata": {
        "id": "7PZGY7GzfbVj"
      },
      "source": [
        "train = train.drop(\"date\",axis = 1)"
      ],
      "execution_count": null,
      "outputs": []
    },
    {
      "cell_type": "code",
      "metadata": {
        "colab": {
          "base_uri": "https://localhost:8080/",
          "height": 465
        },
        "id": "ML0Xs-xafbVj",
        "outputId": "6ccc9244-8336-4af1-d036-bc73052a11b0"
      },
      "source": [
        "train.head()"
      ],
      "execution_count": null,
      "outputs": [
        {
          "output_type": "execute_result",
          "data": {
            "text/html": [
              "<div>\n",
              "<style scoped>\n",
              "    .dataframe tbody tr th:only-of-type {\n",
              "        vertical-align: middle;\n",
              "    }\n",
              "\n",
              "    .dataframe tbody tr th {\n",
              "        vertical-align: top;\n",
              "    }\n",
              "\n",
              "    .dataframe thead th {\n",
              "        text-align: right;\n",
              "    }\n",
              "</style>\n",
              "<table border=\"1\" class=\"dataframe\">\n",
              "  <thead>\n",
              "    <tr style=\"text-align: right;\">\n",
              "      <th></th>\n",
              "      <th>session_id</th>\n",
              "      <th>client_agent</th>\n",
              "      <th>device_details</th>\n",
              "      <th>purchased</th>\n",
              "      <th>added_in_cart</th>\n",
              "      <th>checked_out</th>\n",
              "      <th>time_spent</th>\n",
              "      <th>counts</th>\n",
              "      <th>Year</th>\n",
              "      <th>Month</th>\n",
              "      <th>Date</th>\n",
              "      <th>dayofWeek</th>\n",
              "    </tr>\n",
              "  </thead>\n",
              "  <tbody>\n",
              "    <tr>\n",
              "      <th>0</th>\n",
              "      <td>57f879e70d3c5fc2a98102d64c9fd84e</td>\n",
              "      <td>Mozilla/5.0 (Windows NT 6.1; WOW64) AppleWebKi...</td>\n",
              "      <td>Desktop - Chrome</td>\n",
              "      <td>1</td>\n",
              "      <td>0</td>\n",
              "      <td>0</td>\n",
              "      <td>5.467579</td>\n",
              "      <td>3</td>\n",
              "      <td>2020</td>\n",
              "      <td>1</td>\n",
              "      <td>22</td>\n",
              "      <td>3</td>\n",
              "    </tr>\n",
              "    <tr>\n",
              "      <th>1</th>\n",
              "      <td>a5442b0c7c33d0a811e7661e556b2de8</td>\n",
              "      <td>Product/8.0 iPhone/8.1.3</td>\n",
              "      <td>iPhone - iOS</td>\n",
              "      <td>1</td>\n",
              "      <td>0</td>\n",
              "      <td>0</td>\n",
              "      <td>7.152625</td>\n",
              "      <td>4</td>\n",
              "      <td>2020</td>\n",
              "      <td>2</td>\n",
              "      <td>27</td>\n",
              "      <td>4</td>\n",
              "    </tr>\n",
              "    <tr>\n",
              "      <th>2</th>\n",
              "      <td>305cb1486ed8610c00b37007926cb2c4</td>\n",
              "      <td>Mozilla/5.0 (iPhone; CPU iPhone OS 7_1_2 like ...</td>\n",
              "      <td>iPhone - MobileWeb</td>\n",
              "      <td>0</td>\n",
              "      <td>0</td>\n",
              "      <td>0</td>\n",
              "      <td>3.077497</td>\n",
              "      <td>5</td>\n",
              "      <td>2019</td>\n",
              "      <td>8</td>\n",
              "      <td>1</td>\n",
              "      <td>4</td>\n",
              "    </tr>\n",
              "    <tr>\n",
              "      <th>3</th>\n",
              "      <td>f2c1ecc9993f0071df91ba178450498c</td>\n",
              "      <td>Mozilla/5.0 (compatible; MSIE 9.0; Windows NT ...</td>\n",
              "      <td>Desktop - IE</td>\n",
              "      <td>0</td>\n",
              "      <td>1</td>\n",
              "      <td>0</td>\n",
              "      <td>6.120739</td>\n",
              "      <td>1</td>\n",
              "      <td>2019</td>\n",
              "      <td>12</td>\n",
              "      <td>30</td>\n",
              "      <td>1</td>\n",
              "    </tr>\n",
              "    <tr>\n",
              "      <th>4</th>\n",
              "      <td>e460830ae295e55d2216ebdc761ab9a6</td>\n",
              "      <td>Mozilla/5.0 (iPhone; CPU iPhone OS 7_1_1 like ...</td>\n",
              "      <td>iPhone - Web</td>\n",
              "      <td>0</td>\n",
              "      <td>0</td>\n",
              "      <td>0</td>\n",
              "      <td>7.060371</td>\n",
              "      <td>1</td>\n",
              "      <td>2019</td>\n",
              "      <td>9</td>\n",
              "      <td>10</td>\n",
              "      <td>2</td>\n",
              "    </tr>\n",
              "  </tbody>\n",
              "</table>\n",
              "</div>"
            ],
            "text/plain": [
              "                         session_id  ... dayofWeek\n",
              "0  57f879e70d3c5fc2a98102d64c9fd84e  ...         3\n",
              "1  a5442b0c7c33d0a811e7661e556b2de8  ...         4\n",
              "2  305cb1486ed8610c00b37007926cb2c4  ...         4\n",
              "3  f2c1ecc9993f0071df91ba178450498c  ...         1\n",
              "4  e460830ae295e55d2216ebdc761ab9a6  ...         2\n",
              "\n",
              "[5 rows x 12 columns]"
            ]
          },
          "metadata": {
            "tags": []
          },
          "execution_count": 299
        }
      ]
    },
    {
      "cell_type": "code",
      "metadata": {
        "colab": {
          "base_uri": "https://localhost:8080/"
        },
        "id": "Ye7k0LEVfbVj",
        "outputId": "a91efd05-532b-4e98-ae97-0f4ee50ce45e"
      },
      "source": [
        "train.isna().sum()"
      ],
      "execution_count": null,
      "outputs": [
        {
          "output_type": "execute_result",
          "data": {
            "text/plain": [
              "session_id          0\n",
              "client_agent      160\n",
              "device_details      0\n",
              "purchased           0\n",
              "added_in_cart       0\n",
              "checked_out         0\n",
              "time_spent          0\n",
              "counts              0\n",
              "Year                0\n",
              "Month               0\n",
              "Date                0\n",
              "dayofWeek           0\n",
              "dtype: int64"
            ]
          },
          "metadata": {
            "tags": []
          },
          "execution_count": 300
        }
      ]
    },
    {
      "cell_type": "code",
      "metadata": {
        "colab": {
          "base_uri": "https://localhost:8080/"
        },
        "id": "EHYtTCgkfbVj",
        "outputId": "79562429-b101-4854-d8e5-f21654c3e58d"
      },
      "source": [
        "train.shape"
      ],
      "execution_count": null,
      "outputs": [
        {
          "output_type": "execute_result",
          "data": {
            "text/plain": [
              "(5398, 12)"
            ]
          },
          "metadata": {
            "tags": []
          },
          "execution_count": 301
        }
      ]
    },
    {
      "cell_type": "code",
      "metadata": {
        "colab": {
          "base_uri": "https://localhost:8080/"
        },
        "id": "PzsLqydLfbVk",
        "outputId": "6d28ad10-2c1d-46cc-9af9-c514be7d856e"
      },
      "source": [
        "train.isna().sum()"
      ],
      "execution_count": null,
      "outputs": [
        {
          "output_type": "execute_result",
          "data": {
            "text/plain": [
              "session_id          0\n",
              "client_agent      160\n",
              "device_details      0\n",
              "purchased           0\n",
              "added_in_cart       0\n",
              "checked_out         0\n",
              "time_spent          0\n",
              "counts              0\n",
              "Year                0\n",
              "Month               0\n",
              "Date                0\n",
              "dayofWeek           0\n",
              "dtype: int64"
            ]
          },
          "metadata": {
            "tags": []
          },
          "execution_count": 302
        }
      ]
    },
    {
      "cell_type": "code",
      "metadata": {
        "colab": {
          "base_uri": "https://localhost:8080/"
        },
        "id": "MQRj-jjYfbVk",
        "outputId": "1584d78b-f982-4b3a-95a3-ace97eab59e8"
      },
      "source": [
        "train.shape"
      ],
      "execution_count": null,
      "outputs": [
        {
          "output_type": "execute_result",
          "data": {
            "text/plain": [
              "(5398, 12)"
            ]
          },
          "metadata": {
            "tags": []
          },
          "execution_count": 303
        }
      ]
    },
    {
      "cell_type": "code",
      "metadata": {
        "colab": {
          "base_uri": "https://localhost:8080/"
        },
        "id": "hjFCwGCBfbVk",
        "outputId": "3d2ee1d3-d8a1-4c9c-e6ae-e7a784ce69dc"
      },
      "source": [
        "train.time_spent.max()"
      ],
      "execution_count": null,
      "outputs": [
        {
          "output_type": "execute_result",
          "data": {
            "text/plain": [
              "9.18337618381048"
            ]
          },
          "metadata": {
            "tags": []
          },
          "execution_count": 304
        }
      ]
    },
    {
      "cell_type": "code",
      "metadata": {
        "colab": {
          "base_uri": "https://localhost:8080/"
        },
        "id": "KIoas8jdfbVl",
        "outputId": "9321aaa3-dede-4486-e919-ee19967eba1f"
      },
      "source": [
        "train.time_spent.min()"
      ],
      "execution_count": null,
      "outputs": [
        {
          "output_type": "execute_result",
          "data": {
            "text/plain": [
              "2.667228206581955"
            ]
          },
          "metadata": {
            "tags": []
          },
          "execution_count": 305
        }
      ]
    },
    {
      "cell_type": "code",
      "metadata": {
        "colab": {
          "base_uri": "https://localhost:8080/"
        },
        "id": "fSIcVqEgfbVl",
        "outputId": "83645cb4-277e-4a4b-c1d6-ede2b339871e"
      },
      "source": [
        "train.Year.value_counts()"
      ],
      "execution_count": null,
      "outputs": [
        {
          "output_type": "execute_result",
          "data": {
            "text/plain": [
              "2019    3946\n",
              "2020    1452\n",
              "Name: Year, dtype: int64"
            ]
          },
          "metadata": {
            "tags": []
          },
          "execution_count": 306
        }
      ]
    },
    {
      "cell_type": "code",
      "metadata": {
        "colab": {
          "base_uri": "https://localhost:8080/"
        },
        "id": "2kBzBghdfbVl",
        "outputId": "d0f7138e-cfdb-47b5-f214-e33f9207ff86"
      },
      "source": [
        "train['device_details'].value_counts()"
      ],
      "execution_count": null,
      "outputs": [
        {
          "output_type": "execute_result",
          "data": {
            "text/plain": [
              "iPhone - iOS                  1501\n",
              "Desktop - Chrome               814\n",
              "iPhone - Web                   656\n",
              "Android Phone - Android        324\n",
              "Desktop - Safari               312\n",
              "Desktop - IE                   292\n",
              "iPad - Web                     287\n",
              "iPhone - MobileWeb             275\n",
              "Desktop - Firefox              234\n",
              "Android Tablet - Web           203\n",
              "Other - Other                  185\n",
              "Unknown - MobileWeb             87\n",
              "Android Phone - Web             86\n",
              "iPad - iOS                      77\n",
              "Android Phone - MobileWeb       54\n",
              "Android Tablet - Android         9\n",
              "Android Tablet - MobileWeb       2\n",
              "Name: device_details, dtype: int64"
            ]
          },
          "metadata": {
            "tags": []
          },
          "execution_count": 307
        }
      ]
    },
    {
      "cell_type": "code",
      "metadata": {
        "id": "Xg33LVnnfbVl"
      },
      "source": [
        "#train['device_details'] = train['device_details'].str.split(' - ').str[1] "
      ],
      "execution_count": null,
      "outputs": []
    },
    {
      "cell_type": "code",
      "metadata": {
        "colab": {
          "base_uri": "https://localhost:8080/"
        },
        "id": "MTseeUxefbVl",
        "outputId": "f6ffb88d-d98e-4dfd-e15e-d6667802c84b"
      },
      "source": [
        "train.device_details.value_counts()"
      ],
      "execution_count": null,
      "outputs": [
        {
          "output_type": "execute_result",
          "data": {
            "text/plain": [
              "iPhone - iOS                  1501\n",
              "Desktop - Chrome               814\n",
              "iPhone - Web                   656\n",
              "Android Phone - Android        324\n",
              "Desktop - Safari               312\n",
              "Desktop - IE                   292\n",
              "iPad - Web                     287\n",
              "iPhone - MobileWeb             275\n",
              "Desktop - Firefox              234\n",
              "Android Tablet - Web           203\n",
              "Other - Other                  185\n",
              "Unknown - MobileWeb             87\n",
              "Android Phone - Web             86\n",
              "iPad - iOS                      77\n",
              "Android Phone - MobileWeb       54\n",
              "Android Tablet - Android         9\n",
              "Android Tablet - MobileWeb       2\n",
              "Name: device_details, dtype: int64"
            ]
          },
          "metadata": {
            "tags": []
          },
          "execution_count": 309
        }
      ]
    },
    {
      "cell_type": "code",
      "metadata": {
        "colab": {
          "base_uri": "https://localhost:8080/"
        },
        "id": "4JFFbsBsfbVm",
        "outputId": "d77357ee-ba0e-4da9-e82d-66a8244e38ab"
      },
      "source": [
        "train.device_details[train.loc[:,\"device_details\"] == \"iPhone - iOS\"] = \"iPhone_m\"\n",
        "train.device_details[train.loc[:,\"device_details\"] == \"Desktop - Chrome\"] = \"web\"\n",
        "train.device_details[train.loc[:,\"device_details\"] == \"iPhone - Web\"] = \"iPhone_w\"\n",
        "train.device_details[train.loc[:,\"device_details\"] == \"Android Phone - Android\"] = \"android_m\"\n",
        "train.device_details[train.loc[:,\"device_details\"] == \"Desktop - Safari\"] = \"web\"\n",
        "train.device_details[train.loc[:,\"device_details\"] == \"Desktop - IE\"] = \"web\"\n",
        "train.device_details[train.loc[:,\"device_details\"] == \"iPad - Web\"] = \"ipadweb\"\n",
        "train.device_details[train.loc[:,\"device_details\"] == \"iPhone - MobileWeb\"] = \"iPhone_w\"\n",
        "train.device_details[train.loc[:,\"device_details\"] == \"Desktop - Firefox\"] = \"web\"\n",
        "train.device_details[train.loc[:,\"device_details\"] == \"Android Tablet - Web\"] = \"android_w\"\n",
        "train.device_details[train.loc[:,\"device_details\"] == \"Other - Other\"] = \"Other\"\n",
        "train.device_details[train.loc[:,\"device_details\"] == \"Unknown - MobileWeb\"] = \"otherweb\"\n",
        "train.device_details[train.loc[:,\"device_details\"] == \"Android Phone - Web\"] = \"android_w\"\n",
        "train.device_details[train.loc[:,\"device_details\"] == \"iPad - iOS\"] = \"ipad\"\n",
        "train.device_details[train.loc[:,\"device_details\"] == \"Android Phone - MobileWeb\"] = \"android_w\"\n",
        "train.device_details[train.loc[:,\"device_details\"] == \"Android Tablet - Android\"] = \"tablet_m\"\n",
        "train.device_details[train.loc[:,\"device_details\"] == \"Android Tablet - MobileWeb\"] = \"tablet_w\""
      ],
      "execution_count": null,
      "outputs": [
        {
          "output_type": "stream",
          "text": [
            "/usr/local/lib/python3.6/dist-packages/ipykernel_launcher.py:1: SettingWithCopyWarning: \n",
            "A value is trying to be set on a copy of a slice from a DataFrame\n",
            "\n",
            "See the caveats in the documentation: https://pandas.pydata.org/pandas-docs/stable/user_guide/indexing.html#returning-a-view-versus-a-copy\n",
            "  \"\"\"Entry point for launching an IPython kernel.\n",
            "/usr/local/lib/python3.6/dist-packages/ipykernel_launcher.py:2: SettingWithCopyWarning: \n",
            "A value is trying to be set on a copy of a slice from a DataFrame\n",
            "\n",
            "See the caveats in the documentation: https://pandas.pydata.org/pandas-docs/stable/user_guide/indexing.html#returning-a-view-versus-a-copy\n",
            "  \n",
            "/usr/local/lib/python3.6/dist-packages/ipykernel_launcher.py:3: SettingWithCopyWarning: \n",
            "A value is trying to be set on a copy of a slice from a DataFrame\n",
            "\n",
            "See the caveats in the documentation: https://pandas.pydata.org/pandas-docs/stable/user_guide/indexing.html#returning-a-view-versus-a-copy\n",
            "  This is separate from the ipykernel package so we can avoid doing imports until\n",
            "/usr/local/lib/python3.6/dist-packages/ipykernel_launcher.py:4: SettingWithCopyWarning: \n",
            "A value is trying to be set on a copy of a slice from a DataFrame\n",
            "\n",
            "See the caveats in the documentation: https://pandas.pydata.org/pandas-docs/stable/user_guide/indexing.html#returning-a-view-versus-a-copy\n",
            "  after removing the cwd from sys.path.\n",
            "/usr/local/lib/python3.6/dist-packages/ipykernel_launcher.py:5: SettingWithCopyWarning: \n",
            "A value is trying to be set on a copy of a slice from a DataFrame\n",
            "\n",
            "See the caveats in the documentation: https://pandas.pydata.org/pandas-docs/stable/user_guide/indexing.html#returning-a-view-versus-a-copy\n",
            "  \"\"\"\n",
            "/usr/local/lib/python3.6/dist-packages/ipykernel_launcher.py:6: SettingWithCopyWarning: \n",
            "A value is trying to be set on a copy of a slice from a DataFrame\n",
            "\n",
            "See the caveats in the documentation: https://pandas.pydata.org/pandas-docs/stable/user_guide/indexing.html#returning-a-view-versus-a-copy\n",
            "  \n",
            "/usr/local/lib/python3.6/dist-packages/ipykernel_launcher.py:7: SettingWithCopyWarning: \n",
            "A value is trying to be set on a copy of a slice from a DataFrame\n",
            "\n",
            "See the caveats in the documentation: https://pandas.pydata.org/pandas-docs/stable/user_guide/indexing.html#returning-a-view-versus-a-copy\n",
            "  import sys\n",
            "/usr/local/lib/python3.6/dist-packages/ipykernel_launcher.py:8: SettingWithCopyWarning: \n",
            "A value is trying to be set on a copy of a slice from a DataFrame\n",
            "\n",
            "See the caveats in the documentation: https://pandas.pydata.org/pandas-docs/stable/user_guide/indexing.html#returning-a-view-versus-a-copy\n",
            "  \n",
            "/usr/local/lib/python3.6/dist-packages/ipykernel_launcher.py:9: SettingWithCopyWarning: \n",
            "A value is trying to be set on a copy of a slice from a DataFrame\n",
            "\n",
            "See the caveats in the documentation: https://pandas.pydata.org/pandas-docs/stable/user_guide/indexing.html#returning-a-view-versus-a-copy\n",
            "  if __name__ == '__main__':\n",
            "/usr/local/lib/python3.6/dist-packages/ipykernel_launcher.py:10: SettingWithCopyWarning: \n",
            "A value is trying to be set on a copy of a slice from a DataFrame\n",
            "\n",
            "See the caveats in the documentation: https://pandas.pydata.org/pandas-docs/stable/user_guide/indexing.html#returning-a-view-versus-a-copy\n",
            "  # Remove the CWD from sys.path while we load stuff.\n",
            "/usr/local/lib/python3.6/dist-packages/ipykernel_launcher.py:11: SettingWithCopyWarning: \n",
            "A value is trying to be set on a copy of a slice from a DataFrame\n",
            "\n",
            "See the caveats in the documentation: https://pandas.pydata.org/pandas-docs/stable/user_guide/indexing.html#returning-a-view-versus-a-copy\n",
            "  # This is added back by InteractiveShellApp.init_path()\n",
            "/usr/local/lib/python3.6/dist-packages/ipykernel_launcher.py:12: SettingWithCopyWarning: \n",
            "A value is trying to be set on a copy of a slice from a DataFrame\n",
            "\n",
            "See the caveats in the documentation: https://pandas.pydata.org/pandas-docs/stable/user_guide/indexing.html#returning-a-view-versus-a-copy\n",
            "  if sys.path[0] == '':\n",
            "/usr/local/lib/python3.6/dist-packages/ipykernel_launcher.py:13: SettingWithCopyWarning: \n",
            "A value is trying to be set on a copy of a slice from a DataFrame\n",
            "\n",
            "See the caveats in the documentation: https://pandas.pydata.org/pandas-docs/stable/user_guide/indexing.html#returning-a-view-versus-a-copy\n",
            "  del sys.path[0]\n",
            "/usr/local/lib/python3.6/dist-packages/ipykernel_launcher.py:14: SettingWithCopyWarning: \n",
            "A value is trying to be set on a copy of a slice from a DataFrame\n",
            "\n",
            "See the caveats in the documentation: https://pandas.pydata.org/pandas-docs/stable/user_guide/indexing.html#returning-a-view-versus-a-copy\n",
            "  \n",
            "/usr/local/lib/python3.6/dist-packages/ipykernel_launcher.py:15: SettingWithCopyWarning: \n",
            "A value is trying to be set on a copy of a slice from a DataFrame\n",
            "\n",
            "See the caveats in the documentation: https://pandas.pydata.org/pandas-docs/stable/user_guide/indexing.html#returning-a-view-versus-a-copy\n",
            "  from ipykernel import kernelapp as app\n",
            "/usr/local/lib/python3.6/dist-packages/ipykernel_launcher.py:16: SettingWithCopyWarning: \n",
            "A value is trying to be set on a copy of a slice from a DataFrame\n",
            "\n",
            "See the caveats in the documentation: https://pandas.pydata.org/pandas-docs/stable/user_guide/indexing.html#returning-a-view-versus-a-copy\n",
            "  app.launch_new_instance()\n",
            "/usr/local/lib/python3.6/dist-packages/ipykernel_launcher.py:17: SettingWithCopyWarning: \n",
            "A value is trying to be set on a copy of a slice from a DataFrame\n",
            "\n",
            "See the caveats in the documentation: https://pandas.pydata.org/pandas-docs/stable/user_guide/indexing.html#returning-a-view-versus-a-copy\n"
          ],
          "name": "stderr"
        }
      ]
    },
    {
      "cell_type": "code",
      "metadata": {
        "colab": {
          "base_uri": "https://localhost:8080/"
        },
        "id": "wKYPuFXhfbVm",
        "outputId": "9cfad42c-564d-4318-d173-c841c63f1ec9"
      },
      "source": [
        "train.device_details.value_counts()"
      ],
      "execution_count": null,
      "outputs": [
        {
          "output_type": "execute_result",
          "data": {
            "text/plain": [
              "web          1652\n",
              "iPhone_m     1501\n",
              "iPhone_w      931\n",
              "android_w     343\n",
              "android_m     324\n",
              "ipadweb       287\n",
              "Other         185\n",
              "otherweb       87\n",
              "ipad           77\n",
              "tablet_m        9\n",
              "tablet_w        2\n",
              "Name: device_details, dtype: int64"
            ]
          },
          "metadata": {
            "tags": []
          },
          "execution_count": 311
        }
      ]
    },
    {
      "cell_type": "code",
      "metadata": {
        "colab": {
          "base_uri": "https://localhost:8080/"
        },
        "id": "MdiyRFasfbVm",
        "outputId": "f330ad2b-2bef-4091-998d-9aebe6bfd701"
      },
      "source": [
        "train.device_details[train.device_details == 'Other']"
      ],
      "execution_count": null,
      "outputs": [
        {
          "output_type": "execute_result",
          "data": {
            "text/plain": [
              "19      Other\n",
              "55      Other\n",
              "92      Other\n",
              "108     Other\n",
              "120     Other\n",
              "        ...  \n",
              "5269    Other\n",
              "5280    Other\n",
              "5333    Other\n",
              "5341    Other\n",
              "5354    Other\n",
              "Name: device_details, Length: 185, dtype: object"
            ]
          },
          "metadata": {
            "tags": []
          },
          "execution_count": 312
        }
      ]
    },
    {
      "cell_type": "code",
      "metadata": {
        "colab": {
          "base_uri": "https://localhost:8080/"
        },
        "id": "sf_Vqo2NfbVn",
        "outputId": "935f28ad-89a0-4b31-e28b-80e1649f2f4f"
      },
      "source": [
        "train.loc[92]"
      ],
      "execution_count": null,
      "outputs": [
        {
          "output_type": "execute_result",
          "data": {
            "text/plain": [
              "session_id                       60b10dc38cf71373c0215a4158680616\n",
              "client_agent      Typhoeus - https://github.com/typhoeus/typhoeus\n",
              "device_details                                              Other\n",
              "purchased                                                       0\n",
              "added_in_cart                                                   0\n",
              "checked_out                                                     0\n",
              "time_spent                                                4.94139\n",
              "counts                                                          2\n",
              "Year                                                         2019\n",
              "Month                                                           9\n",
              "Date                                                            3\n",
              "dayofWeek                                                       2\n",
              "Name: 92, dtype: object"
            ]
          },
          "metadata": {
            "tags": []
          },
          "execution_count": 313
        }
      ]
    },
    {
      "cell_type": "code",
      "metadata": {
        "id": "YBX5BGK9fbVn"
      },
      "source": [
        "train[train.client_agent == 'Typhoeus - https://github.com/typhoeus/typhoeus'] = 2"
      ],
      "execution_count": null,
      "outputs": []
    },
    {
      "cell_type": "code",
      "metadata": {
        "colab": {
          "base_uri": "https://localhost:8080/"
        },
        "id": "27_18GGwfbVn",
        "outputId": "c07903bf-bcfe-4dcb-bd8f-b7d07f31aacf"
      },
      "source": [
        "train.shape"
      ],
      "execution_count": null,
      "outputs": [
        {
          "output_type": "execute_result",
          "data": {
            "text/plain": [
              "(5398, 12)"
            ]
          },
          "metadata": {
            "tags": []
          },
          "execution_count": 315
        }
      ]
    },
    {
      "cell_type": "code",
      "metadata": {
        "id": "cU-V9E3tfbVn"
      },
      "source": [
        "train[train.client_agent == '-unknown-'] = 2"
      ],
      "execution_count": null,
      "outputs": []
    },
    {
      "cell_type": "code",
      "metadata": {
        "colab": {
          "base_uri": "https://localhost:8080/"
        },
        "id": "wgyGx54RfbVo",
        "outputId": "04e94b6f-78e2-4b29-cb46-794c7e83fba9"
      },
      "source": [
        "train[train.client_agent == 'Product/4.1.1 CFNetwork/672.0.2 Darwin/14.0.0'].index"
      ],
      "execution_count": null,
      "outputs": [
        {
          "output_type": "execute_result",
          "data": {
            "text/plain": [
              "Int64Index([1486, 2385, 3541, 4304, 4469, 4549, 4819], dtype='int64')"
            ]
          },
          "metadata": {
            "tags": []
          },
          "execution_count": 317
        }
      ]
    },
    {
      "cell_type": "code",
      "metadata": {
        "colab": {
          "base_uri": "https://localhost:8080/"
        },
        "id": "fvD-L9SWfbVo",
        "outputId": "743f7a0e-cc98-489d-edab-354820cca1e7"
      },
      "source": [
        "train.device_details[train.loc[:,\"client_agent\"] == \"Product/4.1.1 CFNetwork/672.0.2 Darwin/14.0.0\"] = \"android_m\""
      ],
      "execution_count": null,
      "outputs": [
        {
          "output_type": "stream",
          "text": [
            "/usr/local/lib/python3.6/dist-packages/ipykernel_launcher.py:1: SettingWithCopyWarning: \n",
            "A value is trying to be set on a copy of a slice from a DataFrame\n",
            "\n",
            "See the caveats in the documentation: https://pandas.pydata.org/pandas-docs/stable/user_guide/indexing.html#returning-a-view-versus-a-copy\n",
            "  \"\"\"Entry point for launching an IPython kernel.\n"
          ],
          "name": "stderr"
        }
      ]
    },
    {
      "cell_type": "code",
      "metadata": {
        "colab": {
          "base_uri": "https://localhost:8080/"
        },
        "id": "ZRutSnC4fbVo",
        "outputId": "1803dfc9-c5aa-4cc9-8624-cf01ed494f24"
      },
      "source": [
        "train.device_details[train.loc[:,\"client_agent\"] == \"Product/4.4.1 CFNetwork/711.1.12 Darwin/14.0.0\"] = \"android_m\""
      ],
      "execution_count": null,
      "outputs": [
        {
          "output_type": "stream",
          "text": [
            "/usr/local/lib/python3.6/dist-packages/ipykernel_launcher.py:1: SettingWithCopyWarning: \n",
            "A value is trying to be set on a copy of a slice from a DataFrame\n",
            "\n",
            "See the caveats in the documentation: https://pandas.pydata.org/pandas-docs/stable/user_guide/indexing.html#returning-a-view-versus-a-copy\n",
            "  \"\"\"Entry point for launching an IPython kernel.\n"
          ],
          "name": "stderr"
        }
      ]
    },
    {
      "cell_type": "code",
      "metadata": {
        "colab": {
          "base_uri": "https://localhost:8080/"
        },
        "id": "WHWkswuKfbVo",
        "outputId": "357c0007-bbfd-443a-fbbb-49afc869e75f"
      },
      "source": [
        "train.device_details[train.loc[:,\"client_agent\"] == \"Opera/9.80 (Macintosh; Intel Mac OS X 10.7.5) Presto/2.12.388 Version/12.16\"] = \"web\""
      ],
      "execution_count": null,
      "outputs": [
        {
          "output_type": "stream",
          "text": [
            "/usr/local/lib/python3.6/dist-packages/ipykernel_launcher.py:1: SettingWithCopyWarning: \n",
            "A value is trying to be set on a copy of a slice from a DataFrame\n",
            "\n",
            "See the caveats in the documentation: https://pandas.pydata.org/pandas-docs/stable/user_guide/indexing.html#returning-a-view-versus-a-copy\n",
            "  \"\"\"Entry point for launching an IPython kernel.\n"
          ],
          "name": "stderr"
        }
      ]
    },
    {
      "cell_type": "code",
      "metadata": {
        "colab": {
          "base_uri": "https://localhost:8080/"
        },
        "id": "s_i4VDrhfbVp",
        "outputId": "19a47a56-0d1c-4850-96f1-01887cb5fb53"
      },
      "source": [
        "train.device_details[train.loc[:,\"client_agent\"] == \"Product/4.4.1 CFNetwork/711.0.6 Darwin/14.0.0\"] = \"android_m\""
      ],
      "execution_count": null,
      "outputs": [
        {
          "output_type": "stream",
          "text": [
            "/usr/local/lib/python3.6/dist-packages/ipykernel_launcher.py:1: SettingWithCopyWarning: \n",
            "A value is trying to be set on a copy of a slice from a DataFrame\n",
            "\n",
            "See the caveats in the documentation: https://pandas.pydata.org/pandas-docs/stable/user_guide/indexing.html#returning-a-view-versus-a-copy\n",
            "  \"\"\"Entry point for launching an IPython kernel.\n"
          ],
          "name": "stderr"
        }
      ]
    },
    {
      "cell_type": "code",
      "metadata": {
        "colab": {
          "base_uri": "https://localhost:8080/"
        },
        "id": "WGCJr53CfbVp",
        "outputId": "fa8b87b4-2bc5-414a-9665-4936b8bfa129"
      },
      "source": [
        "train.device_details[train.loc[:,\"client_agent\"] == \"Product/3.0.1 CFNetwork/672.0.8 Darwin/14.0.0\"] = \"android_m\""
      ],
      "execution_count": null,
      "outputs": [
        {
          "output_type": "stream",
          "text": [
            "/usr/local/lib/python3.6/dist-packages/ipykernel_launcher.py:1: SettingWithCopyWarning: \n",
            "A value is trying to be set on a copy of a slice from a DataFrame\n",
            "\n",
            "See the caveats in the documentation: https://pandas.pydata.org/pandas-docs/stable/user_guide/indexing.html#returning-a-view-versus-a-copy\n",
            "  \"\"\"Entry point for launching an IPython kernel.\n"
          ],
          "name": "stderr"
        }
      ]
    },
    {
      "cell_type": "code",
      "metadata": {
        "colab": {
          "base_uri": "https://localhost:8080/"
        },
        "id": "6J39eGYtfbVp",
        "outputId": "a065c01b-eaf1-4f47-acdd-9028853412ce"
      },
      "source": [
        "train.device_details[train.loc[:,\"client_agent\"] == \"Opera/9.80 (Macintosh; Intel Mac OS X 10.7.5) Presto/2.12.388 Version/12.16\"] = \"web\""
      ],
      "execution_count": null,
      "outputs": [
        {
          "output_type": "stream",
          "text": [
            "/usr/local/lib/python3.6/dist-packages/ipykernel_launcher.py:1: SettingWithCopyWarning: \n",
            "A value is trying to be set on a copy of a slice from a DataFrame\n",
            "\n",
            "See the caveats in the documentation: https://pandas.pydata.org/pandas-docs/stable/user_guide/indexing.html#returning-a-view-versus-a-copy\n",
            "  \"\"\"Entry point for launching an IPython kernel.\n"
          ],
          "name": "stderr"
        }
      ]
    },
    {
      "cell_type": "code",
      "metadata": {
        "colab": {
          "base_uri": "https://localhost:8080/"
        },
        "id": "Qi-SvJxrfbVp",
        "outputId": "687c655d-14f4-41b2-d48a-9e2e4323f0dd"
      },
      "source": [
        "train['device_details'].value_counts()"
      ],
      "execution_count": null,
      "outputs": [
        {
          "output_type": "execute_result",
          "data": {
            "text/plain": [
              "web          1658\n",
              "iPhone_m     1501\n",
              "iPhone_w      931\n",
              "android_w     343\n",
              "android_m     337\n",
              "ipadweb       287\n",
              "Other         134\n",
              "otherweb       87\n",
              "ipad           77\n",
              "2              32\n",
              "tablet_m        9\n",
              "tablet_w        2\n",
              "Name: device_details, dtype: int64"
            ]
          },
          "metadata": {
            "tags": []
          },
          "execution_count": 324
        }
      ]
    },
    {
      "cell_type": "code",
      "metadata": {
        "id": "yg3_CfFnfbVq"
      },
      "source": [
        "for i, row in train.iterrows():\n",
        "    if row['device_details'] == 'Other':\n",
        "        if type(row['client_agent']) is str and 'Android' or 'Darwin' or 'iPhone' or 'iPad' in row['client_agent']:\n",
        "                train.loc[i, 'device_details'] = \"android_m\"\n",
        "        elif type(row['client_agent']) is str and 'Windows' or 'Macintosh' in row['client_agent']:\n",
        "             train.loc[i, 'device_details'] = \"web\"\n",
        "        else:\n",
        "            train.loc[i, 'device_details'] = 2\n",
        "        "
      ],
      "execution_count": null,
      "outputs": []
    },
    {
      "cell_type": "code",
      "metadata": {
        "id": "obQX7kPYfbVq"
      },
      "source": [
        "conditions=[(train[\"purchased\"]==0) & (train[\"added_in_cart\"]==0) & (train[\"checked_out\"]==0),\n",
        "    (train[\"purchased\"]==0) & (train[\"added_in_cart\"]==0) & (train[\"checked_out\"]==1),\n",
        "    (train[\"purchased\"]==0) & (train[\"added_in_cart\"]==1) & (train[\"checked_out\"]==0),\n",
        "    (train[\"purchased\"]==0) & (train[\"added_in_cart\"]==1) & (train[\"checked_out\"]==1),\n",
        "    (train[\"purchased\"]==1) & (train[\"added_in_cart\"]==0) & (train[\"checked_out\"]==0),\n",
        "    (train[\"purchased\"]==1) & (train[\"added_in_cart\"]==0) & (train[\"checked_out\"]==1),\n",
        "    (train[\"purchased\"]==1) & (train[\"added_in_cart\"]==1) & (train[\"checked_out\"]==0),\n",
        "    (train[\"purchased\"]==1) & (train[\"added_in_cart\"]==1) & (train[\"checked_out\"]==1)]\n",
        "\n",
        "values = ['no_activity','chk','add','add_chk','purc','purc_chk','purc_add','purc_add_chk']\n",
        "train['customer_activity'] = np.select(conditions, values)"
      ],
      "execution_count": null,
      "outputs": []
    },
    {
      "cell_type": "code",
      "metadata": {
        "colab": {
          "base_uri": "https://localhost:8080/"
        },
        "id": "6whcwXfsfbVq",
        "outputId": "868108b4-773a-45e2-c61c-1cf8a9cee21a"
      },
      "source": [
        "train['device_details'].value_counts()"
      ],
      "execution_count": null,
      "outputs": [
        {
          "output_type": "execute_result",
          "data": {
            "text/plain": [
              "web          1658\n",
              "iPhone_m     1501\n",
              "iPhone_w      931\n",
              "android_m     471\n",
              "android_w     343\n",
              "ipadweb       287\n",
              "otherweb       87\n",
              "ipad           77\n",
              "2              32\n",
              "tablet_m        9\n",
              "tablet_w        2\n",
              "Name: device_details, dtype: int64"
            ]
          },
          "metadata": {
            "tags": []
          },
          "execution_count": 327
        }
      ]
    },
    {
      "cell_type": "code",
      "metadata": {
        "id": "GFtNOV2SfbVr"
      },
      "source": [
        "train.drop(\"session_id\", axis = 1,inplace = True)"
      ],
      "execution_count": null,
      "outputs": []
    },
    {
      "cell_type": "code",
      "metadata": {
        "colab": {
          "base_uri": "https://localhost:8080/"
        },
        "id": "S_h4QfEvfbVr",
        "outputId": "7e7b41d8-11a4-4fdc-f107-532ef8b96333"
      },
      "source": [
        "train.time_spent"
      ],
      "execution_count": null,
      "outputs": [
        {
          "output_type": "execute_result",
          "data": {
            "text/plain": [
              "0       5.467579\n",
              "1       7.152625\n",
              "2       3.077497\n",
              "3       6.120739\n",
              "4       7.060371\n",
              "          ...   \n",
              "5424    3.025340\n",
              "5425    7.338021\n",
              "5426    3.122849\n",
              "5427    3.037066\n",
              "5428    3.020620\n",
              "Name: time_spent, Length: 5398, dtype: float64"
            ]
          },
          "metadata": {
            "tags": []
          },
          "execution_count": 329
        }
      ]
    },
    {
      "cell_type": "code",
      "metadata": {
        "colab": {
          "base_uri": "https://localhost:8080/",
          "height": 352
        },
        "id": "iswgkNrmfbVr",
        "outputId": "8adffe25-f389-45bb-b354-0fc7149d1a53"
      },
      "source": [
        "sns.distplot(train.time_spent)"
      ],
      "execution_count": null,
      "outputs": [
        {
          "output_type": "stream",
          "text": [
            "/usr/local/lib/python3.6/dist-packages/seaborn/distributions.py:2551: FutureWarning: `distplot` is a deprecated function and will be removed in a future version. Please adapt your code to use either `displot` (a figure-level function with similar flexibility) or `histplot` (an axes-level function for histograms).\n",
            "  warnings.warn(msg, FutureWarning)\n"
          ],
          "name": "stderr"
        },
        {
          "output_type": "execute_result",
          "data": {
            "text/plain": [
              "<matplotlib.axes._subplots.AxesSubplot at 0x7f6f8385c4e0>"
            ]
          },
          "metadata": {
            "tags": []
          },
          "execution_count": 330
        },
        {
          "output_type": "display_data",
          "data": {
            "image/png": "[encoded data removed]",
            "text/plain": [
              "<Figure size 432x288 with 1 Axes>"
            ]
          },
          "metadata": {
            "tags": [],
            "needs_background": "light"
          }
        }
      ]
    },
    {
      "cell_type": "code",
      "metadata": {
        "colab": {
          "base_uri": "https://localhost:8080/",
          "height": 352
        },
        "id": "CwNzDrY7fbVr",
        "outputId": "b03b3836-7f5b-44d2-c2b1-ded2d2413e0e"
      },
      "source": [
        "sns.boxplot(train.time_spent)"
      ],
      "execution_count": null,
      "outputs": [
        {
          "output_type": "stream",
          "text": [
            "/usr/local/lib/python3.6/dist-packages/seaborn/_decorators.py:43: FutureWarning: Pass the following variable as a keyword arg: x. From version 0.12, the only valid positional argument will be `data`, and passing other arguments without an explicit keyword will result in an error or misinterpretation.\n",
            "  FutureWarning\n"
          ],
          "name": "stderr"
        },
        {
          "output_type": "execute_result",
          "data": {
            "text/plain": [
              "<matplotlib.axes._subplots.AxesSubplot at 0x7f6f83702e80>"
            ]
          },
          "metadata": {
            "tags": []
          },
          "execution_count": 331
        },
        {
          "output_type": "display_data",
          "data": {
            "image/png": "[encoded data removed]",
            "text/plain": [
              "<Figure size 432x288 with 1 Axes>"
            ]
          },
          "metadata": {
            "tags": [],
            "needs_background": "light"
          }
        }
      ]
    },
    {
      "cell_type": "code",
      "metadata": {
        "colab": {
          "base_uri": "https://localhost:8080/",
          "height": 297
        },
        "id": "y9trPOUSfbVs",
        "outputId": "09ce8f35-e83a-435c-f82e-62679b64fb60"
      },
      "source": [
        "sns.barplot(x = train.purchased, y = train.time_spent)"
      ],
      "execution_count": null,
      "outputs": [
        {
          "output_type": "execute_result",
          "data": {
            "text/plain": [
              "<matplotlib.axes._subplots.AxesSubplot at 0x7f6f8366b358>"
            ]
          },
          "metadata": {
            "tags": []
          },
          "execution_count": 332
        },
        {
          "output_type": "display_data",
          "data": {
            "image/png": "[encoded data removed]",
            "text/plain": [
              "<Figure size 432x288 with 1 Axes>"
            ]
          },
          "metadata": {
            "tags": [],
            "needs_background": "light"
          }
        }
      ]
    },
    {
      "cell_type": "code",
      "metadata": {
        "colab": {
          "base_uri": "https://localhost:8080/",
          "height": 465
        },
        "id": "Hs-SzqSMfbVs",
        "outputId": "edc799a5-e4f2-494f-b146-acbd7297bd12"
      },
      "source": [
        "train.head()"
      ],
      "execution_count": null,
      "outputs": [
        {
          "output_type": "execute_result",
          "data": {
            "text/html": [
              "<div>\n",
              "<style scoped>\n",
              "    .dataframe tbody tr th:only-of-type {\n",
              "        vertical-align: middle;\n",
              "    }\n",
              "\n",
              "    .dataframe tbody tr th {\n",
              "        vertical-align: top;\n",
              "    }\n",
              "\n",
              "    .dataframe thead th {\n",
              "        text-align: right;\n",
              "    }\n",
              "</style>\n",
              "<table border=\"1\" class=\"dataframe\">\n",
              "  <thead>\n",
              "    <tr style=\"text-align: right;\">\n",
              "      <th></th>\n",
              "      <th>client_agent</th>\n",
              "      <th>device_details</th>\n",
              "      <th>purchased</th>\n",
              "      <th>added_in_cart</th>\n",
              "      <th>checked_out</th>\n",
              "      <th>time_spent</th>\n",
              "      <th>counts</th>\n",
              "      <th>Year</th>\n",
              "      <th>Month</th>\n",
              "      <th>Date</th>\n",
              "      <th>dayofWeek</th>\n",
              "      <th>customer_activity</th>\n",
              "    </tr>\n",
              "  </thead>\n",
              "  <tbody>\n",
              "    <tr>\n",
              "      <th>0</th>\n",
              "      <td>Mozilla/5.0 (Windows NT 6.1; WOW64) AppleWebKi...</td>\n",
              "      <td>web</td>\n",
              "      <td>1</td>\n",
              "      <td>0</td>\n",
              "      <td>0</td>\n",
              "      <td>5.467579</td>\n",
              "      <td>3</td>\n",
              "      <td>2020</td>\n",
              "      <td>1</td>\n",
              "      <td>22</td>\n",
              "      <td>3</td>\n",
              "      <td>purc</td>\n",
              "    </tr>\n",
              "    <tr>\n",
              "      <th>1</th>\n",
              "      <td>Product/8.0 iPhone/8.1.3</td>\n",
              "      <td>iPhone_m</td>\n",
              "      <td>1</td>\n",
              "      <td>0</td>\n",
              "      <td>0</td>\n",
              "      <td>7.152625</td>\n",
              "      <td>4</td>\n",
              "      <td>2020</td>\n",
              "      <td>2</td>\n",
              "      <td>27</td>\n",
              "      <td>4</td>\n",
              "      <td>purc</td>\n",
              "    </tr>\n",
              "    <tr>\n",
              "      <th>2</th>\n",
              "      <td>Mozilla/5.0 (iPhone; CPU iPhone OS 7_1_2 like ...</td>\n",
              "      <td>iPhone_w</td>\n",
              "      <td>0</td>\n",
              "      <td>0</td>\n",
              "      <td>0</td>\n",
              "      <td>3.077497</td>\n",
              "      <td>5</td>\n",
              "      <td>2019</td>\n",
              "      <td>8</td>\n",
              "      <td>1</td>\n",
              "      <td>4</td>\n",
              "      <td>no_activity</td>\n",
              "    </tr>\n",
              "    <tr>\n",
              "      <th>3</th>\n",
              "      <td>Mozilla/5.0 (compatible; MSIE 9.0; Windows NT ...</td>\n",
              "      <td>web</td>\n",
              "      <td>0</td>\n",
              "      <td>1</td>\n",
              "      <td>0</td>\n",
              "      <td>6.120739</td>\n",
              "      <td>1</td>\n",
              "      <td>2019</td>\n",
              "      <td>12</td>\n",
              "      <td>30</td>\n",
              "      <td>1</td>\n",
              "      <td>add</td>\n",
              "    </tr>\n",
              "    <tr>\n",
              "      <th>4</th>\n",
              "      <td>Mozilla/5.0 (iPhone; CPU iPhone OS 7_1_1 like ...</td>\n",
              "      <td>iPhone_w</td>\n",
              "      <td>0</td>\n",
              "      <td>0</td>\n",
              "      <td>0</td>\n",
              "      <td>7.060371</td>\n",
              "      <td>1</td>\n",
              "      <td>2019</td>\n",
              "      <td>9</td>\n",
              "      <td>10</td>\n",
              "      <td>2</td>\n",
              "      <td>no_activity</td>\n",
              "    </tr>\n",
              "  </tbody>\n",
              "</table>\n",
              "</div>"
            ],
            "text/plain": [
              "                                        client_agent  ... customer_activity\n",
              "0  Mozilla/5.0 (Windows NT 6.1; WOW64) AppleWebKi...  ...              purc\n",
              "1                           Product/8.0 iPhone/8.1.3  ...              purc\n",
              "2  Mozilla/5.0 (iPhone; CPU iPhone OS 7_1_2 like ...  ...       no_activity\n",
              "3  Mozilla/5.0 (compatible; MSIE 9.0; Windows NT ...  ...               add\n",
              "4  Mozilla/5.0 (iPhone; CPU iPhone OS 7_1_1 like ...  ...       no_activity\n",
              "\n",
              "[5 rows x 12 columns]"
            ]
          },
          "metadata": {
            "tags": []
          },
          "execution_count": 333
        }
      ]
    },
    {
      "cell_type": "code",
      "metadata": {
        "colab": {
          "base_uri": "https://localhost:8080/"
        },
        "id": "J_RNIE5efbVs",
        "outputId": "62a3f496-efe3-4668-d6f1-cd0f18fa78e4"
      },
      "source": [
        "train.isna().sum()"
      ],
      "execution_count": null,
      "outputs": [
        {
          "output_type": "execute_result",
          "data": {
            "text/plain": [
              "client_agent         160\n",
              "device_details         0\n",
              "purchased              0\n",
              "added_in_cart          0\n",
              "checked_out            0\n",
              "time_spent             0\n",
              "counts                 0\n",
              "Year                   0\n",
              "Month                  0\n",
              "Date                   0\n",
              "dayofWeek              0\n",
              "customer_activity      0\n",
              "dtype: int64"
            ]
          },
          "metadata": {
            "tags": []
          },
          "execution_count": 334
        }
      ]
    },
    {
      "cell_type": "code",
      "metadata": {
        "colab": {
          "base_uri": "https://localhost:8080/"
        },
        "id": "ZlWW_GMVfbVs",
        "outputId": "cfc20f4a-dc89-46dd-b329-d5d795ed1faa"
      },
      "source": [
        "test.session_number.value_counts()"
      ],
      "execution_count": null,
      "outputs": [
        {
          "output_type": "execute_result",
          "data": {
            "text/plain": [
              "11      193\n",
              "22       72\n",
              "33       62\n",
              "44       59\n",
              "55       43\n",
              "       ... \n",
              "2035      1\n",
              "6138      1\n",
              "6116      1\n",
              "4059      1\n",
              "6149      1\n",
              "Name: session_number, Length: 453, dtype: int64"
            ]
          },
          "metadata": {
            "tags": []
          },
          "execution_count": 335
        }
      ]
    },
    {
      "cell_type": "code",
      "metadata": {
        "colab": {
          "base_uri": "https://localhost:8080/"
        },
        "id": "1D6_75lGfbVs",
        "outputId": "9b758da7-d141-4416-a9f1-a2557fbddb66"
      },
      "source": [
        "train.shape"
      ],
      "execution_count": null,
      "outputs": [
        {
          "output_type": "execute_result",
          "data": {
            "text/plain": [
              "(5398, 12)"
            ]
          },
          "metadata": {
            "tags": []
          },
          "execution_count": 336
        }
      ]
    },
    {
      "cell_type": "code",
      "metadata": {
        "colab": {
          "base_uri": "https://localhost:8080/"
        },
        "id": "vwn1GqdefbVt",
        "outputId": "73f730e5-b443-460c-ae05-8e4d6095623c"
      },
      "source": [
        "train[train == ' '].sum()"
      ],
      "execution_count": null,
      "outputs": [
        {
          "output_type": "execute_result",
          "data": {
            "text/plain": [
              "client_agent         0.0\n",
              "device_details       0.0\n",
              "purchased            0.0\n",
              "added_in_cart        0.0\n",
              "checked_out          0.0\n",
              "time_spent           0.0\n",
              "counts               0.0\n",
              "Year                 0.0\n",
              "Month                0.0\n",
              "Date                 0.0\n",
              "dayofWeek            0.0\n",
              "customer_activity    0.0\n",
              "dtype: float64"
            ]
          },
          "metadata": {
            "tags": []
          },
          "execution_count": 337
        }
      ]
    },
    {
      "cell_type": "code",
      "metadata": {
        "id": "wSLDg5MLfbVt"
      },
      "source": [
        "train.drop([\"Date\",\"dayofWeek\"], axis = 1,inplace = True)"
      ],
      "execution_count": null,
      "outputs": []
    },
    {
      "cell_type": "code",
      "metadata": {
        "id": "jvhmrzrYfbVt"
      },
      "source": [
        "train.drop([\"client_agent\"], axis = 1,inplace = True)"
      ],
      "execution_count": null,
      "outputs": []
    },
    {
      "cell_type": "code",
      "metadata": {
        "colab": {
          "base_uri": "https://localhost:8080/",
          "height": 435
        },
        "id": "J1olzBXXfbVt",
        "outputId": "ee33fde8-00b3-4e61-bf7c-49ed7b0bcf85"
      },
      "source": [
        "train"
      ],
      "execution_count": null,
      "outputs": [
        {
          "output_type": "execute_result",
          "data": {
            "text/html": [
              "<div>\n",
              "<style scoped>\n",
              "    .dataframe tbody tr th:only-of-type {\n",
              "        vertical-align: middle;\n",
              "    }\n",
              "\n",
              "    .dataframe tbody tr th {\n",
              "        vertical-align: top;\n",
              "    }\n",
              "\n",
              "    .dataframe thead th {\n",
              "        text-align: right;\n",
              "    }\n",
              "</style>\n",
              "<table border=\"1\" class=\"dataframe\">\n",
              "  <thead>\n",
              "    <tr style=\"text-align: right;\">\n",
              "      <th></th>\n",
              "      <th>device_details</th>\n",
              "      <th>purchased</th>\n",
              "      <th>added_in_cart</th>\n",
              "      <th>checked_out</th>\n",
              "      <th>time_spent</th>\n",
              "      <th>counts</th>\n",
              "      <th>Year</th>\n",
              "      <th>Month</th>\n",
              "      <th>customer_activity</th>\n",
              "    </tr>\n",
              "  </thead>\n",
              "  <tbody>\n",
              "    <tr>\n",
              "      <th>0</th>\n",
              "      <td>web</td>\n",
              "      <td>1</td>\n",
              "      <td>0</td>\n",
              "      <td>0</td>\n",
              "      <td>5.467579</td>\n",
              "      <td>3</td>\n",
              "      <td>2020</td>\n",
              "      <td>1</td>\n",
              "      <td>purc</td>\n",
              "    </tr>\n",
              "    <tr>\n",
              "      <th>1</th>\n",
              "      <td>iPhone_m</td>\n",
              "      <td>1</td>\n",
              "      <td>0</td>\n",
              "      <td>0</td>\n",
              "      <td>7.152625</td>\n",
              "      <td>4</td>\n",
              "      <td>2020</td>\n",
              "      <td>2</td>\n",
              "      <td>purc</td>\n",
              "    </tr>\n",
              "    <tr>\n",
              "      <th>2</th>\n",
              "      <td>iPhone_w</td>\n",
              "      <td>0</td>\n",
              "      <td>0</td>\n",
              "      <td>0</td>\n",
              "      <td>3.077497</td>\n",
              "      <td>5</td>\n",
              "      <td>2019</td>\n",
              "      <td>8</td>\n",
              "      <td>no_activity</td>\n",
              "    </tr>\n",
              "    <tr>\n",
              "      <th>3</th>\n",
              "      <td>web</td>\n",
              "      <td>0</td>\n",
              "      <td>1</td>\n",
              "      <td>0</td>\n",
              "      <td>6.120739</td>\n",
              "      <td>1</td>\n",
              "      <td>2019</td>\n",
              "      <td>12</td>\n",
              "      <td>add</td>\n",
              "    </tr>\n",
              "    <tr>\n",
              "      <th>4</th>\n",
              "      <td>iPhone_w</td>\n",
              "      <td>0</td>\n",
              "      <td>0</td>\n",
              "      <td>0</td>\n",
              "      <td>7.060371</td>\n",
              "      <td>1</td>\n",
              "      <td>2019</td>\n",
              "      <td>9</td>\n",
              "      <td>no_activity</td>\n",
              "    </tr>\n",
              "    <tr>\n",
              "      <th>...</th>\n",
              "      <td>...</td>\n",
              "      <td>...</td>\n",
              "      <td>...</td>\n",
              "      <td>...</td>\n",
              "      <td>...</td>\n",
              "      <td>...</td>\n",
              "      <td>...</td>\n",
              "      <td>...</td>\n",
              "      <td>...</td>\n",
              "    </tr>\n",
              "    <tr>\n",
              "      <th>5424</th>\n",
              "      <td>iPhone_w</td>\n",
              "      <td>0</td>\n",
              "      <td>0</td>\n",
              "      <td>0</td>\n",
              "      <td>3.025340</td>\n",
              "      <td>2</td>\n",
              "      <td>2019</td>\n",
              "      <td>11</td>\n",
              "      <td>no_activity</td>\n",
              "    </tr>\n",
              "    <tr>\n",
              "      <th>5425</th>\n",
              "      <td>iPhone_m</td>\n",
              "      <td>0</td>\n",
              "      <td>0</td>\n",
              "      <td>0</td>\n",
              "      <td>7.338021</td>\n",
              "      <td>1</td>\n",
              "      <td>2019</td>\n",
              "      <td>9</td>\n",
              "      <td>no_activity</td>\n",
              "    </tr>\n",
              "    <tr>\n",
              "      <th>5426</th>\n",
              "      <td>web</td>\n",
              "      <td>0</td>\n",
              "      <td>0</td>\n",
              "      <td>0</td>\n",
              "      <td>3.122849</td>\n",
              "      <td>4</td>\n",
              "      <td>2019</td>\n",
              "      <td>8</td>\n",
              "      <td>no_activity</td>\n",
              "    </tr>\n",
              "    <tr>\n",
              "      <th>5427</th>\n",
              "      <td>otherweb</td>\n",
              "      <td>0</td>\n",
              "      <td>0</td>\n",
              "      <td>0</td>\n",
              "      <td>3.037066</td>\n",
              "      <td>3</td>\n",
              "      <td>2019</td>\n",
              "      <td>6</td>\n",
              "      <td>no_activity</td>\n",
              "    </tr>\n",
              "    <tr>\n",
              "      <th>5428</th>\n",
              "      <td>iPhone_w</td>\n",
              "      <td>0</td>\n",
              "      <td>0</td>\n",
              "      <td>0</td>\n",
              "      <td>3.020620</td>\n",
              "      <td>1</td>\n",
              "      <td>2019</td>\n",
              "      <td>10</td>\n",
              "      <td>no_activity</td>\n",
              "    </tr>\n",
              "  </tbody>\n",
              "</table>\n",
              "<p>5398 rows × 9 columns</p>\n",
              "</div>"
            ],
            "text/plain": [
              "     device_details  purchased  added_in_cart  ...  Year  Month  customer_activity\n",
              "0               web          1              0  ...  2020      1               purc\n",
              "1          iPhone_m          1              0  ...  2020      2               purc\n",
              "2          iPhone_w          0              0  ...  2019      8        no_activity\n",
              "3               web          0              1  ...  2019     12                add\n",
              "4          iPhone_w          0              0  ...  2019      9        no_activity\n",
              "...             ...        ...            ...  ...   ...    ...                ...\n",
              "5424       iPhone_w          0              0  ...  2019     11        no_activity\n",
              "5425       iPhone_m          0              0  ...  2019      9        no_activity\n",
              "5426            web          0              0  ...  2019      8        no_activity\n",
              "5427       otherweb          0              0  ...  2019      6        no_activity\n",
              "5428       iPhone_w          0              0  ...  2019     10        no_activity\n",
              "\n",
              "[5398 rows x 9 columns]"
            ]
          },
          "metadata": {
            "tags": []
          },
          "execution_count": 340
        }
      ]
    },
    {
      "cell_type": "code",
      "metadata": {
        "id": "8eTrjPVmfbVu"
      },
      "source": [
        "device_details = pd.get_dummies(train['device_details'],drop_first=True)"
      ],
      "execution_count": null,
      "outputs": []
    },
    {
      "cell_type": "code",
      "metadata": {
        "colab": {
          "base_uri": "https://localhost:8080/",
          "height": 415
        },
        "id": "RkOpgut5fbVu",
        "outputId": "665a0f50-5c50-44a7-8734-08223899521e"
      },
      "source": [
        "device_details"
      ],
      "execution_count": null,
      "outputs": [
        {
          "output_type": "execute_result",
          "data": {
            "text/html": [
              "<div>\n",
              "<style scoped>\n",
              "    .dataframe tbody tr th:only-of-type {\n",
              "        vertical-align: middle;\n",
              "    }\n",
              "\n",
              "    .dataframe tbody tr th {\n",
              "        vertical-align: top;\n",
              "    }\n",
              "\n",
              "    .dataframe thead th {\n",
              "        text-align: right;\n",
              "    }\n",
              "</style>\n",
              "<table border=\"1\" class=\"dataframe\">\n",
              "  <thead>\n",
              "    <tr style=\"text-align: right;\">\n",
              "      <th></th>\n",
              "      <th>android_m</th>\n",
              "      <th>android_w</th>\n",
              "      <th>iPhone_m</th>\n",
              "      <th>iPhone_w</th>\n",
              "      <th>ipad</th>\n",
              "      <th>ipadweb</th>\n",
              "      <th>otherweb</th>\n",
              "      <th>tablet_m</th>\n",
              "      <th>tablet_w</th>\n",
              "      <th>web</th>\n",
              "    </tr>\n",
              "  </thead>\n",
              "  <tbody>\n",
              "    <tr>\n",
              "      <th>0</th>\n",
              "      <td>0</td>\n",
              "      <td>0</td>\n",
              "      <td>0</td>\n",
              "      <td>0</td>\n",
              "      <td>0</td>\n",
              "      <td>0</td>\n",
              "      <td>0</td>\n",
              "      <td>0</td>\n",
              "      <td>0</td>\n",
              "      <td>1</td>\n",
              "    </tr>\n",
              "    <tr>\n",
              "      <th>1</th>\n",
              "      <td>0</td>\n",
              "      <td>0</td>\n",
              "      <td>1</td>\n",
              "      <td>0</td>\n",
              "      <td>0</td>\n",
              "      <td>0</td>\n",
              "      <td>0</td>\n",
              "      <td>0</td>\n",
              "      <td>0</td>\n",
              "      <td>0</td>\n",
              "    </tr>\n",
              "    <tr>\n",
              "      <th>2</th>\n",
              "      <td>0</td>\n",
              "      <td>0</td>\n",
              "      <td>0</td>\n",
              "      <td>1</td>\n",
              "      <td>0</td>\n",
              "      <td>0</td>\n",
              "      <td>0</td>\n",
              "      <td>0</td>\n",
              "      <td>0</td>\n",
              "      <td>0</td>\n",
              "    </tr>\n",
              "    <tr>\n",
              "      <th>3</th>\n",
              "      <td>0</td>\n",
              "      <td>0</td>\n",
              "      <td>0</td>\n",
              "      <td>0</td>\n",
              "      <td>0</td>\n",
              "      <td>0</td>\n",
              "      <td>0</td>\n",
              "      <td>0</td>\n",
              "      <td>0</td>\n",
              "      <td>1</td>\n",
              "    </tr>\n",
              "    <tr>\n",
              "      <th>4</th>\n",
              "      <td>0</td>\n",
              "      <td>0</td>\n",
              "      <td>0</td>\n",
              "      <td>1</td>\n",
              "      <td>0</td>\n",
              "      <td>0</td>\n",
              "      <td>0</td>\n",
              "      <td>0</td>\n",
              "      <td>0</td>\n",
              "      <td>0</td>\n",
              "    </tr>\n",
              "    <tr>\n",
              "      <th>...</th>\n",
              "      <td>...</td>\n",
              "      <td>...</td>\n",
              "      <td>...</td>\n",
              "      <td>...</td>\n",
              "      <td>...</td>\n",
              "      <td>...</td>\n",
              "      <td>...</td>\n",
              "      <td>...</td>\n",
              "      <td>...</td>\n",
              "      <td>...</td>\n",
              "    </tr>\n",
              "    <tr>\n",
              "      <th>5424</th>\n",
              "      <td>0</td>\n",
              "      <td>0</td>\n",
              "      <td>0</td>\n",
              "      <td>1</td>\n",
              "      <td>0</td>\n",
              "      <td>0</td>\n",
              "      <td>0</td>\n",
              "      <td>0</td>\n",
              "      <td>0</td>\n",
              "      <td>0</td>\n",
              "    </tr>\n",
              "    <tr>\n",
              "      <th>5425</th>\n",
              "      <td>0</td>\n",
              "      <td>0</td>\n",
              "      <td>1</td>\n",
              "      <td>0</td>\n",
              "      <td>0</td>\n",
              "      <td>0</td>\n",
              "      <td>0</td>\n",
              "      <td>0</td>\n",
              "      <td>0</td>\n",
              "      <td>0</td>\n",
              "    </tr>\n",
              "    <tr>\n",
              "      <th>5426</th>\n",
              "      <td>0</td>\n",
              "      <td>0</td>\n",
              "      <td>0</td>\n",
              "      <td>0</td>\n",
              "      <td>0</td>\n",
              "      <td>0</td>\n",
              "      <td>0</td>\n",
              "      <td>0</td>\n",
              "      <td>0</td>\n",
              "      <td>1</td>\n",
              "    </tr>\n",
              "    <tr>\n",
              "      <th>5427</th>\n",
              "      <td>0</td>\n",
              "      <td>0</td>\n",
              "      <td>0</td>\n",
              "      <td>0</td>\n",
              "      <td>0</td>\n",
              "      <td>0</td>\n",
              "      <td>1</td>\n",
              "      <td>0</td>\n",
              "      <td>0</td>\n",
              "      <td>0</td>\n",
              "    </tr>\n",
              "    <tr>\n",
              "      <th>5428</th>\n",
              "      <td>0</td>\n",
              "      <td>0</td>\n",
              "      <td>0</td>\n",
              "      <td>1</td>\n",
              "      <td>0</td>\n",
              "      <td>0</td>\n",
              "      <td>0</td>\n",
              "      <td>0</td>\n",
              "      <td>0</td>\n",
              "      <td>0</td>\n",
              "    </tr>\n",
              "  </tbody>\n",
              "</table>\n",
              "<p>5398 rows × 10 columns</p>\n",
              "</div>"
            ],
            "text/plain": [
              "      android_m  android_w  iPhone_m  ...  tablet_m  tablet_w  web\n",
              "0             0          0         0  ...         0         0    1\n",
              "1             0          0         1  ...         0         0    0\n",
              "2             0          0         0  ...         0         0    0\n",
              "3             0          0         0  ...         0         0    1\n",
              "4             0          0         0  ...         0         0    0\n",
              "...         ...        ...       ...  ...       ...       ...  ...\n",
              "5424          0          0         0  ...         0         0    0\n",
              "5425          0          0         1  ...         0         0    0\n",
              "5426          0          0         0  ...         0         0    1\n",
              "5427          0          0         0  ...         0         0    0\n",
              "5428          0          0         0  ...         0         0    0\n",
              "\n",
              "[5398 rows x 10 columns]"
            ]
          },
          "metadata": {
            "tags": []
          },
          "execution_count": 342
        }
      ]
    },
    {
      "cell_type": "code",
      "metadata": {
        "id": "F_7K1S9hfbVu"
      },
      "source": [
        "Year = pd.get_dummies(train['Year'],drop_first=True)"
      ],
      "execution_count": null,
      "outputs": []
    },
    {
      "cell_type": "code",
      "metadata": {
        "colab": {
          "base_uri": "https://localhost:8080/"
        },
        "id": "3gnc8iMgfbVu",
        "outputId": "7787b9cb-48d8-4180-ab77-79c34d6aec07"
      },
      "source": [
        "train.Month[train.loc[:,\"Month\"] == 1] = \"qtr1\"\n",
        "train.Month[train.loc[:,\"Month\"] == 2] = \"qtr1\"\n",
        "train.Month[train.loc[:,\"Month\"] == 3] = \"qtr1\"\n",
        "train.Month[train.loc[:,\"Month\"] == 4] = \"qtr2\"\n",
        "train.Month[train.loc[:,\"Month\"] == 5] = \"qtr2\"\n",
        "train.Month[train.loc[:,\"Month\"] == 6] = \"qtr2\"\n",
        "train.Month[train.loc[:,\"Month\"] == 7] = \"qtr3\"\n",
        "train.Month[train.loc[:,\"Month\"] == 8] = \"qtr3\"\n",
        "train.Month[train.loc[:,\"Month\"] == 9] = \"qtr3\"\n",
        "train.Month[train.loc[:,\"Month\"] == 10] = \"qtr4\"\n",
        "train.Month[train.loc[:,\"Month\"] == 11] = \"qtr4\"\n",
        "train.Month[train.loc[:,\"Month\"] == 12] = \"qtr4\""
      ],
      "execution_count": null,
      "outputs": [
        {
          "output_type": "stream",
          "text": [
            "/usr/local/lib/python3.6/dist-packages/ipykernel_launcher.py:1: SettingWithCopyWarning: \n",
            "A value is trying to be set on a copy of a slice from a DataFrame\n",
            "\n",
            "See the caveats in the documentation: https://pandas.pydata.org/pandas-docs/stable/user_guide/indexing.html#returning-a-view-versus-a-copy\n",
            "  \"\"\"Entry point for launching an IPython kernel.\n"
          ],
          "name": "stderr"
        }
      ]
    },
    {
      "cell_type": "code",
      "metadata": {
        "id": "f6k-I5N7fbVu"
      },
      "source": [
        "Month = pd.get_dummies(train['Month'],drop_first=True)"
      ],
      "execution_count": null,
      "outputs": []
    },
    {
      "cell_type": "code",
      "metadata": {
        "colab": {
          "base_uri": "https://localhost:8080/",
          "height": 415
        },
        "id": "Wk5mfY-gfbVu",
        "outputId": "2860638c-e0db-4089-d9a5-0e33b478ea2e"
      },
      "source": [
        "Year"
      ],
      "execution_count": null,
      "outputs": [
        {
          "output_type": "execute_result",
          "data": {
            "text/html": [
              "<div>\n",
              "<style scoped>\n",
              "    .dataframe tbody tr th:only-of-type {\n",
              "        vertical-align: middle;\n",
              "    }\n",
              "\n",
              "    .dataframe tbody tr th {\n",
              "        vertical-align: top;\n",
              "    }\n",
              "\n",
              "    .dataframe thead th {\n",
              "        text-align: right;\n",
              "    }\n",
              "</style>\n",
              "<table border=\"1\" class=\"dataframe\">\n",
              "  <thead>\n",
              "    <tr style=\"text-align: right;\">\n",
              "      <th></th>\n",
              "      <th>2019</th>\n",
              "      <th>2020</th>\n",
              "    </tr>\n",
              "  </thead>\n",
              "  <tbody>\n",
              "    <tr>\n",
              "      <th>0</th>\n",
              "      <td>0</td>\n",
              "      <td>1</td>\n",
              "    </tr>\n",
              "    <tr>\n",
              "      <th>1</th>\n",
              "      <td>0</td>\n",
              "      <td>1</td>\n",
              "    </tr>\n",
              "    <tr>\n",
              "      <th>2</th>\n",
              "      <td>1</td>\n",
              "      <td>0</td>\n",
              "    </tr>\n",
              "    <tr>\n",
              "      <th>3</th>\n",
              "      <td>1</td>\n",
              "      <td>0</td>\n",
              "    </tr>\n",
              "    <tr>\n",
              "      <th>4</th>\n",
              "      <td>1</td>\n",
              "      <td>0</td>\n",
              "    </tr>\n",
              "    <tr>\n",
              "      <th>...</th>\n",
              "      <td>...</td>\n",
              "      <td>...</td>\n",
              "    </tr>\n",
              "    <tr>\n",
              "      <th>5424</th>\n",
              "      <td>1</td>\n",
              "      <td>0</td>\n",
              "    </tr>\n",
              "    <tr>\n",
              "      <th>5425</th>\n",
              "      <td>1</td>\n",
              "      <td>0</td>\n",
              "    </tr>\n",
              "    <tr>\n",
              "      <th>5426</th>\n",
              "      <td>1</td>\n",
              "      <td>0</td>\n",
              "    </tr>\n",
              "    <tr>\n",
              "      <th>5427</th>\n",
              "      <td>1</td>\n",
              "      <td>0</td>\n",
              "    </tr>\n",
              "    <tr>\n",
              "      <th>5428</th>\n",
              "      <td>1</td>\n",
              "      <td>0</td>\n",
              "    </tr>\n",
              "  </tbody>\n",
              "</table>\n",
              "<p>5398 rows × 2 columns</p>\n",
              "</div>"
            ],
            "text/plain": [
              "      2019  2020\n",
              "0        0     1\n",
              "1        0     1\n",
              "2        1     0\n",
              "3        1     0\n",
              "4        1     0\n",
              "...    ...   ...\n",
              "5424     1     0\n",
              "5425     1     0\n",
              "5426     1     0\n",
              "5427     1     0\n",
              "5428     1     0\n",
              "\n",
              "[5398 rows x 2 columns]"
            ]
          },
          "metadata": {
            "tags": []
          },
          "execution_count": 346
        }
      ]
    },
    {
      "cell_type": "code",
      "metadata": {
        "id": "oPN3DpaSfbVv"
      },
      "source": [
        "train.drop([\"device_details\",\"Year\",\"Month\"], axis = 1,inplace = True)"
      ],
      "execution_count": null,
      "outputs": []
    },
    {
      "cell_type": "code",
      "metadata": {
        "colab": {
          "base_uri": "https://localhost:8080/"
        },
        "id": "lgrJ7kDUfbVv",
        "outputId": "69aa4c97-dcfe-47ee-84ee-66969f352589"
      },
      "source": [
        "train.checked_out.value_counts()"
      ],
      "execution_count": null,
      "outputs": [
        {
          "output_type": "execute_result",
          "data": {
            "text/plain": [
              "0    5274\n",
              "1      92\n",
              "2      32\n",
              "Name: checked_out, dtype: int64"
            ]
          },
          "metadata": {
            "tags": []
          },
          "execution_count": 348
        }
      ]
    },
    {
      "cell_type": "code",
      "metadata": {
        "id": "NdLgxuAbfbVv"
      },
      "source": [
        "train = pd.concat([train,device_details,Year,Month], axis=1)"
      ],
      "execution_count": null,
      "outputs": []
    },
    {
      "cell_type": "code",
      "metadata": {
        "id": "DbvMzC9TfbVv"
      },
      "source": [
        "train.drop([\"purchased\",\"added_in_cart\",\"checked_out\"], axis = 1,inplace = True)"
      ],
      "execution_count": null,
      "outputs": []
    },
    {
      "cell_type": "code",
      "metadata": {
        "id": "62sFMtDofbVv"
      },
      "source": [
        "train = pd.get_dummies(train, columns=['customer_activity'])"
      ],
      "execution_count": null,
      "outputs": []
    },
    {
      "cell_type": "code",
      "metadata": {
        "id": "67m1vmiffbVv"
      },
      "source": [
        "train = pd.get_dummies(train, columns=['counts'])"
      ],
      "execution_count": null,
      "outputs": []
    },
    {
      "cell_type": "code",
      "metadata": {
        "id": "Rf-32XxkfbVw"
      },
      "source": [
        "train.drop(\"counts_1\",axis =1, inplace = True)"
      ],
      "execution_count": null,
      "outputs": []
    },
    {
      "cell_type": "code",
      "metadata": {
        "id": "Z_SkXINhfbVw"
      },
      "source": [
        "train.drop([\"customer_activity_0\"], axis = 1,inplace = True)"
      ],
      "execution_count": null,
      "outputs": []
    },
    {
      "cell_type": "code",
      "metadata": {
        "colab": {
          "base_uri": "https://localhost:8080/",
          "height": 435
        },
        "id": "K85EKHDsfbVw",
        "outputId": "e5e2fd0d-66ee-41b3-dfc5-3f58fcc17c30"
      },
      "source": [
        "train"
      ],
      "execution_count": null,
      "outputs": [
        {
          "output_type": "execute_result",
          "data": {
            "text/html": [
              "<div>\n",
              "<style scoped>\n",
              "    .dataframe tbody tr th:only-of-type {\n",
              "        vertical-align: middle;\n",
              "    }\n",
              "\n",
              "    .dataframe tbody tr th {\n",
              "        vertical-align: top;\n",
              "    }\n",
              "\n",
              "    .dataframe thead th {\n",
              "        text-align: right;\n",
              "    }\n",
              "</style>\n",
              "<table border=\"1\" class=\"dataframe\">\n",
              "  <thead>\n",
              "    <tr style=\"text-align: right;\">\n",
              "      <th></th>\n",
              "      <th>time_spent</th>\n",
              "      <th>android_m</th>\n",
              "      <th>android_w</th>\n",
              "      <th>iPhone_m</th>\n",
              "      <th>iPhone_w</th>\n",
              "      <th>ipad</th>\n",
              "      <th>ipadweb</th>\n",
              "      <th>otherweb</th>\n",
              "      <th>tablet_m</th>\n",
              "      <th>tablet_w</th>\n",
              "      <th>web</th>\n",
              "      <th>2019</th>\n",
              "      <th>2020</th>\n",
              "      <th>qtr2</th>\n",
              "      <th>qtr3</th>\n",
              "      <th>qtr4</th>\n",
              "      <th>customer_activity_add</th>\n",
              "      <th>customer_activity_add_chk</th>\n",
              "      <th>customer_activity_chk</th>\n",
              "      <th>customer_activity_no_activity</th>\n",
              "      <th>customer_activity_purc</th>\n",
              "      <th>customer_activity_purc_add</th>\n",
              "      <th>customer_activity_purc_add_chk</th>\n",
              "      <th>customer_activity_purc_chk</th>\n",
              "      <th>counts_2</th>\n",
              "      <th>counts_3</th>\n",
              "      <th>counts_4</th>\n",
              "      <th>counts_5</th>\n",
              "    </tr>\n",
              "  </thead>\n",
              "  <tbody>\n",
              "    <tr>\n",
              "      <th>0</th>\n",
              "      <td>5.467579</td>\n",
              "      <td>0</td>\n",
              "      <td>0</td>\n",
              "      <td>0</td>\n",
              "      <td>0</td>\n",
              "      <td>0</td>\n",
              "      <td>0</td>\n",
              "      <td>0</td>\n",
              "      <td>0</td>\n",
              "      <td>0</td>\n",
              "      <td>1</td>\n",
              "      <td>0</td>\n",
              "      <td>1</td>\n",
              "      <td>0</td>\n",
              "      <td>0</td>\n",
              "      <td>0</td>\n",
              "      <td>0</td>\n",
              "      <td>0</td>\n",
              "      <td>0</td>\n",
              "      <td>0</td>\n",
              "      <td>1</td>\n",
              "      <td>0</td>\n",
              "      <td>0</td>\n",
              "      <td>0</td>\n",
              "      <td>0</td>\n",
              "      <td>1</td>\n",
              "      <td>0</td>\n",
              "      <td>0</td>\n",
              "    </tr>\n",
              "    <tr>\n",
              "      <th>1</th>\n",
              "      <td>7.152625</td>\n",
              "      <td>0</td>\n",
              "      <td>0</td>\n",
              "      <td>1</td>\n",
              "      <td>0</td>\n",
              "      <td>0</td>\n",
              "      <td>0</td>\n",
              "      <td>0</td>\n",
              "      <td>0</td>\n",
              "      <td>0</td>\n",
              "      <td>0</td>\n",
              "      <td>0</td>\n",
              "      <td>1</td>\n",
              "      <td>0</td>\n",
              "      <td>0</td>\n",
              "      <td>0</td>\n",
              "      <td>0</td>\n",
              "      <td>0</td>\n",
              "      <td>0</td>\n",
              "      <td>0</td>\n",
              "      <td>1</td>\n",
              "      <td>0</td>\n",
              "      <td>0</td>\n",
              "      <td>0</td>\n",
              "      <td>0</td>\n",
              "      <td>0</td>\n",
              "      <td>1</td>\n",
              "      <td>0</td>\n",
              "    </tr>\n",
              "    <tr>\n",
              "      <th>2</th>\n",
              "      <td>3.077497</td>\n",
              "      <td>0</td>\n",
              "      <td>0</td>\n",
              "      <td>0</td>\n",
              "      <td>1</td>\n",
              "      <td>0</td>\n",
              "      <td>0</td>\n",
              "      <td>0</td>\n",
              "      <td>0</td>\n",
              "      <td>0</td>\n",
              "      <td>0</td>\n",
              "      <td>1</td>\n",
              "      <td>0</td>\n",
              "      <td>0</td>\n",
              "      <td>1</td>\n",
              "      <td>0</td>\n",
              "      <td>0</td>\n",
              "      <td>0</td>\n",
              "      <td>0</td>\n",
              "      <td>1</td>\n",
              "      <td>0</td>\n",
              "      <td>0</td>\n",
              "      <td>0</td>\n",
              "      <td>0</td>\n",
              "      <td>0</td>\n",
              "      <td>0</td>\n",
              "      <td>0</td>\n",
              "      <td>1</td>\n",
              "    </tr>\n",
              "    <tr>\n",
              "      <th>3</th>\n",
              "      <td>6.120739</td>\n",
              "      <td>0</td>\n",
              "      <td>0</td>\n",
              "      <td>0</td>\n",
              "      <td>0</td>\n",
              "      <td>0</td>\n",
              "      <td>0</td>\n",
              "      <td>0</td>\n",
              "      <td>0</td>\n",
              "      <td>0</td>\n",
              "      <td>1</td>\n",
              "      <td>1</td>\n",
              "      <td>0</td>\n",
              "      <td>0</td>\n",
              "      <td>0</td>\n",
              "      <td>1</td>\n",
              "      <td>1</td>\n",
              "      <td>0</td>\n",
              "      <td>0</td>\n",
              "      <td>0</td>\n",
              "      <td>0</td>\n",
              "      <td>0</td>\n",
              "      <td>0</td>\n",
              "      <td>0</td>\n",
              "      <td>0</td>\n",
              "      <td>0</td>\n",
              "      <td>0</td>\n",
              "      <td>0</td>\n",
              "    </tr>\n",
              "    <tr>\n",
              "      <th>4</th>\n",
              "      <td>7.060371</td>\n",
              "      <td>0</td>\n",
              "      <td>0</td>\n",
              "      <td>0</td>\n",
              "      <td>1</td>\n",
              "      <td>0</td>\n",
              "      <td>0</td>\n",
              "      <td>0</td>\n",
              "      <td>0</td>\n",
              "      <td>0</td>\n",
              "      <td>0</td>\n",
              "      <td>1</td>\n",
              "      <td>0</td>\n",
              "      <td>0</td>\n",
              "      <td>1</td>\n",
              "      <td>0</td>\n",
              "      <td>0</td>\n",
              "      <td>0</td>\n",
              "      <td>0</td>\n",
              "      <td>1</td>\n",
              "      <td>0</td>\n",
              "      <td>0</td>\n",
              "      <td>0</td>\n",
              "      <td>0</td>\n",
              "      <td>0</td>\n",
              "      <td>0</td>\n",
              "      <td>0</td>\n",
              "      <td>0</td>\n",
              "    </tr>\n",
              "    <tr>\n",
              "      <th>...</th>\n",
              "      <td>...</td>\n",
              "      <td>...</td>\n",
              "      <td>...</td>\n",
              "      <td>...</td>\n",
              "      <td>...</td>\n",
              "      <td>...</td>\n",
              "      <td>...</td>\n",
              "      <td>...</td>\n",
              "      <td>...</td>\n",
              "      <td>...</td>\n",
              "      <td>...</td>\n",
              "      <td>...</td>\n",
              "      <td>...</td>\n",
              "      <td>...</td>\n",
              "      <td>...</td>\n",
              "      <td>...</td>\n",
              "      <td>...</td>\n",
              "      <td>...</td>\n",
              "      <td>...</td>\n",
              "      <td>...</td>\n",
              "      <td>...</td>\n",
              "      <td>...</td>\n",
              "      <td>...</td>\n",
              "      <td>...</td>\n",
              "      <td>...</td>\n",
              "      <td>...</td>\n",
              "      <td>...</td>\n",
              "      <td>...</td>\n",
              "    </tr>\n",
              "    <tr>\n",
              "      <th>5424</th>\n",
              "      <td>3.025340</td>\n",
              "      <td>0</td>\n",
              "      <td>0</td>\n",
              "      <td>0</td>\n",
              "      <td>1</td>\n",
              "      <td>0</td>\n",
              "      <td>0</td>\n",
              "      <td>0</td>\n",
              "      <td>0</td>\n",
              "      <td>0</td>\n",
              "      <td>0</td>\n",
              "      <td>1</td>\n",
              "      <td>0</td>\n",
              "      <td>0</td>\n",
              "      <td>0</td>\n",
              "      <td>1</td>\n",
              "      <td>0</td>\n",
              "      <td>0</td>\n",
              "      <td>0</td>\n",
              "      <td>1</td>\n",
              "      <td>0</td>\n",
              "      <td>0</td>\n",
              "      <td>0</td>\n",
              "      <td>0</td>\n",
              "      <td>1</td>\n",
              "      <td>0</td>\n",
              "      <td>0</td>\n",
              "      <td>0</td>\n",
              "    </tr>\n",
              "    <tr>\n",
              "      <th>5425</th>\n",
              "      <td>7.338021</td>\n",
              "      <td>0</td>\n",
              "      <td>0</td>\n",
              "      <td>1</td>\n",
              "      <td>0</td>\n",
              "      <td>0</td>\n",
              "      <td>0</td>\n",
              "      <td>0</td>\n",
              "      <td>0</td>\n",
              "      <td>0</td>\n",
              "      <td>0</td>\n",
              "      <td>1</td>\n",
              "      <td>0</td>\n",
              "      <td>0</td>\n",
              "      <td>1</td>\n",
              "      <td>0</td>\n",
              "      <td>0</td>\n",
              "      <td>0</td>\n",
              "      <td>0</td>\n",
              "      <td>1</td>\n",
              "      <td>0</td>\n",
              "      <td>0</td>\n",
              "      <td>0</td>\n",
              "      <td>0</td>\n",
              "      <td>0</td>\n",
              "      <td>0</td>\n",
              "      <td>0</td>\n",
              "      <td>0</td>\n",
              "    </tr>\n",
              "    <tr>\n",
              "      <th>5426</th>\n",
              "      <td>3.122849</td>\n",
              "      <td>0</td>\n",
              "      <td>0</td>\n",
              "      <td>0</td>\n",
              "      <td>0</td>\n",
              "      <td>0</td>\n",
              "      <td>0</td>\n",
              "      <td>0</td>\n",
              "      <td>0</td>\n",
              "      <td>0</td>\n",
              "      <td>1</td>\n",
              "      <td>1</td>\n",
              "      <td>0</td>\n",
              "      <td>0</td>\n",
              "      <td>1</td>\n",
              "      <td>0</td>\n",
              "      <td>0</td>\n",
              "      <td>0</td>\n",
              "      <td>0</td>\n",
              "      <td>1</td>\n",
              "      <td>0</td>\n",
              "      <td>0</td>\n",
              "      <td>0</td>\n",
              "      <td>0</td>\n",
              "      <td>0</td>\n",
              "      <td>0</td>\n",
              "      <td>1</td>\n",
              "      <td>0</td>\n",
              "    </tr>\n",
              "    <tr>\n",
              "      <th>5427</th>\n",
              "      <td>3.037066</td>\n",
              "      <td>0</td>\n",
              "      <td>0</td>\n",
              "      <td>0</td>\n",
              "      <td>0</td>\n",
              "      <td>0</td>\n",
              "      <td>0</td>\n",
              "      <td>1</td>\n",
              "      <td>0</td>\n",
              "      <td>0</td>\n",
              "      <td>0</td>\n",
              "      <td>1</td>\n",
              "      <td>0</td>\n",
              "      <td>1</td>\n",
              "      <td>0</td>\n",
              "      <td>0</td>\n",
              "      <td>0</td>\n",
              "      <td>0</td>\n",
              "      <td>0</td>\n",
              "      <td>1</td>\n",
              "      <td>0</td>\n",
              "      <td>0</td>\n",
              "      <td>0</td>\n",
              "      <td>0</td>\n",
              "      <td>0</td>\n",
              "      <td>1</td>\n",
              "      <td>0</td>\n",
              "      <td>0</td>\n",
              "    </tr>\n",
              "    <tr>\n",
              "      <th>5428</th>\n",
              "      <td>3.020620</td>\n",
              "      <td>0</td>\n",
              "      <td>0</td>\n",
              "      <td>0</td>\n",
              "      <td>1</td>\n",
              "      <td>0</td>\n",
              "      <td>0</td>\n",
              "      <td>0</td>\n",
              "      <td>0</td>\n",
              "      <td>0</td>\n",
              "      <td>0</td>\n",
              "      <td>1</td>\n",
              "      <td>0</td>\n",
              "      <td>0</td>\n",
              "      <td>0</td>\n",
              "      <td>1</td>\n",
              "      <td>0</td>\n",
              "      <td>0</td>\n",
              "      <td>0</td>\n",
              "      <td>1</td>\n",
              "      <td>0</td>\n",
              "      <td>0</td>\n",
              "      <td>0</td>\n",
              "      <td>0</td>\n",
              "      <td>0</td>\n",
              "      <td>0</td>\n",
              "      <td>0</td>\n",
              "      <td>0</td>\n",
              "    </tr>\n",
              "  </tbody>\n",
              "</table>\n",
              "<p>5398 rows × 28 columns</p>\n",
              "</div>"
            ],
            "text/plain": [
              "      time_spent  android_m  android_w  ...  counts_3  counts_4  counts_5\n",
              "0       5.467579          0          0  ...         1         0         0\n",
              "1       7.152625          0          0  ...         0         1         0\n",
              "2       3.077497          0          0  ...         0         0         1\n",
              "3       6.120739          0          0  ...         0         0         0\n",
              "4       7.060371          0          0  ...         0         0         0\n",
              "...          ...        ...        ...  ...       ...       ...       ...\n",
              "5424    3.025340          0          0  ...         0         0         0\n",
              "5425    7.338021          0          0  ...         0         0         0\n",
              "5426    3.122849          0          0  ...         0         1         0\n",
              "5427    3.037066          0          0  ...         1         0         0\n",
              "5428    3.020620          0          0  ...         0         0         0\n",
              "\n",
              "[5398 rows x 28 columns]"
            ]
          },
          "metadata": {
            "tags": []
          },
          "execution_count": 355
        }
      ]
    },
    {
      "cell_type": "code",
      "metadata": {
        "colab": {
          "base_uri": "https://localhost:8080/",
          "height": 411
        },
        "id": "iQoEQ3esfbVw",
        "outputId": "a47323ed-f4f5-42d4-e2cd-c2c8afc68c43"
      },
      "source": [
        "corr_matrix = train.corr()\n",
        "f , ax = plt.subplots(figsize=(30,10))\n",
        "sns.heatmap(corr_matrix,vmax=0.8, annot=True)"
      ],
      "execution_count": null,
      "outputs": [
        {
          "output_type": "execute_result",
          "data": {
            "text/plain": [
              "<matplotlib.axes._subplots.AxesSubplot at 0x7f6f835e1cf8>"
            ]
          },
          "metadata": {
            "tags": []
          },
          "execution_count": 356
        },
        {
          "output_type": "display_data",
          "data": {
            "image/png": "[encoded data removed]",
            "text/plain": [
              "<Figure size 2160x720 with 2 Axes>"
            ]
          },
          "metadata": {
            "tags": [],
            "needs_background": "light"
          }
        }
      ]
    },
    {
      "cell_type": "code",
      "metadata": {
        "colab": {
          "base_uri": "https://localhost:8080/",
          "height": 395
        },
        "id": "iuUOH5jmfbVw",
        "outputId": "7ce42ffc-b9ed-49dc-d9eb-a9b70d1bf58c"
      },
      "source": [
        "test.head()"
      ],
      "execution_count": null,
      "outputs": [
        {
          "output_type": "execute_result",
          "data": {
            "text/html": [
              "<div>\n",
              "<style scoped>\n",
              "    .dataframe tbody tr th:only-of-type {\n",
              "        vertical-align: middle;\n",
              "    }\n",
              "\n",
              "    .dataframe tbody tr th {\n",
              "        vertical-align: top;\n",
              "    }\n",
              "\n",
              "    .dataframe thead th {\n",
              "        text-align: right;\n",
              "    }\n",
              "</style>\n",
              "<table border=\"1\" class=\"dataframe\">\n",
              "  <thead>\n",
              "    <tr style=\"text-align: right;\">\n",
              "      <th></th>\n",
              "      <th>session_id</th>\n",
              "      <th>session_number</th>\n",
              "      <th>client_agent</th>\n",
              "      <th>device_details</th>\n",
              "      <th>date</th>\n",
              "      <th>purchased</th>\n",
              "      <th>added_in_cart</th>\n",
              "      <th>checked_out</th>\n",
              "    </tr>\n",
              "  </thead>\n",
              "  <tbody>\n",
              "    <tr>\n",
              "      <th>0</th>\n",
              "      <td>0bf72b05b2cf70dc5e28c3c09f9c4f97</td>\n",
              "      <td>99</td>\n",
              "      <td>Mozilla/5.0 (Windows NT 6.1; WOW64; Trident/7....</td>\n",
              "      <td>Desktop - IE</td>\n",
              "      <td>2020-01-07</td>\n",
              "      <td>1</td>\n",
              "      <td>0</td>\n",
              "      <td>0</td>\n",
              "    </tr>\n",
              "    <tr>\n",
              "      <th>1</th>\n",
              "      <td>6bc696d99954e4f1367e845465186aef</td>\n",
              "      <td>935</td>\n",
              "      <td>Product/160393 Android/4.3 Device/samsung_GT-I...</td>\n",
              "      <td>Android Phone - Android</td>\n",
              "      <td>2020-02-13</td>\n",
              "      <td>0</td>\n",
              "      <td>0</td>\n",
              "      <td>0</td>\n",
              "    </tr>\n",
              "    <tr>\n",
              "      <th>2</th>\n",
              "      <td>3d8611a5ea0f621d205b67f09f663a89</td>\n",
              "      <td>902</td>\n",
              "      <td>Product/4.2.2 iPhone/7.1.2</td>\n",
              "      <td>iPhone - iOS</td>\n",
              "      <td>2019-10-14</td>\n",
              "      <td>1</td>\n",
              "      <td>0</td>\n",
              "      <td>0</td>\n",
              "    </tr>\n",
              "    <tr>\n",
              "      <th>3</th>\n",
              "      <td>a0351545c032fd0da36289410c6c3354</td>\n",
              "      <td>3223</td>\n",
              "      <td>Mozilla/5.0 (compatible; MSIE 9.0; Windows NT ...</td>\n",
              "      <td>Desktop - IE</td>\n",
              "      <td>2020-01-26</td>\n",
              "      <td>0</td>\n",
              "      <td>0</td>\n",
              "      <td>0</td>\n",
              "    </tr>\n",
              "    <tr>\n",
              "      <th>4</th>\n",
              "      <td>dd8999772b0ab27225fb05e5df2f1da6</td>\n",
              "      <td>231</td>\n",
              "      <td>Mozilla/5.0 (Windows NT 6.3; WOW64) AppleWebKi...</td>\n",
              "      <td>Desktop - Chrome</td>\n",
              "      <td>2020-01-29</td>\n",
              "      <td>0</td>\n",
              "      <td>0</td>\n",
              "      <td>0</td>\n",
              "    </tr>\n",
              "  </tbody>\n",
              "</table>\n",
              "</div>"
            ],
            "text/plain": [
              "                         session_id  session_number  ... added_in_cart checked_out\n",
              "0  0bf72b05b2cf70dc5e28c3c09f9c4f97              99  ...             0           0\n",
              "1  6bc696d99954e4f1367e845465186aef             935  ...             0           0\n",
              "2  3d8611a5ea0f621d205b67f09f663a89             902  ...             0           0\n",
              "3  a0351545c032fd0da36289410c6c3354            3223  ...             0           0\n",
              "4  dd8999772b0ab27225fb05e5df2f1da6             231  ...             0           0\n",
              "\n",
              "[5 rows x 8 columns]"
            ]
          },
          "metadata": {
            "tags": []
          },
          "execution_count": 357
        }
      ]
    },
    {
      "cell_type": "code",
      "metadata": {
        "colab": {
          "base_uri": "https://localhost:8080/"
        },
        "id": "ksxhX8_-fbVx",
        "outputId": "0e2bf416-d8e8-4517-8673-4aaff143d94f"
      },
      "source": [
        "test['session_number'].value_counts()"
      ],
      "execution_count": null,
      "outputs": [
        {
          "output_type": "execute_result",
          "data": {
            "text/plain": [
              "11      193\n",
              "22       72\n",
              "33       62\n",
              "44       59\n",
              "55       43\n",
              "       ... \n",
              "2035      1\n",
              "6138      1\n",
              "6116      1\n",
              "4059      1\n",
              "6149      1\n",
              "Name: session_number, Length: 453, dtype: int64"
            ]
          },
          "metadata": {
            "tags": []
          },
          "execution_count": 358
        }
      ]
    },
    {
      "cell_type": "code",
      "metadata": {
        "colab": {
          "base_uri": "https://localhost:8080/"
        },
        "id": "T_4zea9wfbVx",
        "outputId": "fae954f0-8352-486b-e1e2-0de18b8c5ae9"
      },
      "source": [
        "len(test)"
      ],
      "execution_count": null,
      "outputs": [
        {
          "output_type": "execute_result",
          "data": {
            "text/plain": [
              "2327"
            ]
          },
          "metadata": {
            "tags": []
          },
          "execution_count": 359
        }
      ]
    },
    {
      "cell_type": "code",
      "metadata": {
        "id": "Hm2C945ffbVx"
      },
      "source": [
        "test['Year'] = pd.to_datetime(test['date']).dt.year\n",
        "test['Month'] = pd.to_datetime(test['date']).dt.month\n",
        "test['Date'] = pd.to_datetime(test['date']).dt.day\n",
        "test['dayofWeek'] = pd.to_datetime(test['date']).dt.day_name()\n",
        "test['dayofWeek'] = test['dayofWeek'].map({'Monday':1,'Tuesday':2,'Wednesday':3,'Thursday':4,\n",
        "                                           'Friday':5, 'Saturday':6,'Sunday':7})\n",
        "test = test.drop(\"date\",axis = 1)"
      ],
      "execution_count": null,
      "outputs": []
    },
    {
      "cell_type": "code",
      "metadata": {
        "id": "TJR-HUs9fbVx"
      },
      "source": [
        "#test['device_details'] = test['device_details'].str.split(' - ').str[1] "
      ],
      "execution_count": null,
      "outputs": []
    },
    {
      "cell_type": "code",
      "metadata": {
        "colab": {
          "base_uri": "https://localhost:8080/"
        },
        "id": "ssyXCyF2fbVx",
        "outputId": "ef6572cb-1de6-49d4-dfed-808eecaf6959"
      },
      "source": [
        "test.device_details.value_counts()"
      ],
      "execution_count": null,
      "outputs": [
        {
          "output_type": "execute_result",
          "data": {
            "text/plain": [
              "iPhone - iOS                 615\n",
              "Desktop - Chrome             366\n",
              "iPhone - Web                 279\n",
              "iPhone - MobileWeb           152\n",
              "Desktop - IE                 137\n",
              "Desktop - Safari             130\n",
              "Android Phone - Android      125\n",
              "iPad - Web                   124\n",
              "Android Tablet - Web          96\n",
              "Desktop - Firefox             93\n",
              "Other - Other                 82\n",
              "iPad - iOS                    44\n",
              "Unknown - MobileWeb           35\n",
              "Android Phone - Web           26\n",
              "Android Phone - MobileWeb     18\n",
              "Android Tablet - Android       5\n",
              "Name: device_details, dtype: int64"
            ]
          },
          "metadata": {
            "tags": []
          },
          "execution_count": 362
        }
      ]
    },
    {
      "cell_type": "code",
      "metadata": {
        "colab": {
          "base_uri": "https://localhost:8080/"
        },
        "id": "J3cshNcjfbVx",
        "outputId": "097526b8-31fd-4581-89fe-5ecc82dbf25f"
      },
      "source": [
        "test.device_details[test.loc[:,\"device_details\"] == \"iPhone - iOS\"] = \"iPhone_m\"\n",
        "test.device_details[test.loc[:,\"device_details\"] == \"Desktop - Chrome\"] = \"web\"\n",
        "test.device_details[test.loc[:,\"device_details\"] == \"iPhone - Web\"] = \"iPhone_w\"\n",
        "test.device_details[test.loc[:,\"device_details\"] == \"Android Phone - Android\"] = \"android_m\"\n",
        "test.device_details[test.loc[:,\"device_details\"] == \"Desktop - Safari\"] = \"web\"\n",
        "test.device_details[test.loc[:,\"device_details\"] == \"Desktop - IE\"] = \"web\"\n",
        "test.device_details[test.loc[:,\"device_details\"] == \"iPad - Web\"] = \"ipadweb\"\n",
        "test.device_details[test.loc[:,\"device_details\"] == \"iPhone - MobileWeb\"] = \"iPhone_w\"\n",
        "test.device_details[test.loc[:,\"device_details\"] == \"Desktop - Firefox\"] = \"web\"\n",
        "test.device_details[test.loc[:,\"device_details\"] == \"Android Tablet - Web\"] = \"android_w\"\n",
        "test.device_details[test.loc[:,\"device_details\"] == \"Other - Other\"] = \"Other\"\n",
        "test.device_details[test.loc[:,\"device_details\"] == \"Unknown - MobileWeb\"] = \"otherweb\"\n",
        "test.device_details[test.loc[:,\"device_details\"] == \"Android Phone - Web\"] = \"android_w\"\n",
        "test.device_details[test.loc[:,\"device_details\"] == \"iPad - iOS\"] = \"ipad\"\n",
        "test.device_details[test.loc[:,\"device_details\"] == \"Android Phone - MobileWeb\"] = \"android_w\"\n",
        "test.device_details[test.loc[:,\"device_details\"] == \"Android Tablet - Android\"] = \"tablet_m\"\n",
        "test.device_details[test.loc[:,\"device_details\"] == \"Android Tablet - MobileWeb\"] = \"tablet_w\""
      ],
      "execution_count": null,
      "outputs": [
        {
          "output_type": "stream",
          "text": [
            "/usr/local/lib/python3.6/dist-packages/ipykernel_launcher.py:1: SettingWithCopyWarning: \n",
            "A value is trying to be set on a copy of a slice from a DataFrame\n",
            "\n",
            "See the caveats in the documentation: https://pandas.pydata.org/pandas-docs/stable/user_guide/indexing.html#returning-a-view-versus-a-copy\n",
            "  \"\"\"Entry point for launching an IPython kernel.\n",
            "/usr/local/lib/python3.6/dist-packages/ipykernel_launcher.py:2: SettingWithCopyWarning: \n",
            "A value is trying to be set on a copy of a slice from a DataFrame\n",
            "\n",
            "See the caveats in the documentation: https://pandas.pydata.org/pandas-docs/stable/user_guide/indexing.html#returning-a-view-versus-a-copy\n",
            "  \n",
            "/usr/local/lib/python3.6/dist-packages/ipykernel_launcher.py:3: SettingWithCopyWarning: \n",
            "A value is trying to be set on a copy of a slice from a DataFrame\n",
            "\n",
            "See the caveats in the documentation: https://pandas.pydata.org/pandas-docs/stable/user_guide/indexing.html#returning-a-view-versus-a-copy\n",
            "  This is separate from the ipykernel package so we can avoid doing imports until\n",
            "/usr/local/lib/python3.6/dist-packages/ipykernel_launcher.py:4: SettingWithCopyWarning: \n",
            "A value is trying to be set on a copy of a slice from a DataFrame\n",
            "\n",
            "See the caveats in the documentation: https://pandas.pydata.org/pandas-docs/stable/user_guide/indexing.html#returning-a-view-versus-a-copy\n",
            "  after removing the cwd from sys.path.\n",
            "/usr/local/lib/python3.6/dist-packages/ipykernel_launcher.py:5: SettingWithCopyWarning: \n",
            "A value is trying to be set on a copy of a slice from a DataFrame\n",
            "\n",
            "See the caveats in the documentation: https://pandas.pydata.org/pandas-docs/stable/user_guide/indexing.html#returning-a-view-versus-a-copy\n",
            "  \"\"\"\n",
            "/usr/local/lib/python3.6/dist-packages/ipykernel_launcher.py:6: SettingWithCopyWarning: \n",
            "A value is trying to be set on a copy of a slice from a DataFrame\n",
            "\n",
            "See the caveats in the documentation: https://pandas.pydata.org/pandas-docs/stable/user_guide/indexing.html#returning-a-view-versus-a-copy\n",
            "  \n",
            "/usr/local/lib/python3.6/dist-packages/ipykernel_launcher.py:7: SettingWithCopyWarning: \n",
            "A value is trying to be set on a copy of a slice from a DataFrame\n",
            "\n",
            "See the caveats in the documentation: https://pandas.pydata.org/pandas-docs/stable/user_guide/indexing.html#returning-a-view-versus-a-copy\n",
            "  import sys\n",
            "/usr/local/lib/python3.6/dist-packages/ipykernel_launcher.py:8: SettingWithCopyWarning: \n",
            "A value is trying to be set on a copy of a slice from a DataFrame\n",
            "\n",
            "See the caveats in the documentation: https://pandas.pydata.org/pandas-docs/stable/user_guide/indexing.html#returning-a-view-versus-a-copy\n",
            "  \n",
            "/usr/local/lib/python3.6/dist-packages/ipykernel_launcher.py:9: SettingWithCopyWarning: \n",
            "A value is trying to be set on a copy of a slice from a DataFrame\n",
            "\n",
            "See the caveats in the documentation: https://pandas.pydata.org/pandas-docs/stable/user_guide/indexing.html#returning-a-view-versus-a-copy\n",
            "  if __name__ == '__main__':\n",
            "/usr/local/lib/python3.6/dist-packages/ipykernel_launcher.py:10: SettingWithCopyWarning: \n",
            "A value is trying to be set on a copy of a slice from a DataFrame\n",
            "\n",
            "See the caveats in the documentation: https://pandas.pydata.org/pandas-docs/stable/user_guide/indexing.html#returning-a-view-versus-a-copy\n",
            "  # Remove the CWD from sys.path while we load stuff.\n",
            "/usr/local/lib/python3.6/dist-packages/ipykernel_launcher.py:11: SettingWithCopyWarning: \n",
            "A value is trying to be set on a copy of a slice from a DataFrame\n",
            "\n",
            "See the caveats in the documentation: https://pandas.pydata.org/pandas-docs/stable/user_guide/indexing.html#returning-a-view-versus-a-copy\n",
            "  # This is added back by InteractiveShellApp.init_path()\n",
            "/usr/local/lib/python3.6/dist-packages/ipykernel_launcher.py:12: SettingWithCopyWarning: \n",
            "A value is trying to be set on a copy of a slice from a DataFrame\n",
            "\n",
            "See the caveats in the documentation: https://pandas.pydata.org/pandas-docs/stable/user_guide/indexing.html#returning-a-view-versus-a-copy\n",
            "  if sys.path[0] == '':\n",
            "/usr/local/lib/python3.6/dist-packages/ipykernel_launcher.py:13: SettingWithCopyWarning: \n",
            "A value is trying to be set on a copy of a slice from a DataFrame\n",
            "\n",
            "See the caveats in the documentation: https://pandas.pydata.org/pandas-docs/stable/user_guide/indexing.html#returning-a-view-versus-a-copy\n",
            "  del sys.path[0]\n",
            "/usr/local/lib/python3.6/dist-packages/ipykernel_launcher.py:14: SettingWithCopyWarning: \n",
            "A value is trying to be set on a copy of a slice from a DataFrame\n",
            "\n",
            "See the caveats in the documentation: https://pandas.pydata.org/pandas-docs/stable/user_guide/indexing.html#returning-a-view-versus-a-copy\n",
            "  \n",
            "/usr/local/lib/python3.6/dist-packages/ipykernel_launcher.py:15: SettingWithCopyWarning: \n",
            "A value is trying to be set on a copy of a slice from a DataFrame\n",
            "\n",
            "See the caveats in the documentation: https://pandas.pydata.org/pandas-docs/stable/user_guide/indexing.html#returning-a-view-versus-a-copy\n",
            "  from ipykernel import kernelapp as app\n",
            "/usr/local/lib/python3.6/dist-packages/ipykernel_launcher.py:16: SettingWithCopyWarning: \n",
            "A value is trying to be set on a copy of a slice from a DataFrame\n",
            "\n",
            "See the caveats in the documentation: https://pandas.pydata.org/pandas-docs/stable/user_guide/indexing.html#returning-a-view-versus-a-copy\n",
            "  app.launch_new_instance()\n",
            "/usr/local/lib/python3.6/dist-packages/ipykernel_launcher.py:17: SettingWithCopyWarning: \n",
            "A value is trying to be set on a copy of a slice from a DataFrame\n",
            "\n",
            "See the caveats in the documentation: https://pandas.pydata.org/pandas-docs/stable/user_guide/indexing.html#returning-a-view-versus-a-copy\n"
          ],
          "name": "stderr"
        }
      ]
    },
    {
      "cell_type": "code",
      "metadata": {
        "colab": {
          "base_uri": "https://localhost:8080/"
        },
        "id": "gLCG83MYfbVy",
        "outputId": "1a4922de-0b95-42db-f83c-4a887f73de72"
      },
      "source": [
        "test.isna().sum()"
      ],
      "execution_count": null,
      "outputs": [
        {
          "output_type": "execute_result",
          "data": {
            "text/plain": [
              "session_id         0\n",
              "session_number     0\n",
              "client_agent      59\n",
              "device_details     0\n",
              "purchased          0\n",
              "added_in_cart      0\n",
              "checked_out        0\n",
              "Year               0\n",
              "Month              0\n",
              "Date               0\n",
              "dayofWeek          0\n",
              "dtype: int64"
            ]
          },
          "metadata": {
            "tags": []
          },
          "execution_count": 364
        }
      ]
    },
    {
      "cell_type": "code",
      "metadata": {
        "colab": {
          "base_uri": "https://localhost:8080/"
        },
        "id": "QqKuc1JafbVy",
        "outputId": "5118199b-66ba-42e3-dcd1-fff56d3d4cea"
      },
      "source": [
        "test.shape"
      ],
      "execution_count": null,
      "outputs": [
        {
          "output_type": "execute_result",
          "data": {
            "text/plain": [
              "(2327, 11)"
            ]
          },
          "metadata": {
            "tags": []
          },
          "execution_count": 365
        }
      ]
    },
    {
      "cell_type": "code",
      "metadata": {
        "id": "wphcX5hefbVy"
      },
      "source": [
        "test.drop(\"session_id\", axis = 1,inplace = True)"
      ],
      "execution_count": null,
      "outputs": []
    },
    {
      "cell_type": "code",
      "metadata": {
        "id": "s04oQsmqfbVy"
      },
      "source": [
        "test[test.client_agent == 'Typhoeus - https://github.com/typhoeus/typhoeus'] = 2"
      ],
      "execution_count": null,
      "outputs": []
    },
    {
      "cell_type": "code",
      "metadata": {
        "id": "TNGwOB4hfbVy"
      },
      "source": [
        "test[test.client_agent == '-unknown-'] = 2"
      ],
      "execution_count": null,
      "outputs": []
    },
    {
      "cell_type": "code",
      "metadata": {
        "id": "PKndB8o9fbVy"
      },
      "source": [
        "for i, row in test.iterrows():\n",
        "    if row['device_details'] == 'Other':\n",
        "        if type(row['client_agent']) is str and 'Android' or 'Darwin' or 'iPhone' or 'iPad' in row['client_agent']:\n",
        "                test.loc[i, 'device_details'] = \"android_m\"\n",
        "        elif type(row['client_agent']) is str and 'Windows' or 'Macintosh' in row['client_agent']:\n",
        "             test.loc[i, 'device_details'] = \"web\"\n",
        "        else:\n",
        "            test.loc[i, 'device_details'] = 2"
      ],
      "execution_count": null,
      "outputs": []
    },
    {
      "cell_type": "code",
      "metadata": {
        "colab": {
          "base_uri": "https://localhost:8080/"
        },
        "id": "bKLjviZ4fbVz",
        "outputId": "9903f62e-180a-4449-e73a-b80f22b2d6cd"
      },
      "source": [
        "test.device_details.value_counts()"
      ],
      "execution_count": null,
      "outputs": [
        {
          "output_type": "execute_result",
          "data": {
            "text/plain": [
              "web          726\n",
              "iPhone_m     615\n",
              "iPhone_w     431\n",
              "android_m    188\n",
              "android_w    140\n",
              "ipadweb      124\n",
              "ipad          44\n",
              "otherweb      35\n",
              "2             19\n",
              "tablet_m       5\n",
              "Name: device_details, dtype: int64"
            ]
          },
          "metadata": {
            "tags": []
          },
          "execution_count": 370
        }
      ]
    },
    {
      "cell_type": "code",
      "metadata": {
        "id": "nnMu_DsPfbVz"
      },
      "source": [
        "test.drop([\"client_agent\"], axis = 1,inplace = True)"
      ],
      "execution_count": null,
      "outputs": []
    },
    {
      "cell_type": "code",
      "metadata": {
        "id": "CLbETRprfbVz"
      },
      "source": [
        "test.drop([\"Date\",\"dayofWeek\"], axis = 1,inplace = True)"
      ],
      "execution_count": null,
      "outputs": []
    },
    {
      "cell_type": "code",
      "metadata": {
        "id": "R3aw4pj1fbVz"
      },
      "source": [
        "device_details = pd.get_dummies(test['device_details'],drop_first=True)"
      ],
      "execution_count": null,
      "outputs": []
    },
    {
      "cell_type": "code",
      "metadata": {
        "id": "U4Lpvu-PfbVz"
      },
      "source": [
        "Year = pd.get_dummies(test['Year'],drop_first=True)"
      ],
      "execution_count": null,
      "outputs": []
    },
    {
      "cell_type": "code",
      "metadata": {
        "colab": {
          "base_uri": "https://localhost:8080/"
        },
        "id": "qkeQmDyHfbVz",
        "outputId": "28fb2d61-0160-4c37-e16e-c59549b58d66"
      },
      "source": [
        "test.Month[test.loc[:,\"Month\"] == 1] = \"qtr1\"\n",
        "test.Month[test.loc[:,\"Month\"] == 2] = \"qtr1\"\n",
        "test.Month[test.loc[:,\"Month\"] == 3] = \"qtr1\"\n",
        "test.Month[test.loc[:,\"Month\"] == 4] = \"qtr2\"\n",
        "test.Month[test.loc[:,\"Month\"] == 5] = \"qtr2\"\n",
        "test.Month[test.loc[:,\"Month\"] == 6] = \"qtr2\"\n",
        "test.Month[test.loc[:,\"Month\"] == 7] = \"qtr3\"\n",
        "test.Month[test.loc[:,\"Month\"] == 8] = \"qtr3\"\n",
        "test.Month[test.loc[:,\"Month\"] == 9] = \"qtr3\"\n",
        "test.Month[test.loc[:,\"Month\"] == 10] = \"qtr4\"\n",
        "test.Month[test.loc[:,\"Month\"] == 11] = \"qtr4\"\n",
        "test.Month[test.loc[:,\"Month\"] == 12] = \"qtr4\""
      ],
      "execution_count": null,
      "outputs": [
        {
          "output_type": "stream",
          "text": [
            "/usr/local/lib/python3.6/dist-packages/ipykernel_launcher.py:1: SettingWithCopyWarning: \n",
            "A value is trying to be set on a copy of a slice from a DataFrame\n",
            "\n",
            "See the caveats in the documentation: https://pandas.pydata.org/pandas-docs/stable/user_guide/indexing.html#returning-a-view-versus-a-copy\n",
            "  \"\"\"Entry point for launching an IPython kernel.\n"
          ],
          "name": "stderr"
        }
      ]
    },
    {
      "cell_type": "code",
      "metadata": {
        "id": "cQyk8D2XfbV0"
      },
      "source": [
        "Month = pd.get_dummies(test['Month'],drop_first=True)"
      ],
      "execution_count": null,
      "outputs": []
    },
    {
      "cell_type": "code",
      "metadata": {
        "id": "8l51iPtXfbV0"
      },
      "source": [
        "test.drop([\"device_details\",\"Year\",\"Month\"], axis = 1,inplace = True)"
      ],
      "execution_count": null,
      "outputs": []
    },
    {
      "cell_type": "code",
      "metadata": {
        "id": "do1ZtROrfbV0"
      },
      "source": [
        "test = pd.concat([test,device_details,Year,Month], axis=1)"
      ],
      "execution_count": null,
      "outputs": []
    },
    {
      "cell_type": "code",
      "metadata": {
        "id": "xrgTOL-6fbV0"
      },
      "source": [
        "conditions=[(test[\"purchased\"]==0) & (test[\"added_in_cart\"]==0) & (test[\"checked_out\"]==0),\n",
        "    (test[\"purchased\"]==0) & (test[\"added_in_cart\"]==0) & (test[\"checked_out\"]==1),\n",
        "    (test[\"purchased\"]==0) & (test[\"added_in_cart\"]==1) & (test[\"checked_out\"]==0),\n",
        "    (test[\"purchased\"]==0) & (test[\"added_in_cart\"]==1) & (test[\"checked_out\"]==1),\n",
        "    (test[\"purchased\"]==1) & (test[\"added_in_cart\"]==0) & (test[\"checked_out\"]==0),\n",
        "    (test[\"purchased\"]==1) & (test[\"added_in_cart\"]==0) & (test[\"checked_out\"]==1),\n",
        "    (test[\"purchased\"]==1) & (test[\"added_in_cart\"]==1) & (test[\"checked_out\"]==0),\n",
        "    (test[\"purchased\"]==1) & (test[\"added_in_cart\"]==1) & (test[\"checked_out\"]==1)]\n",
        "\n",
        "values = ['no_activity','chk','add','add_chk','purc','purc_chk','purc_add','purc_add_chk']\n",
        "test['customer_activity'] = np.select(conditions, values)"
      ],
      "execution_count": null,
      "outputs": []
    },
    {
      "cell_type": "code",
      "metadata": {
        "id": "CjPPRjTkfbV0"
      },
      "source": [
        "test = pd.get_dummies(test, columns=['customer_activity'])"
      ],
      "execution_count": null,
      "outputs": []
    },
    {
      "cell_type": "code",
      "metadata": {
        "id": "2DMuvJGKfbV0"
      },
      "source": [
        "test.drop([\"customer_activity_0\"], axis = 1,inplace = True)"
      ],
      "execution_count": null,
      "outputs": []
    },
    {
      "cell_type": "code",
      "metadata": {
        "id": "c3pzXR7CfbV1"
      },
      "source": [
        "test['counts'] = test['session_number'].map(test['session_number'].value_counts())"
      ],
      "execution_count": null,
      "outputs": []
    },
    {
      "cell_type": "code",
      "metadata": {
        "colab": {
          "base_uri": "https://localhost:8080/",
          "height": 435
        },
        "id": "SnQ0ssTlfbV1",
        "outputId": "273de74b-119e-45a9-9094-135ba150d688"
      },
      "source": [
        "test.loc[test.counts]"
      ],
      "execution_count": null,
      "outputs": [
        {
          "output_type": "execute_result",
          "data": {
            "text/html": [
              "<div>\n",
              "<style scoped>\n",
              "    .dataframe tbody tr th:only-of-type {\n",
              "        vertical-align: middle;\n",
              "    }\n",
              "\n",
              "    .dataframe tbody tr th {\n",
              "        vertical-align: top;\n",
              "    }\n",
              "\n",
              "    .dataframe thead th {\n",
              "        text-align: right;\n",
              "    }\n",
              "</style>\n",
              "<table border=\"1\" class=\"dataframe\">\n",
              "  <thead>\n",
              "    <tr style=\"text-align: right;\">\n",
              "      <th></th>\n",
              "      <th>session_number</th>\n",
              "      <th>purchased</th>\n",
              "      <th>added_in_cart</th>\n",
              "      <th>checked_out</th>\n",
              "      <th>android_m</th>\n",
              "      <th>android_w</th>\n",
              "      <th>iPhone_m</th>\n",
              "      <th>iPhone_w</th>\n",
              "      <th>ipad</th>\n",
              "      <th>ipadweb</th>\n",
              "      <th>otherweb</th>\n",
              "      <th>tablet_m</th>\n",
              "      <th>web</th>\n",
              "      <th>2019</th>\n",
              "      <th>2020</th>\n",
              "      <th>qtr2</th>\n",
              "      <th>qtr3</th>\n",
              "      <th>qtr4</th>\n",
              "      <th>customer_activity_add</th>\n",
              "      <th>customer_activity_add_chk</th>\n",
              "      <th>customer_activity_chk</th>\n",
              "      <th>customer_activity_no_activity</th>\n",
              "      <th>customer_activity_purc</th>\n",
              "      <th>customer_activity_purc_add</th>\n",
              "      <th>customer_activity_purc_add_chk</th>\n",
              "      <th>customer_activity_purc_chk</th>\n",
              "      <th>counts</th>\n",
              "    </tr>\n",
              "  </thead>\n",
              "  <tbody>\n",
              "    <tr>\n",
              "      <th>33</th>\n",
              "      <td>495</td>\n",
              "      <td>1</td>\n",
              "      <td>0</td>\n",
              "      <td>0</td>\n",
              "      <td>0</td>\n",
              "      <td>0</td>\n",
              "      <td>1</td>\n",
              "      <td>0</td>\n",
              "      <td>0</td>\n",
              "      <td>0</td>\n",
              "      <td>0</td>\n",
              "      <td>0</td>\n",
              "      <td>0</td>\n",
              "      <td>1</td>\n",
              "      <td>0</td>\n",
              "      <td>0</td>\n",
              "      <td>1</td>\n",
              "      <td>0</td>\n",
              "      <td>0</td>\n",
              "      <td>0</td>\n",
              "      <td>0</td>\n",
              "      <td>0</td>\n",
              "      <td>1</td>\n",
              "      <td>0</td>\n",
              "      <td>0</td>\n",
              "      <td>0</td>\n",
              "      <td>9</td>\n",
              "    </tr>\n",
              "    <tr>\n",
              "      <th>6</th>\n",
              "      <td>847</td>\n",
              "      <td>1</td>\n",
              "      <td>0</td>\n",
              "      <td>0</td>\n",
              "      <td>0</td>\n",
              "      <td>0</td>\n",
              "      <td>1</td>\n",
              "      <td>0</td>\n",
              "      <td>0</td>\n",
              "      <td>0</td>\n",
              "      <td>0</td>\n",
              "      <td>0</td>\n",
              "      <td>0</td>\n",
              "      <td>0</td>\n",
              "      <td>1</td>\n",
              "      <td>0</td>\n",
              "      <td>0</td>\n",
              "      <td>0</td>\n",
              "      <td>0</td>\n",
              "      <td>0</td>\n",
              "      <td>0</td>\n",
              "      <td>0</td>\n",
              "      <td>1</td>\n",
              "      <td>0</td>\n",
              "      <td>0</td>\n",
              "      <td>0</td>\n",
              "      <td>6</td>\n",
              "    </tr>\n",
              "    <tr>\n",
              "      <th>10</th>\n",
              "      <td>1628</td>\n",
              "      <td>0</td>\n",
              "      <td>1</td>\n",
              "      <td>0</td>\n",
              "      <td>0</td>\n",
              "      <td>1</td>\n",
              "      <td>0</td>\n",
              "      <td>0</td>\n",
              "      <td>0</td>\n",
              "      <td>0</td>\n",
              "      <td>0</td>\n",
              "      <td>0</td>\n",
              "      <td>0</td>\n",
              "      <td>0</td>\n",
              "      <td>1</td>\n",
              "      <td>0</td>\n",
              "      <td>0</td>\n",
              "      <td>0</td>\n",
              "      <td>1</td>\n",
              "      <td>0</td>\n",
              "      <td>0</td>\n",
              "      <td>0</td>\n",
              "      <td>0</td>\n",
              "      <td>0</td>\n",
              "      <td>0</td>\n",
              "      <td>0</td>\n",
              "      <td>6</td>\n",
              "    </tr>\n",
              "    <tr>\n",
              "      <th>1</th>\n",
              "      <td>935</td>\n",
              "      <td>0</td>\n",
              "      <td>0</td>\n",
              "      <td>0</td>\n",
              "      <td>1</td>\n",
              "      <td>0</td>\n",
              "      <td>0</td>\n",
              "      <td>0</td>\n",
              "      <td>0</td>\n",
              "      <td>0</td>\n",
              "      <td>0</td>\n",
              "      <td>0</td>\n",
              "      <td>0</td>\n",
              "      <td>0</td>\n",
              "      <td>1</td>\n",
              "      <td>0</td>\n",
              "      <td>0</td>\n",
              "      <td>0</td>\n",
              "      <td>0</td>\n",
              "      <td>0</td>\n",
              "      <td>0</td>\n",
              "      <td>1</td>\n",
              "      <td>0</td>\n",
              "      <td>0</td>\n",
              "      <td>0</td>\n",
              "      <td>0</td>\n",
              "      <td>6</td>\n",
              "    </tr>\n",
              "    <tr>\n",
              "      <th>15</th>\n",
              "      <td>319</td>\n",
              "      <td>0</td>\n",
              "      <td>0</td>\n",
              "      <td>0</td>\n",
              "      <td>0</td>\n",
              "      <td>0</td>\n",
              "      <td>0</td>\n",
              "      <td>0</td>\n",
              "      <td>0</td>\n",
              "      <td>0</td>\n",
              "      <td>0</td>\n",
              "      <td>0</td>\n",
              "      <td>1</td>\n",
              "      <td>1</td>\n",
              "      <td>0</td>\n",
              "      <td>0</td>\n",
              "      <td>0</td>\n",
              "      <td>1</td>\n",
              "      <td>0</td>\n",
              "      <td>0</td>\n",
              "      <td>0</td>\n",
              "      <td>1</td>\n",
              "      <td>0</td>\n",
              "      <td>0</td>\n",
              "      <td>0</td>\n",
              "      <td>0</td>\n",
              "      <td>13</td>\n",
              "    </tr>\n",
              "    <tr>\n",
              "      <th>...</th>\n",
              "      <td>...</td>\n",
              "      <td>...</td>\n",
              "      <td>...</td>\n",
              "      <td>...</td>\n",
              "      <td>...</td>\n",
              "      <td>...</td>\n",
              "      <td>...</td>\n",
              "      <td>...</td>\n",
              "      <td>...</td>\n",
              "      <td>...</td>\n",
              "      <td>...</td>\n",
              "      <td>...</td>\n",
              "      <td>...</td>\n",
              "      <td>...</td>\n",
              "      <td>...</td>\n",
              "      <td>...</td>\n",
              "      <td>...</td>\n",
              "      <td>...</td>\n",
              "      <td>...</td>\n",
              "      <td>...</td>\n",
              "      <td>...</td>\n",
              "      <td>...</td>\n",
              "      <td>...</td>\n",
              "      <td>...</td>\n",
              "      <td>...</td>\n",
              "      <td>...</td>\n",
              "      <td>...</td>\n",
              "    </tr>\n",
              "    <tr>\n",
              "      <th>4</th>\n",
              "      <td>231</td>\n",
              "      <td>0</td>\n",
              "      <td>0</td>\n",
              "      <td>0</td>\n",
              "      <td>0</td>\n",
              "      <td>0</td>\n",
              "      <td>0</td>\n",
              "      <td>0</td>\n",
              "      <td>0</td>\n",
              "      <td>0</td>\n",
              "      <td>0</td>\n",
              "      <td>0</td>\n",
              "      <td>1</td>\n",
              "      <td>0</td>\n",
              "      <td>1</td>\n",
              "      <td>0</td>\n",
              "      <td>0</td>\n",
              "      <td>0</td>\n",
              "      <td>0</td>\n",
              "      <td>0</td>\n",
              "      <td>0</td>\n",
              "      <td>1</td>\n",
              "      <td>0</td>\n",
              "      <td>0</td>\n",
              "      <td>0</td>\n",
              "      <td>0</td>\n",
              "      <td>15</td>\n",
              "    </tr>\n",
              "    <tr>\n",
              "      <th>3</th>\n",
              "      <td>3223</td>\n",
              "      <td>0</td>\n",
              "      <td>0</td>\n",
              "      <td>0</td>\n",
              "      <td>0</td>\n",
              "      <td>0</td>\n",
              "      <td>0</td>\n",
              "      <td>0</td>\n",
              "      <td>0</td>\n",
              "      <td>0</td>\n",
              "      <td>0</td>\n",
              "      <td>0</td>\n",
              "      <td>1</td>\n",
              "      <td>0</td>\n",
              "      <td>1</td>\n",
              "      <td>0</td>\n",
              "      <td>0</td>\n",
              "      <td>0</td>\n",
              "      <td>0</td>\n",
              "      <td>0</td>\n",
              "      <td>0</td>\n",
              "      <td>1</td>\n",
              "      <td>0</td>\n",
              "      <td>0</td>\n",
              "      <td>0</td>\n",
              "      <td>0</td>\n",
              "      <td>1</td>\n",
              "    </tr>\n",
              "    <tr>\n",
              "      <th>1</th>\n",
              "      <td>935</td>\n",
              "      <td>0</td>\n",
              "      <td>0</td>\n",
              "      <td>0</td>\n",
              "      <td>1</td>\n",
              "      <td>0</td>\n",
              "      <td>0</td>\n",
              "      <td>0</td>\n",
              "      <td>0</td>\n",
              "      <td>0</td>\n",
              "      <td>0</td>\n",
              "      <td>0</td>\n",
              "      <td>0</td>\n",
              "      <td>0</td>\n",
              "      <td>1</td>\n",
              "      <td>0</td>\n",
              "      <td>0</td>\n",
              "      <td>0</td>\n",
              "      <td>0</td>\n",
              "      <td>0</td>\n",
              "      <td>0</td>\n",
              "      <td>1</td>\n",
              "      <td>0</td>\n",
              "      <td>0</td>\n",
              "      <td>0</td>\n",
              "      <td>0</td>\n",
              "      <td>6</td>\n",
              "    </tr>\n",
              "    <tr>\n",
              "      <th>13</th>\n",
              "      <td>187</td>\n",
              "      <td>0</td>\n",
              "      <td>0</td>\n",
              "      <td>0</td>\n",
              "      <td>1</td>\n",
              "      <td>0</td>\n",
              "      <td>0</td>\n",
              "      <td>0</td>\n",
              "      <td>0</td>\n",
              "      <td>0</td>\n",
              "      <td>0</td>\n",
              "      <td>0</td>\n",
              "      <td>0</td>\n",
              "      <td>1</td>\n",
              "      <td>0</td>\n",
              "      <td>0</td>\n",
              "      <td>0</td>\n",
              "      <td>1</td>\n",
              "      <td>0</td>\n",
              "      <td>0</td>\n",
              "      <td>0</td>\n",
              "      <td>1</td>\n",
              "      <td>0</td>\n",
              "      <td>0</td>\n",
              "      <td>0</td>\n",
              "      <td>0</td>\n",
              "      <td>23</td>\n",
              "    </tr>\n",
              "    <tr>\n",
              "      <th>6</th>\n",
              "      <td>847</td>\n",
              "      <td>1</td>\n",
              "      <td>0</td>\n",
              "      <td>0</td>\n",
              "      <td>0</td>\n",
              "      <td>0</td>\n",
              "      <td>1</td>\n",
              "      <td>0</td>\n",
              "      <td>0</td>\n",
              "      <td>0</td>\n",
              "      <td>0</td>\n",
              "      <td>0</td>\n",
              "      <td>0</td>\n",
              "      <td>0</td>\n",
              "      <td>1</td>\n",
              "      <td>0</td>\n",
              "      <td>0</td>\n",
              "      <td>0</td>\n",
              "      <td>0</td>\n",
              "      <td>0</td>\n",
              "      <td>0</td>\n",
              "      <td>0</td>\n",
              "      <td>1</td>\n",
              "      <td>0</td>\n",
              "      <td>0</td>\n",
              "      <td>0</td>\n",
              "      <td>6</td>\n",
              "    </tr>\n",
              "  </tbody>\n",
              "</table>\n",
              "<p>2327 rows × 27 columns</p>\n",
              "</div>"
            ],
            "text/plain": [
              "    session_number  purchased  ...  customer_activity_purc_chk  counts\n",
              "33             495          1  ...                           0       9\n",
              "6              847          1  ...                           0       6\n",
              "10            1628          0  ...                           0       6\n",
              "1              935          0  ...                           0       6\n",
              "15             319          0  ...                           0      13\n",
              "..             ...        ...  ...                         ...     ...\n",
              "4              231          0  ...                           0      15\n",
              "3             3223          0  ...                           0       1\n",
              "1              935          0  ...                           0       6\n",
              "13             187          0  ...                           0      23\n",
              "6              847          1  ...                           0       6\n",
              "\n",
              "[2327 rows x 27 columns]"
            ]
          },
          "metadata": {
            "tags": []
          },
          "execution_count": 383
        }
      ]
    },
    {
      "cell_type": "code",
      "metadata": {
        "colab": {
          "base_uri": "https://localhost:8080/"
        },
        "id": "cU22M4q4fbV1",
        "outputId": "7de88a8d-c74b-4fc4-b17f-6a4250f6be7d"
      },
      "source": [
        "test['session_number'].value_counts()"
      ],
      "execution_count": null,
      "outputs": [
        {
          "output_type": "execute_result",
          "data": {
            "text/plain": [
              "11      193\n",
              "22       72\n",
              "33       62\n",
              "44       59\n",
              "55       43\n",
              "       ... \n",
              "7227      1\n",
              "3113      1\n",
              "2904      1\n",
              "3091      1\n",
              "4092      1\n",
              "Name: session_number, Length: 454, dtype: int64"
            ]
          },
          "metadata": {
            "tags": []
          },
          "execution_count": 384
        }
      ]
    },
    {
      "cell_type": "code",
      "metadata": {
        "id": "kWTNpiglfbV1"
      },
      "source": [
        "test.loc[(test['counts'] >=0) & (test['counts'] <= 10), 'counts'] = 1\n",
        "test.loc[(test['counts'] >10) & (test['counts'] <= 20), 'counts'] = 2\n",
        "test.loc[(test['counts'] >20) & (test['counts'] <= 50), 'counts'] = 3\n",
        "test.loc[(test['counts'] >50) & (test['counts'] <= 100), 'counts'] = 4\n",
        "test.loc[test['counts'] >100, 'counts'] = 5"
      ],
      "execution_count": null,
      "outputs": []
    },
    {
      "cell_type": "code",
      "metadata": {
        "id": "3XfQ38sEfbV1"
      },
      "source": [
        "test = test.drop('session_number', axis=1)"
      ],
      "execution_count": null,
      "outputs": []
    },
    {
      "cell_type": "code",
      "metadata": {
        "id": "eF-CXjkffbV2"
      },
      "source": [
        "test = pd.get_dummies(test, columns=['counts'])"
      ],
      "execution_count": null,
      "outputs": []
    },
    {
      "cell_type": "code",
      "metadata": {
        "id": "reFxuL8rfbV2"
      },
      "source": [
        "test = test.drop('counts_1', axis=1)"
      ],
      "execution_count": null,
      "outputs": []
    },
    {
      "cell_type": "code",
      "metadata": {
        "id": "2b_IRbSGfbV2"
      },
      "source": [
        "import statsmodels.api as sm"
      ],
      "execution_count": null,
      "outputs": []
    },
    {
      "cell_type": "code",
      "metadata": {
        "colab": {
          "base_uri": "https://localhost:8080/"
        },
        "id": "kJ8BAaQwfbV2",
        "outputId": "2f534948-0b1e-4062-ae2f-dcd8a46ec775"
      },
      "source": [
        "train.columns"
      ],
      "execution_count": null,
      "outputs": [
        {
          "output_type": "execute_result",
          "data": {
            "text/plain": [
              "Index([                    'time_spent',                      'android_m',\n",
              "                            'android_w',                       'iPhone_m',\n",
              "                             'iPhone_w',                           'ipad',\n",
              "                              'ipadweb',                       'otherweb',\n",
              "                             'tablet_m',                       'tablet_w',\n",
              "                                  'web',                             2019,\n",
              "                                   2020,                           'qtr2',\n",
              "                                 'qtr3',                           'qtr4',\n",
              "                'customer_activity_add',      'customer_activity_add_chk',\n",
              "                'customer_activity_chk',  'customer_activity_no_activity',\n",
              "               'customer_activity_purc',     'customer_activity_purc_add',\n",
              "       'customer_activity_purc_add_chk',     'customer_activity_purc_chk',\n",
              "                             'counts_2',                       'counts_3',\n",
              "                             'counts_4',                       'counts_5'],\n",
              "      dtype='object')"
            ]
          },
          "metadata": {
            "tags": []
          },
          "execution_count": 390
        }
      ]
    },
    {
      "cell_type": "code",
      "metadata": {
        "colab": {
          "base_uri": "https://localhost:8080/"
        },
        "id": "Khi6mRWpfbV2",
        "outputId": "8997bed6-fe56-45d8-a48a-20ef6d0063bd"
      },
      "source": [
        "x5 = train[['customer_activity_add','customer_activity_chk','customer_activity_no_activity','customer_activity_purc',2019,2020,'qtr4','android_m','android_w','iPhone_m','ipad','ipadweb','tablet_m','web','counts_4','counts_5']] \n",
        "y = train['time_spent'] \n",
        "x5 = sm.add_constant(x5) \n",
        "result = sm.OLS(y, x5).fit()  \n",
        "print(result.summary())"
      ],
      "execution_count": null,
      "outputs": [
        {
          "output_type": "stream",
          "text": [
            "                            OLS Regression Results                            \n",
            "==============================================================================\n",
            "Dep. Variable:             time_spent   R-squared:                       0.371\n",
            "Model:                            OLS   Adj. R-squared:                  0.369\n",
            "Method:                 Least Squares   F-statistic:                     198.6\n",
            "Date:                Sun, 03 Jan 2021   Prob (F-statistic):               0.00\n",
            "Time:                        10:30:39   Log-Likelihood:                -9456.8\n",
            "No. Observations:                5398   AIC:                         1.895e+04\n",
            "Df Residuals:                    5381   BIC:                         1.906e+04\n",
            "Df Model:                          16                                         \n",
            "Covariance Type:            nonrobust                                         \n",
            "=================================================================================================\n",
            "                                    coef    std err          t      P>|t|      [0.025      0.975]\n",
            "-------------------------------------------------------------------------------------------------\n",
            "const                             2.0000      0.247      8.097      0.000       1.516       2.484\n",
            "customer_activity_add            -1.1301      0.113     -9.988      0.000      -1.352      -0.908\n",
            "customer_activity_chk            -1.1853      0.433     -2.739      0.006      -2.034      -0.337\n",
            "customer_activity_no_activity    -2.9387      0.103    -28.437      0.000      -3.141      -2.736\n",
            "customer_activity_purc           -1.1807      0.113    -10.459      0.000      -1.402      -0.959\n",
            "2019                              4.6718      0.272     17.167      0.000       4.138       5.205\n",
            "2020                              4.6185      0.274     16.871      0.000       4.082       5.155\n",
            "qtr4                             -0.1160      0.045     -2.550      0.011      -0.205      -0.027\n",
            "android_m                         0.6297      0.079      8.011      0.000       0.476       0.784\n",
            "android_w                         0.6243      0.089      7.045      0.000       0.451       0.798\n",
            "iPhone_m                          0.8023      0.058     13.776      0.000       0.688       0.917\n",
            "ipad                              0.6839      0.168      4.082      0.000       0.355       1.012\n",
            "ipadweb                           0.8216      0.096      8.590      0.000       0.634       1.009\n",
            "tablet_m                          1.4981      0.468      3.198      0.001       0.580       2.416\n",
            "web                               0.8353      0.061     13.737      0.000       0.716       0.955\n",
            "counts_4                          0.1601      0.047      3.392      0.001       0.068       0.253\n",
            "counts_5                         -0.3817      0.075     -5.062      0.000      -0.529      -0.234\n",
            "==============================================================================\n",
            "Omnibus:                      602.709   Durbin-Watson:                   2.002\n",
            "Prob(Omnibus):                  0.000   Jarque-Bera (JB):              819.135\n",
            "Skew:                           0.926   Prob(JB):                    1.34e-178\n",
            "Kurtosis:                       3.460   Cond. No.                         39.7\n",
            "==============================================================================\n",
            "\n",
            "Warnings:\n",
            "[1] Standard Errors assume that the covariance matrix of the errors is correctly specified.\n"
          ],
          "name": "stdout"
        }
      ]
    },
    {
      "cell_type": "code",
      "metadata": {
        "colab": {
          "base_uri": "https://localhost:8080/",
          "height": 435
        },
        "id": "XQLuQe_IfbV2",
        "outputId": "c24500eb-a0c9-49aa-9328-f599944c82f4"
      },
      "source": [
        "train"
      ],
      "execution_count": null,
      "outputs": [
        {
          "output_type": "execute_result",
          "data": {
            "text/html": [
              "<div>\n",
              "<style scoped>\n",
              "    .dataframe tbody tr th:only-of-type {\n",
              "        vertical-align: middle;\n",
              "    }\n",
              "\n",
              "    .dataframe tbody tr th {\n",
              "        vertical-align: top;\n",
              "    }\n",
              "\n",
              "    .dataframe thead th {\n",
              "        text-align: right;\n",
              "    }\n",
              "</style>\n",
              "<table border=\"1\" class=\"dataframe\">\n",
              "  <thead>\n",
              "    <tr style=\"text-align: right;\">\n",
              "      <th></th>\n",
              "      <th>time_spent</th>\n",
              "      <th>android_m</th>\n",
              "      <th>android_w</th>\n",
              "      <th>iPhone_m</th>\n",
              "      <th>iPhone_w</th>\n",
              "      <th>ipad</th>\n",
              "      <th>ipadweb</th>\n",
              "      <th>otherweb</th>\n",
              "      <th>tablet_m</th>\n",
              "      <th>tablet_w</th>\n",
              "      <th>web</th>\n",
              "      <th>2019</th>\n",
              "      <th>2020</th>\n",
              "      <th>qtr2</th>\n",
              "      <th>qtr3</th>\n",
              "      <th>qtr4</th>\n",
              "      <th>customer_activity_add</th>\n",
              "      <th>customer_activity_add_chk</th>\n",
              "      <th>customer_activity_chk</th>\n",
              "      <th>customer_activity_no_activity</th>\n",
              "      <th>customer_activity_purc</th>\n",
              "      <th>customer_activity_purc_add</th>\n",
              "      <th>customer_activity_purc_add_chk</th>\n",
              "      <th>customer_activity_purc_chk</th>\n",
              "      <th>counts_2</th>\n",
              "      <th>counts_3</th>\n",
              "      <th>counts_4</th>\n",
              "      <th>counts_5</th>\n",
              "    </tr>\n",
              "  </thead>\n",
              "  <tbody>\n",
              "    <tr>\n",
              "      <th>0</th>\n",
              "      <td>5.467579</td>\n",
              "      <td>0</td>\n",
              "      <td>0</td>\n",
              "      <td>0</td>\n",
              "      <td>0</td>\n",
              "      <td>0</td>\n",
              "      <td>0</td>\n",
              "      <td>0</td>\n",
              "      <td>0</td>\n",
              "      <td>0</td>\n",
              "      <td>1</td>\n",
              "      <td>0</td>\n",
              "      <td>1</td>\n",
              "      <td>0</td>\n",
              "      <td>0</td>\n",
              "      <td>0</td>\n",
              "      <td>0</td>\n",
              "      <td>0</td>\n",
              "      <td>0</td>\n",
              "      <td>0</td>\n",
              "      <td>1</td>\n",
              "      <td>0</td>\n",
              "      <td>0</td>\n",
              "      <td>0</td>\n",
              "      <td>0</td>\n",
              "      <td>1</td>\n",
              "      <td>0</td>\n",
              "      <td>0</td>\n",
              "    </tr>\n",
              "    <tr>\n",
              "      <th>1</th>\n",
              "      <td>7.152625</td>\n",
              "      <td>0</td>\n",
              "      <td>0</td>\n",
              "      <td>1</td>\n",
              "      <td>0</td>\n",
              "      <td>0</td>\n",
              "      <td>0</td>\n",
              "      <td>0</td>\n",
              "      <td>0</td>\n",
              "      <td>0</td>\n",
              "      <td>0</td>\n",
              "      <td>0</td>\n",
              "      <td>1</td>\n",
              "      <td>0</td>\n",
              "      <td>0</td>\n",
              "      <td>0</td>\n",
              "      <td>0</td>\n",
              "      <td>0</td>\n",
              "      <td>0</td>\n",
              "      <td>0</td>\n",
              "      <td>1</td>\n",
              "      <td>0</td>\n",
              "      <td>0</td>\n",
              "      <td>0</td>\n",
              "      <td>0</td>\n",
              "      <td>0</td>\n",
              "      <td>1</td>\n",
              "      <td>0</td>\n",
              "    </tr>\n",
              "    <tr>\n",
              "      <th>2</th>\n",
              "      <td>3.077497</td>\n",
              "      <td>0</td>\n",
              "      <td>0</td>\n",
              "      <td>0</td>\n",
              "      <td>1</td>\n",
              "      <td>0</td>\n",
              "      <td>0</td>\n",
              "      <td>0</td>\n",
              "      <td>0</td>\n",
              "      <td>0</td>\n",
              "      <td>0</td>\n",
              "      <td>1</td>\n",
              "      <td>0</td>\n",
              "      <td>0</td>\n",
              "      <td>1</td>\n",
              "      <td>0</td>\n",
              "      <td>0</td>\n",
              "      <td>0</td>\n",
              "      <td>0</td>\n",
              "      <td>1</td>\n",
              "      <td>0</td>\n",
              "      <td>0</td>\n",
              "      <td>0</td>\n",
              "      <td>0</td>\n",
              "      <td>0</td>\n",
              "      <td>0</td>\n",
              "      <td>0</td>\n",
              "      <td>1</td>\n",
              "    </tr>\n",
              "    <tr>\n",
              "      <th>3</th>\n",
              "      <td>6.120739</td>\n",
              "      <td>0</td>\n",
              "      <td>0</td>\n",
              "      <td>0</td>\n",
              "      <td>0</td>\n",
              "      <td>0</td>\n",
              "      <td>0</td>\n",
              "      <td>0</td>\n",
              "      <td>0</td>\n",
              "      <td>0</td>\n",
              "      <td>1</td>\n",
              "      <td>1</td>\n",
              "      <td>0</td>\n",
              "      <td>0</td>\n",
              "      <td>0</td>\n",
              "      <td>1</td>\n",
              "      <td>1</td>\n",
              "      <td>0</td>\n",
              "      <td>0</td>\n",
              "      <td>0</td>\n",
              "      <td>0</td>\n",
              "      <td>0</td>\n",
              "      <td>0</td>\n",
              "      <td>0</td>\n",
              "      <td>0</td>\n",
              "      <td>0</td>\n",
              "      <td>0</td>\n",
              "      <td>0</td>\n",
              "    </tr>\n",
              "    <tr>\n",
              "      <th>4</th>\n",
              "      <td>7.060371</td>\n",
              "      <td>0</td>\n",
              "      <td>0</td>\n",
              "      <td>0</td>\n",
              "      <td>1</td>\n",
              "      <td>0</td>\n",
              "      <td>0</td>\n",
              "      <td>0</td>\n",
              "      <td>0</td>\n",
              "      <td>0</td>\n",
              "      <td>0</td>\n",
              "      <td>1</td>\n",
              "      <td>0</td>\n",
              "      <td>0</td>\n",
              "      <td>1</td>\n",
              "      <td>0</td>\n",
              "      <td>0</td>\n",
              "      <td>0</td>\n",
              "      <td>0</td>\n",
              "      <td>1</td>\n",
              "      <td>0</td>\n",
              "      <td>0</td>\n",
              "      <td>0</td>\n",
              "      <td>0</td>\n",
              "      <td>0</td>\n",
              "      <td>0</td>\n",
              "      <td>0</td>\n",
              "      <td>0</td>\n",
              "    </tr>\n",
              "    <tr>\n",
              "      <th>...</th>\n",
              "      <td>...</td>\n",
              "      <td>...</td>\n",
              "      <td>...</td>\n",
              "      <td>...</td>\n",
              "      <td>...</td>\n",
              "      <td>...</td>\n",
              "      <td>...</td>\n",
              "      <td>...</td>\n",
              "      <td>...</td>\n",
              "      <td>...</td>\n",
              "      <td>...</td>\n",
              "      <td>...</td>\n",
              "      <td>...</td>\n",
              "      <td>...</td>\n",
              "      <td>...</td>\n",
              "      <td>...</td>\n",
              "      <td>...</td>\n",
              "      <td>...</td>\n",
              "      <td>...</td>\n",
              "      <td>...</td>\n",
              "      <td>...</td>\n",
              "      <td>...</td>\n",
              "      <td>...</td>\n",
              "      <td>...</td>\n",
              "      <td>...</td>\n",
              "      <td>...</td>\n",
              "      <td>...</td>\n",
              "      <td>...</td>\n",
              "    </tr>\n",
              "    <tr>\n",
              "      <th>5424</th>\n",
              "      <td>3.025340</td>\n",
              "      <td>0</td>\n",
              "      <td>0</td>\n",
              "      <td>0</td>\n",
              "      <td>1</td>\n",
              "      <td>0</td>\n",
              "      <td>0</td>\n",
              "      <td>0</td>\n",
              "      <td>0</td>\n",
              "      <td>0</td>\n",
              "      <td>0</td>\n",
              "      <td>1</td>\n",
              "      <td>0</td>\n",
              "      <td>0</td>\n",
              "      <td>0</td>\n",
              "      <td>1</td>\n",
              "      <td>0</td>\n",
              "      <td>0</td>\n",
              "      <td>0</td>\n",
              "      <td>1</td>\n",
              "      <td>0</td>\n",
              "      <td>0</td>\n",
              "      <td>0</td>\n",
              "      <td>0</td>\n",
              "      <td>1</td>\n",
              "      <td>0</td>\n",
              "      <td>0</td>\n",
              "      <td>0</td>\n",
              "    </tr>\n",
              "    <tr>\n",
              "      <th>5425</th>\n",
              "      <td>7.338021</td>\n",
              "      <td>0</td>\n",
              "      <td>0</td>\n",
              "      <td>1</td>\n",
              "      <td>0</td>\n",
              "      <td>0</td>\n",
              "      <td>0</td>\n",
              "      <td>0</td>\n",
              "      <td>0</td>\n",
              "      <td>0</td>\n",
              "      <td>0</td>\n",
              "      <td>1</td>\n",
              "      <td>0</td>\n",
              "      <td>0</td>\n",
              "      <td>1</td>\n",
              "      <td>0</td>\n",
              "      <td>0</td>\n",
              "      <td>0</td>\n",
              "      <td>0</td>\n",
              "      <td>1</td>\n",
              "      <td>0</td>\n",
              "      <td>0</td>\n",
              "      <td>0</td>\n",
              "      <td>0</td>\n",
              "      <td>0</td>\n",
              "      <td>0</td>\n",
              "      <td>0</td>\n",
              "      <td>0</td>\n",
              "    </tr>\n",
              "    <tr>\n",
              "      <th>5426</th>\n",
              "      <td>3.122849</td>\n",
              "      <td>0</td>\n",
              "      <td>0</td>\n",
              "      <td>0</td>\n",
              "      <td>0</td>\n",
              "      <td>0</td>\n",
              "      <td>0</td>\n",
              "      <td>0</td>\n",
              "      <td>0</td>\n",
              "      <td>0</td>\n",
              "      <td>1</td>\n",
              "      <td>1</td>\n",
              "      <td>0</td>\n",
              "      <td>0</td>\n",
              "      <td>1</td>\n",
              "      <td>0</td>\n",
              "      <td>0</td>\n",
              "      <td>0</td>\n",
              "      <td>0</td>\n",
              "      <td>1</td>\n",
              "      <td>0</td>\n",
              "      <td>0</td>\n",
              "      <td>0</td>\n",
              "      <td>0</td>\n",
              "      <td>0</td>\n",
              "      <td>0</td>\n",
              "      <td>1</td>\n",
              "      <td>0</td>\n",
              "    </tr>\n",
              "    <tr>\n",
              "      <th>5427</th>\n",
              "      <td>3.037066</td>\n",
              "      <td>0</td>\n",
              "      <td>0</td>\n",
              "      <td>0</td>\n",
              "      <td>0</td>\n",
              "      <td>0</td>\n",
              "      <td>0</td>\n",
              "      <td>1</td>\n",
              "      <td>0</td>\n",
              "      <td>0</td>\n",
              "      <td>0</td>\n",
              "      <td>1</td>\n",
              "      <td>0</td>\n",
              "      <td>1</td>\n",
              "      <td>0</td>\n",
              "      <td>0</td>\n",
              "      <td>0</td>\n",
              "      <td>0</td>\n",
              "      <td>0</td>\n",
              "      <td>1</td>\n",
              "      <td>0</td>\n",
              "      <td>0</td>\n",
              "      <td>0</td>\n",
              "      <td>0</td>\n",
              "      <td>0</td>\n",
              "      <td>1</td>\n",
              "      <td>0</td>\n",
              "      <td>0</td>\n",
              "    </tr>\n",
              "    <tr>\n",
              "      <th>5428</th>\n",
              "      <td>3.020620</td>\n",
              "      <td>0</td>\n",
              "      <td>0</td>\n",
              "      <td>0</td>\n",
              "      <td>1</td>\n",
              "      <td>0</td>\n",
              "      <td>0</td>\n",
              "      <td>0</td>\n",
              "      <td>0</td>\n",
              "      <td>0</td>\n",
              "      <td>0</td>\n",
              "      <td>1</td>\n",
              "      <td>0</td>\n",
              "      <td>0</td>\n",
              "      <td>0</td>\n",
              "      <td>1</td>\n",
              "      <td>0</td>\n",
              "      <td>0</td>\n",
              "      <td>0</td>\n",
              "      <td>1</td>\n",
              "      <td>0</td>\n",
              "      <td>0</td>\n",
              "      <td>0</td>\n",
              "      <td>0</td>\n",
              "      <td>0</td>\n",
              "      <td>0</td>\n",
              "      <td>0</td>\n",
              "      <td>0</td>\n",
              "    </tr>\n",
              "  </tbody>\n",
              "</table>\n",
              "<p>5398 rows × 28 columns</p>\n",
              "</div>"
            ],
            "text/plain": [
              "      time_spent  android_m  android_w  ...  counts_3  counts_4  counts_5\n",
              "0       5.467579          0          0  ...         1         0         0\n",
              "1       7.152625          0          0  ...         0         1         0\n",
              "2       3.077497          0          0  ...         0         0         1\n",
              "3       6.120739          0          0  ...         0         0         0\n",
              "4       7.060371          0          0  ...         0         0         0\n",
              "...          ...        ...        ...  ...       ...       ...       ...\n",
              "5424    3.025340          0          0  ...         0         0         0\n",
              "5425    7.338021          0          0  ...         0         0         0\n",
              "5426    3.122849          0          0  ...         0         1         0\n",
              "5427    3.037066          0          0  ...         1         0         0\n",
              "5428    3.020620          0          0  ...         0         0         0\n",
              "\n",
              "[5398 rows x 28 columns]"
            ]
          },
          "metadata": {
            "tags": []
          },
          "execution_count": 392
        }
      ]
    },
    {
      "cell_type": "code",
      "metadata": {
        "id": "rfe_ecv9fbV3"
      },
      "source": [
        "X = train.loc[:, ['customer_activity_add','customer_activity_chk','customer_activity_no_activity','customer_activity_purc',2019,2020,'qtr4','android_m','android_w','iPhone_m','ipad','ipadweb','tablet_m','web','counts_4','counts_5']]"
      ],
      "execution_count": null,
      "outputs": []
    },
    {
      "cell_type": "code",
      "metadata": {
        "colab": {
          "base_uri": "https://localhost:8080/",
          "height": 435
        },
        "id": "CCSH9POMfbV3",
        "outputId": "b6794e50-6736-49fa-ffca-ae36eb772d6f"
      },
      "source": [
        "X"
      ],
      "execution_count": null,
      "outputs": [
        {
          "output_type": "execute_result",
          "data": {
            "text/html": [
              "<div>\n",
              "<style scoped>\n",
              "    .dataframe tbody tr th:only-of-type {\n",
              "        vertical-align: middle;\n",
              "    }\n",
              "\n",
              "    .dataframe tbody tr th {\n",
              "        vertical-align: top;\n",
              "    }\n",
              "\n",
              "    .dataframe thead th {\n",
              "        text-align: right;\n",
              "    }\n",
              "</style>\n",
              "<table border=\"1\" class=\"dataframe\">\n",
              "  <thead>\n",
              "    <tr style=\"text-align: right;\">\n",
              "      <th></th>\n",
              "      <th>customer_activity_add</th>\n",
              "      <th>customer_activity_chk</th>\n",
              "      <th>customer_activity_no_activity</th>\n",
              "      <th>customer_activity_purc</th>\n",
              "      <th>2019</th>\n",
              "      <th>2020</th>\n",
              "      <th>qtr4</th>\n",
              "      <th>android_m</th>\n",
              "      <th>android_w</th>\n",
              "      <th>iPhone_m</th>\n",
              "      <th>ipad</th>\n",
              "      <th>ipadweb</th>\n",
              "      <th>tablet_m</th>\n",
              "      <th>web</th>\n",
              "      <th>counts_4</th>\n",
              "      <th>counts_5</th>\n",
              "    </tr>\n",
              "  </thead>\n",
              "  <tbody>\n",
              "    <tr>\n",
              "      <th>0</th>\n",
              "      <td>0</td>\n",
              "      <td>0</td>\n",
              "      <td>0</td>\n",
              "      <td>1</td>\n",
              "      <td>0</td>\n",
              "      <td>1</td>\n",
              "      <td>0</td>\n",
              "      <td>0</td>\n",
              "      <td>0</td>\n",
              "      <td>0</td>\n",
              "      <td>0</td>\n",
              "      <td>0</td>\n",
              "      <td>0</td>\n",
              "      <td>1</td>\n",
              "      <td>0</td>\n",
              "      <td>0</td>\n",
              "    </tr>\n",
              "    <tr>\n",
              "      <th>1</th>\n",
              "      <td>0</td>\n",
              "      <td>0</td>\n",
              "      <td>0</td>\n",
              "      <td>1</td>\n",
              "      <td>0</td>\n",
              "      <td>1</td>\n",
              "      <td>0</td>\n",
              "      <td>0</td>\n",
              "      <td>0</td>\n",
              "      <td>1</td>\n",
              "      <td>0</td>\n",
              "      <td>0</td>\n",
              "      <td>0</td>\n",
              "      <td>0</td>\n",
              "      <td>1</td>\n",
              "      <td>0</td>\n",
              "    </tr>\n",
              "    <tr>\n",
              "      <th>2</th>\n",
              "      <td>0</td>\n",
              "      <td>0</td>\n",
              "      <td>1</td>\n",
              "      <td>0</td>\n",
              "      <td>1</td>\n",
              "      <td>0</td>\n",
              "      <td>0</td>\n",
              "      <td>0</td>\n",
              "      <td>0</td>\n",
              "      <td>0</td>\n",
              "      <td>0</td>\n",
              "      <td>0</td>\n",
              "      <td>0</td>\n",
              "      <td>0</td>\n",
              "      <td>0</td>\n",
              "      <td>1</td>\n",
              "    </tr>\n",
              "    <tr>\n",
              "      <th>3</th>\n",
              "      <td>1</td>\n",
              "      <td>0</td>\n",
              "      <td>0</td>\n",
              "      <td>0</td>\n",
              "      <td>1</td>\n",
              "      <td>0</td>\n",
              "      <td>1</td>\n",
              "      <td>0</td>\n",
              "      <td>0</td>\n",
              "      <td>0</td>\n",
              "      <td>0</td>\n",
              "      <td>0</td>\n",
              "      <td>0</td>\n",
              "      <td>1</td>\n",
              "      <td>0</td>\n",
              "      <td>0</td>\n",
              "    </tr>\n",
              "    <tr>\n",
              "      <th>4</th>\n",
              "      <td>0</td>\n",
              "      <td>0</td>\n",
              "      <td>1</td>\n",
              "      <td>0</td>\n",
              "      <td>1</td>\n",
              "      <td>0</td>\n",
              "      <td>0</td>\n",
              "      <td>0</td>\n",
              "      <td>0</td>\n",
              "      <td>0</td>\n",
              "      <td>0</td>\n",
              "      <td>0</td>\n",
              "      <td>0</td>\n",
              "      <td>0</td>\n",
              "      <td>0</td>\n",
              "      <td>0</td>\n",
              "    </tr>\n",
              "    <tr>\n",
              "      <th>...</th>\n",
              "      <td>...</td>\n",
              "      <td>...</td>\n",
              "      <td>...</td>\n",
              "      <td>...</td>\n",
              "      <td>...</td>\n",
              "      <td>...</td>\n",
              "      <td>...</td>\n",
              "      <td>...</td>\n",
              "      <td>...</td>\n",
              "      <td>...</td>\n",
              "      <td>...</td>\n",
              "      <td>...</td>\n",
              "      <td>...</td>\n",
              "      <td>...</td>\n",
              "      <td>...</td>\n",
              "      <td>...</td>\n",
              "    </tr>\n",
              "    <tr>\n",
              "      <th>5424</th>\n",
              "      <td>0</td>\n",
              "      <td>0</td>\n",
              "      <td>1</td>\n",
              "      <td>0</td>\n",
              "      <td>1</td>\n",
              "      <td>0</td>\n",
              "      <td>1</td>\n",
              "      <td>0</td>\n",
              "      <td>0</td>\n",
              "      <td>0</td>\n",
              "      <td>0</td>\n",
              "      <td>0</td>\n",
              "      <td>0</td>\n",
              "      <td>0</td>\n",
              "      <td>0</td>\n",
              "      <td>0</td>\n",
              "    </tr>\n",
              "    <tr>\n",
              "      <th>5425</th>\n",
              "      <td>0</td>\n",
              "      <td>0</td>\n",
              "      <td>1</td>\n",
              "      <td>0</td>\n",
              "      <td>1</td>\n",
              "      <td>0</td>\n",
              "      <td>0</td>\n",
              "      <td>0</td>\n",
              "      <td>0</td>\n",
              "      <td>1</td>\n",
              "      <td>0</td>\n",
              "      <td>0</td>\n",
              "      <td>0</td>\n",
              "      <td>0</td>\n",
              "      <td>0</td>\n",
              "      <td>0</td>\n",
              "    </tr>\n",
              "    <tr>\n",
              "      <th>5426</th>\n",
              "      <td>0</td>\n",
              "      <td>0</td>\n",
              "      <td>1</td>\n",
              "      <td>0</td>\n",
              "      <td>1</td>\n",
              "      <td>0</td>\n",
              "      <td>0</td>\n",
              "      <td>0</td>\n",
              "      <td>0</td>\n",
              "      <td>0</td>\n",
              "      <td>0</td>\n",
              "      <td>0</td>\n",
              "      <td>0</td>\n",
              "      <td>1</td>\n",
              "      <td>1</td>\n",
              "      <td>0</td>\n",
              "    </tr>\n",
              "    <tr>\n",
              "      <th>5427</th>\n",
              "      <td>0</td>\n",
              "      <td>0</td>\n",
              "      <td>1</td>\n",
              "      <td>0</td>\n",
              "      <td>1</td>\n",
              "      <td>0</td>\n",
              "      <td>0</td>\n",
              "      <td>0</td>\n",
              "      <td>0</td>\n",
              "      <td>0</td>\n",
              "      <td>0</td>\n",
              "      <td>0</td>\n",
              "      <td>0</td>\n",
              "      <td>0</td>\n",
              "      <td>0</td>\n",
              "      <td>0</td>\n",
              "    </tr>\n",
              "    <tr>\n",
              "      <th>5428</th>\n",
              "      <td>0</td>\n",
              "      <td>0</td>\n",
              "      <td>1</td>\n",
              "      <td>0</td>\n",
              "      <td>1</td>\n",
              "      <td>0</td>\n",
              "      <td>1</td>\n",
              "      <td>0</td>\n",
              "      <td>0</td>\n",
              "      <td>0</td>\n",
              "      <td>0</td>\n",
              "      <td>0</td>\n",
              "      <td>0</td>\n",
              "      <td>0</td>\n",
              "      <td>0</td>\n",
              "      <td>0</td>\n",
              "    </tr>\n",
              "  </tbody>\n",
              "</table>\n",
              "<p>5398 rows × 16 columns</p>\n",
              "</div>"
            ],
            "text/plain": [
              "      customer_activity_add  customer_activity_chk  ...  counts_4  counts_5\n",
              "0                         0                      0  ...         0         0\n",
              "1                         0                      0  ...         1         0\n",
              "2                         0                      0  ...         0         1\n",
              "3                         1                      0  ...         0         0\n",
              "4                         0                      0  ...         0         0\n",
              "...                     ...                    ...  ...       ...       ...\n",
              "5424                      0                      0  ...         0         0\n",
              "5425                      0                      0  ...         0         0\n",
              "5426                      0                      0  ...         1         0\n",
              "5427                      0                      0  ...         0         0\n",
              "5428                      0                      0  ...         0         0\n",
              "\n",
              "[5398 rows x 16 columns]"
            ]
          },
          "metadata": {
            "tags": []
          },
          "execution_count": 394
        }
      ]
    },
    {
      "cell_type": "code",
      "metadata": {
        "colab": {
          "base_uri": "https://localhost:8080/"
        },
        "id": "iSTqtdyGfbV3",
        "outputId": "dd0532b9-81fb-4618-f61c-b149bc82f8a7"
      },
      "source": [
        "Y = train['time_spent']\n",
        "Y"
      ],
      "execution_count": null,
      "outputs": [
        {
          "output_type": "execute_result",
          "data": {
            "text/plain": [
              "0       5.467579\n",
              "1       7.152625\n",
              "2       3.077497\n",
              "3       6.120739\n",
              "4       7.060371\n",
              "          ...   \n",
              "5424    3.025340\n",
              "5425    7.338021\n",
              "5426    3.122849\n",
              "5427    3.037066\n",
              "5428    3.020620\n",
              "Name: time_spent, Length: 5398, dtype: float64"
            ]
          },
          "metadata": {
            "tags": []
          },
          "execution_count": 395
        }
      ]
    },
    {
      "cell_type": "code",
      "metadata": {
        "id": "9JVnQzSQfbV3"
      },
      "source": [
        "from sklearn.model_selection import train_test_split\r\n",
        "x_train,x_test,y_train,y_test = train_test_split(X,Y,test_size = 0.2)"
      ],
      "execution_count": null,
      "outputs": []
    },
    {
      "cell_type": "code",
      "metadata": {
        "colab": {
          "base_uri": "https://localhost:8080/"
        },
        "id": "HPm7CMdtfbV3",
        "outputId": "be649e5c-c19f-4734-c444-df4041677d26"
      },
      "source": [
        "x_train.shape"
      ],
      "execution_count": null,
      "outputs": [
        {
          "output_type": "execute_result",
          "data": {
            "text/plain": [
              "(3799, 16)"
            ]
          },
          "metadata": {
            "tags": []
          },
          "execution_count": 121
        }
      ]
    },
    {
      "cell_type": "code",
      "metadata": {
        "colab": {
          "base_uri": "https://localhost:8080/"
        },
        "id": "m7RUBOxUfbV4",
        "outputId": "32803e2c-9f9c-4359-b0ac-275bf5e0b028"
      },
      "source": [
        "y_train.shape"
      ],
      "execution_count": null,
      "outputs": [
        {
          "output_type": "execute_result",
          "data": {
            "text/plain": [
              "(3799,)"
            ]
          },
          "metadata": {
            "tags": []
          },
          "execution_count": 122
        }
      ]
    },
    {
      "cell_type": "code",
      "metadata": {
        "colab": {
          "base_uri": "https://localhost:8080/",
          "height": 435
        },
        "id": "CPhFyzPdfbV4",
        "outputId": "1d96688b-7a9b-43f6-97ab-32e2956541f0"
      },
      "source": [
        "test"
      ],
      "execution_count": null,
      "outputs": [
        {
          "output_type": "execute_result",
          "data": {
            "text/html": [
              "<div>\n",
              "<style scoped>\n",
              "    .dataframe tbody tr th:only-of-type {\n",
              "        vertical-align: middle;\n",
              "    }\n",
              "\n",
              "    .dataframe tbody tr th {\n",
              "        vertical-align: top;\n",
              "    }\n",
              "\n",
              "    .dataframe thead th {\n",
              "        text-align: right;\n",
              "    }\n",
              "</style>\n",
              "<table border=\"1\" class=\"dataframe\">\n",
              "  <thead>\n",
              "    <tr style=\"text-align: right;\">\n",
              "      <th></th>\n",
              "      <th>purchased</th>\n",
              "      <th>added_in_cart</th>\n",
              "      <th>checked_out</th>\n",
              "      <th>android_m</th>\n",
              "      <th>android_w</th>\n",
              "      <th>iPhone_m</th>\n",
              "      <th>iPhone_w</th>\n",
              "      <th>ipad</th>\n",
              "      <th>ipadweb</th>\n",
              "      <th>otherweb</th>\n",
              "      <th>tablet_m</th>\n",
              "      <th>web</th>\n",
              "      <th>2019</th>\n",
              "      <th>2020</th>\n",
              "      <th>qtr2</th>\n",
              "      <th>qtr3</th>\n",
              "      <th>qtr4</th>\n",
              "      <th>customer_activity_add</th>\n",
              "      <th>customer_activity_add_chk</th>\n",
              "      <th>customer_activity_chk</th>\n",
              "      <th>customer_activity_no_activity</th>\n",
              "      <th>customer_activity_purc</th>\n",
              "      <th>customer_activity_purc_add</th>\n",
              "      <th>customer_activity_purc_add_chk</th>\n",
              "      <th>customer_activity_purc_chk</th>\n",
              "      <th>counts_2</th>\n",
              "      <th>counts_3</th>\n",
              "      <th>counts_4</th>\n",
              "      <th>counts_5</th>\n",
              "    </tr>\n",
              "  </thead>\n",
              "  <tbody>\n",
              "    <tr>\n",
              "      <th>0</th>\n",
              "      <td>1</td>\n",
              "      <td>0</td>\n",
              "      <td>0</td>\n",
              "      <td>0</td>\n",
              "      <td>0</td>\n",
              "      <td>0</td>\n",
              "      <td>0</td>\n",
              "      <td>0</td>\n",
              "      <td>0</td>\n",
              "      <td>0</td>\n",
              "      <td>0</td>\n",
              "      <td>1</td>\n",
              "      <td>0</td>\n",
              "      <td>1</td>\n",
              "      <td>0</td>\n",
              "      <td>0</td>\n",
              "      <td>0</td>\n",
              "      <td>0</td>\n",
              "      <td>0</td>\n",
              "      <td>0</td>\n",
              "      <td>0</td>\n",
              "      <td>1</td>\n",
              "      <td>0</td>\n",
              "      <td>0</td>\n",
              "      <td>0</td>\n",
              "      <td>0</td>\n",
              "      <td>1</td>\n",
              "      <td>0</td>\n",
              "      <td>0</td>\n",
              "    </tr>\n",
              "    <tr>\n",
              "      <th>1</th>\n",
              "      <td>0</td>\n",
              "      <td>0</td>\n",
              "      <td>0</td>\n",
              "      <td>1</td>\n",
              "      <td>0</td>\n",
              "      <td>0</td>\n",
              "      <td>0</td>\n",
              "      <td>0</td>\n",
              "      <td>0</td>\n",
              "      <td>0</td>\n",
              "      <td>0</td>\n",
              "      <td>0</td>\n",
              "      <td>0</td>\n",
              "      <td>1</td>\n",
              "      <td>0</td>\n",
              "      <td>0</td>\n",
              "      <td>0</td>\n",
              "      <td>0</td>\n",
              "      <td>0</td>\n",
              "      <td>0</td>\n",
              "      <td>1</td>\n",
              "      <td>0</td>\n",
              "      <td>0</td>\n",
              "      <td>0</td>\n",
              "      <td>0</td>\n",
              "      <td>0</td>\n",
              "      <td>0</td>\n",
              "      <td>0</td>\n",
              "      <td>0</td>\n",
              "    </tr>\n",
              "    <tr>\n",
              "      <th>2</th>\n",
              "      <td>1</td>\n",
              "      <td>0</td>\n",
              "      <td>0</td>\n",
              "      <td>0</td>\n",
              "      <td>0</td>\n",
              "      <td>1</td>\n",
              "      <td>0</td>\n",
              "      <td>0</td>\n",
              "      <td>0</td>\n",
              "      <td>0</td>\n",
              "      <td>0</td>\n",
              "      <td>0</td>\n",
              "      <td>1</td>\n",
              "      <td>0</td>\n",
              "      <td>0</td>\n",
              "      <td>0</td>\n",
              "      <td>1</td>\n",
              "      <td>0</td>\n",
              "      <td>0</td>\n",
              "      <td>0</td>\n",
              "      <td>0</td>\n",
              "      <td>1</td>\n",
              "      <td>0</td>\n",
              "      <td>0</td>\n",
              "      <td>0</td>\n",
              "      <td>0</td>\n",
              "      <td>0</td>\n",
              "      <td>0</td>\n",
              "      <td>0</td>\n",
              "    </tr>\n",
              "    <tr>\n",
              "      <th>3</th>\n",
              "      <td>0</td>\n",
              "      <td>0</td>\n",
              "      <td>0</td>\n",
              "      <td>0</td>\n",
              "      <td>0</td>\n",
              "      <td>0</td>\n",
              "      <td>0</td>\n",
              "      <td>0</td>\n",
              "      <td>0</td>\n",
              "      <td>0</td>\n",
              "      <td>0</td>\n",
              "      <td>1</td>\n",
              "      <td>0</td>\n",
              "      <td>1</td>\n",
              "      <td>0</td>\n",
              "      <td>0</td>\n",
              "      <td>0</td>\n",
              "      <td>0</td>\n",
              "      <td>0</td>\n",
              "      <td>0</td>\n",
              "      <td>1</td>\n",
              "      <td>0</td>\n",
              "      <td>0</td>\n",
              "      <td>0</td>\n",
              "      <td>0</td>\n",
              "      <td>0</td>\n",
              "      <td>0</td>\n",
              "      <td>0</td>\n",
              "      <td>0</td>\n",
              "    </tr>\n",
              "    <tr>\n",
              "      <th>4</th>\n",
              "      <td>0</td>\n",
              "      <td>0</td>\n",
              "      <td>0</td>\n",
              "      <td>0</td>\n",
              "      <td>0</td>\n",
              "      <td>0</td>\n",
              "      <td>0</td>\n",
              "      <td>0</td>\n",
              "      <td>0</td>\n",
              "      <td>0</td>\n",
              "      <td>0</td>\n",
              "      <td>1</td>\n",
              "      <td>0</td>\n",
              "      <td>1</td>\n",
              "      <td>0</td>\n",
              "      <td>0</td>\n",
              "      <td>0</td>\n",
              "      <td>0</td>\n",
              "      <td>0</td>\n",
              "      <td>0</td>\n",
              "      <td>1</td>\n",
              "      <td>0</td>\n",
              "      <td>0</td>\n",
              "      <td>0</td>\n",
              "      <td>0</td>\n",
              "      <td>1</td>\n",
              "      <td>0</td>\n",
              "      <td>0</td>\n",
              "      <td>0</td>\n",
              "    </tr>\n",
              "    <tr>\n",
              "      <th>...</th>\n",
              "      <td>...</td>\n",
              "      <td>...</td>\n",
              "      <td>...</td>\n",
              "      <td>...</td>\n",
              "      <td>...</td>\n",
              "      <td>...</td>\n",
              "      <td>...</td>\n",
              "      <td>...</td>\n",
              "      <td>...</td>\n",
              "      <td>...</td>\n",
              "      <td>...</td>\n",
              "      <td>...</td>\n",
              "      <td>...</td>\n",
              "      <td>...</td>\n",
              "      <td>...</td>\n",
              "      <td>...</td>\n",
              "      <td>...</td>\n",
              "      <td>...</td>\n",
              "      <td>...</td>\n",
              "      <td>...</td>\n",
              "      <td>...</td>\n",
              "      <td>...</td>\n",
              "      <td>...</td>\n",
              "      <td>...</td>\n",
              "      <td>...</td>\n",
              "      <td>...</td>\n",
              "      <td>...</td>\n",
              "      <td>...</td>\n",
              "      <td>...</td>\n",
              "    </tr>\n",
              "    <tr>\n",
              "      <th>2322</th>\n",
              "      <td>0</td>\n",
              "      <td>0</td>\n",
              "      <td>0</td>\n",
              "      <td>1</td>\n",
              "      <td>0</td>\n",
              "      <td>0</td>\n",
              "      <td>0</td>\n",
              "      <td>0</td>\n",
              "      <td>0</td>\n",
              "      <td>0</td>\n",
              "      <td>0</td>\n",
              "      <td>0</td>\n",
              "      <td>1</td>\n",
              "      <td>0</td>\n",
              "      <td>0</td>\n",
              "      <td>0</td>\n",
              "      <td>1</td>\n",
              "      <td>0</td>\n",
              "      <td>0</td>\n",
              "      <td>0</td>\n",
              "      <td>1</td>\n",
              "      <td>0</td>\n",
              "      <td>0</td>\n",
              "      <td>0</td>\n",
              "      <td>0</td>\n",
              "      <td>0</td>\n",
              "      <td>0</td>\n",
              "      <td>0</td>\n",
              "      <td>0</td>\n",
              "    </tr>\n",
              "    <tr>\n",
              "      <th>2323</th>\n",
              "      <td>0</td>\n",
              "      <td>1</td>\n",
              "      <td>0</td>\n",
              "      <td>0</td>\n",
              "      <td>0</td>\n",
              "      <td>0</td>\n",
              "      <td>0</td>\n",
              "      <td>0</td>\n",
              "      <td>0</td>\n",
              "      <td>0</td>\n",
              "      <td>0</td>\n",
              "      <td>1</td>\n",
              "      <td>0</td>\n",
              "      <td>1</td>\n",
              "      <td>0</td>\n",
              "      <td>0</td>\n",
              "      <td>0</td>\n",
              "      <td>1</td>\n",
              "      <td>0</td>\n",
              "      <td>0</td>\n",
              "      <td>0</td>\n",
              "      <td>0</td>\n",
              "      <td>0</td>\n",
              "      <td>0</td>\n",
              "      <td>0</td>\n",
              "      <td>0</td>\n",
              "      <td>0</td>\n",
              "      <td>0</td>\n",
              "      <td>0</td>\n",
              "    </tr>\n",
              "    <tr>\n",
              "      <th>2324</th>\n",
              "      <td>0</td>\n",
              "      <td>0</td>\n",
              "      <td>0</td>\n",
              "      <td>0</td>\n",
              "      <td>0</td>\n",
              "      <td>1</td>\n",
              "      <td>0</td>\n",
              "      <td>0</td>\n",
              "      <td>0</td>\n",
              "      <td>0</td>\n",
              "      <td>0</td>\n",
              "      <td>0</td>\n",
              "      <td>0</td>\n",
              "      <td>1</td>\n",
              "      <td>0</td>\n",
              "      <td>0</td>\n",
              "      <td>0</td>\n",
              "      <td>0</td>\n",
              "      <td>0</td>\n",
              "      <td>0</td>\n",
              "      <td>1</td>\n",
              "      <td>0</td>\n",
              "      <td>0</td>\n",
              "      <td>0</td>\n",
              "      <td>0</td>\n",
              "      <td>0</td>\n",
              "      <td>0</td>\n",
              "      <td>0</td>\n",
              "      <td>0</td>\n",
              "    </tr>\n",
              "    <tr>\n",
              "      <th>2325</th>\n",
              "      <td>1</td>\n",
              "      <td>0</td>\n",
              "      <td>0</td>\n",
              "      <td>0</td>\n",
              "      <td>0</td>\n",
              "      <td>0</td>\n",
              "      <td>0</td>\n",
              "      <td>1</td>\n",
              "      <td>0</td>\n",
              "      <td>0</td>\n",
              "      <td>0</td>\n",
              "      <td>0</td>\n",
              "      <td>1</td>\n",
              "      <td>0</td>\n",
              "      <td>0</td>\n",
              "      <td>0</td>\n",
              "      <td>1</td>\n",
              "      <td>0</td>\n",
              "      <td>0</td>\n",
              "      <td>0</td>\n",
              "      <td>0</td>\n",
              "      <td>1</td>\n",
              "      <td>0</td>\n",
              "      <td>0</td>\n",
              "      <td>0</td>\n",
              "      <td>1</td>\n",
              "      <td>0</td>\n",
              "      <td>0</td>\n",
              "      <td>0</td>\n",
              "    </tr>\n",
              "    <tr>\n",
              "      <th>2326</th>\n",
              "      <td>0</td>\n",
              "      <td>1</td>\n",
              "      <td>0</td>\n",
              "      <td>1</td>\n",
              "      <td>0</td>\n",
              "      <td>0</td>\n",
              "      <td>0</td>\n",
              "      <td>0</td>\n",
              "      <td>0</td>\n",
              "      <td>0</td>\n",
              "      <td>0</td>\n",
              "      <td>0</td>\n",
              "      <td>0</td>\n",
              "      <td>1</td>\n",
              "      <td>0</td>\n",
              "      <td>0</td>\n",
              "      <td>0</td>\n",
              "      <td>1</td>\n",
              "      <td>0</td>\n",
              "      <td>0</td>\n",
              "      <td>0</td>\n",
              "      <td>0</td>\n",
              "      <td>0</td>\n",
              "      <td>0</td>\n",
              "      <td>0</td>\n",
              "      <td>0</td>\n",
              "      <td>0</td>\n",
              "      <td>0</td>\n",
              "      <td>0</td>\n",
              "    </tr>\n",
              "  </tbody>\n",
              "</table>\n",
              "<p>2327 rows × 29 columns</p>\n",
              "</div>"
            ],
            "text/plain": [
              "      purchased  added_in_cart  checked_out  ...  counts_3  counts_4  counts_5\n",
              "0             1              0            0  ...         1         0         0\n",
              "1             0              0            0  ...         0         0         0\n",
              "2             1              0            0  ...         0         0         0\n",
              "3             0              0            0  ...         0         0         0\n",
              "4             0              0            0  ...         0         0         0\n",
              "...         ...            ...          ...  ...       ...       ...       ...\n",
              "2322          0              0            0  ...         0         0         0\n",
              "2323          0              1            0  ...         0         0         0\n",
              "2324          0              0            0  ...         0         0         0\n",
              "2325          1              0            0  ...         0         0         0\n",
              "2326          0              1            0  ...         0         0         0\n",
              "\n",
              "[2327 rows x 29 columns]"
            ]
          },
          "metadata": {
            "tags": []
          },
          "execution_count": 123
        }
      ]
    },
    {
      "cell_type": "code",
      "metadata": {
        "id": "AGEf_ZGGfbV4"
      },
      "source": [
        "test = test[['customer_activity_add','customer_activity_chk','customer_activity_no_activity','customer_activity_purc',2019,2020,'qtr4','android_m','android_w','iPhone_m','ipad','ipadweb','tablet_m','web','counts_4','counts_5']]"
      ],
      "execution_count": null,
      "outputs": []
    },
    {
      "cell_type": "code",
      "metadata": {
        "colab": {
          "base_uri": "https://localhost:8080/",
          "height": 435
        },
        "id": "4R6iv3FVfbV4",
        "outputId": "903eda5f-7f06-4283-f92b-494e976ae70d"
      },
      "source": [
        "test"
      ],
      "execution_count": null,
      "outputs": [
        {
          "output_type": "execute_result",
          "data": {
            "text/html": [
              "<div>\n",
              "<style scoped>\n",
              "    .dataframe tbody tr th:only-of-type {\n",
              "        vertical-align: middle;\n",
              "    }\n",
              "\n",
              "    .dataframe tbody tr th {\n",
              "        vertical-align: top;\n",
              "    }\n",
              "\n",
              "    .dataframe thead th {\n",
              "        text-align: right;\n",
              "    }\n",
              "</style>\n",
              "<table border=\"1\" class=\"dataframe\">\n",
              "  <thead>\n",
              "    <tr style=\"text-align: right;\">\n",
              "      <th></th>\n",
              "      <th>customer_activity_add</th>\n",
              "      <th>customer_activity_chk</th>\n",
              "      <th>customer_activity_no_activity</th>\n",
              "      <th>customer_activity_purc</th>\n",
              "      <th>2019</th>\n",
              "      <th>2020</th>\n",
              "      <th>qtr4</th>\n",
              "      <th>android_m</th>\n",
              "      <th>android_w</th>\n",
              "      <th>iPhone_m</th>\n",
              "      <th>ipad</th>\n",
              "      <th>ipadweb</th>\n",
              "      <th>tablet_m</th>\n",
              "      <th>web</th>\n",
              "      <th>counts_4</th>\n",
              "      <th>counts_5</th>\n",
              "    </tr>\n",
              "  </thead>\n",
              "  <tbody>\n",
              "    <tr>\n",
              "      <th>0</th>\n",
              "      <td>0</td>\n",
              "      <td>0</td>\n",
              "      <td>0</td>\n",
              "      <td>1</td>\n",
              "      <td>0</td>\n",
              "      <td>1</td>\n",
              "      <td>0</td>\n",
              "      <td>0</td>\n",
              "      <td>0</td>\n",
              "      <td>0</td>\n",
              "      <td>0</td>\n",
              "      <td>0</td>\n",
              "      <td>0</td>\n",
              "      <td>1</td>\n",
              "      <td>0</td>\n",
              "      <td>0</td>\n",
              "    </tr>\n",
              "    <tr>\n",
              "      <th>1</th>\n",
              "      <td>0</td>\n",
              "      <td>0</td>\n",
              "      <td>1</td>\n",
              "      <td>0</td>\n",
              "      <td>0</td>\n",
              "      <td>1</td>\n",
              "      <td>0</td>\n",
              "      <td>1</td>\n",
              "      <td>0</td>\n",
              "      <td>0</td>\n",
              "      <td>0</td>\n",
              "      <td>0</td>\n",
              "      <td>0</td>\n",
              "      <td>0</td>\n",
              "      <td>0</td>\n",
              "      <td>0</td>\n",
              "    </tr>\n",
              "    <tr>\n",
              "      <th>2</th>\n",
              "      <td>0</td>\n",
              "      <td>0</td>\n",
              "      <td>0</td>\n",
              "      <td>1</td>\n",
              "      <td>1</td>\n",
              "      <td>0</td>\n",
              "      <td>1</td>\n",
              "      <td>0</td>\n",
              "      <td>0</td>\n",
              "      <td>1</td>\n",
              "      <td>0</td>\n",
              "      <td>0</td>\n",
              "      <td>0</td>\n",
              "      <td>0</td>\n",
              "      <td>0</td>\n",
              "      <td>0</td>\n",
              "    </tr>\n",
              "    <tr>\n",
              "      <th>3</th>\n",
              "      <td>0</td>\n",
              "      <td>0</td>\n",
              "      <td>1</td>\n",
              "      <td>0</td>\n",
              "      <td>0</td>\n",
              "      <td>1</td>\n",
              "      <td>0</td>\n",
              "      <td>0</td>\n",
              "      <td>0</td>\n",
              "      <td>0</td>\n",
              "      <td>0</td>\n",
              "      <td>0</td>\n",
              "      <td>0</td>\n",
              "      <td>1</td>\n",
              "      <td>0</td>\n",
              "      <td>0</td>\n",
              "    </tr>\n",
              "    <tr>\n",
              "      <th>4</th>\n",
              "      <td>0</td>\n",
              "      <td>0</td>\n",
              "      <td>1</td>\n",
              "      <td>0</td>\n",
              "      <td>0</td>\n",
              "      <td>1</td>\n",
              "      <td>0</td>\n",
              "      <td>0</td>\n",
              "      <td>0</td>\n",
              "      <td>0</td>\n",
              "      <td>0</td>\n",
              "      <td>0</td>\n",
              "      <td>0</td>\n",
              "      <td>1</td>\n",
              "      <td>0</td>\n",
              "      <td>0</td>\n",
              "    </tr>\n",
              "    <tr>\n",
              "      <th>...</th>\n",
              "      <td>...</td>\n",
              "      <td>...</td>\n",
              "      <td>...</td>\n",
              "      <td>...</td>\n",
              "      <td>...</td>\n",
              "      <td>...</td>\n",
              "      <td>...</td>\n",
              "      <td>...</td>\n",
              "      <td>...</td>\n",
              "      <td>...</td>\n",
              "      <td>...</td>\n",
              "      <td>...</td>\n",
              "      <td>...</td>\n",
              "      <td>...</td>\n",
              "      <td>...</td>\n",
              "      <td>...</td>\n",
              "    </tr>\n",
              "    <tr>\n",
              "      <th>2322</th>\n",
              "      <td>0</td>\n",
              "      <td>0</td>\n",
              "      <td>1</td>\n",
              "      <td>0</td>\n",
              "      <td>1</td>\n",
              "      <td>0</td>\n",
              "      <td>1</td>\n",
              "      <td>1</td>\n",
              "      <td>0</td>\n",
              "      <td>0</td>\n",
              "      <td>0</td>\n",
              "      <td>0</td>\n",
              "      <td>0</td>\n",
              "      <td>0</td>\n",
              "      <td>0</td>\n",
              "      <td>0</td>\n",
              "    </tr>\n",
              "    <tr>\n",
              "      <th>2323</th>\n",
              "      <td>1</td>\n",
              "      <td>0</td>\n",
              "      <td>0</td>\n",
              "      <td>0</td>\n",
              "      <td>0</td>\n",
              "      <td>1</td>\n",
              "      <td>0</td>\n",
              "      <td>0</td>\n",
              "      <td>0</td>\n",
              "      <td>0</td>\n",
              "      <td>0</td>\n",
              "      <td>0</td>\n",
              "      <td>0</td>\n",
              "      <td>1</td>\n",
              "      <td>0</td>\n",
              "      <td>0</td>\n",
              "    </tr>\n",
              "    <tr>\n",
              "      <th>2324</th>\n",
              "      <td>0</td>\n",
              "      <td>0</td>\n",
              "      <td>1</td>\n",
              "      <td>0</td>\n",
              "      <td>0</td>\n",
              "      <td>1</td>\n",
              "      <td>0</td>\n",
              "      <td>0</td>\n",
              "      <td>0</td>\n",
              "      <td>1</td>\n",
              "      <td>0</td>\n",
              "      <td>0</td>\n",
              "      <td>0</td>\n",
              "      <td>0</td>\n",
              "      <td>0</td>\n",
              "      <td>0</td>\n",
              "    </tr>\n",
              "    <tr>\n",
              "      <th>2325</th>\n",
              "      <td>0</td>\n",
              "      <td>0</td>\n",
              "      <td>0</td>\n",
              "      <td>1</td>\n",
              "      <td>1</td>\n",
              "      <td>0</td>\n",
              "      <td>1</td>\n",
              "      <td>0</td>\n",
              "      <td>0</td>\n",
              "      <td>0</td>\n",
              "      <td>1</td>\n",
              "      <td>0</td>\n",
              "      <td>0</td>\n",
              "      <td>0</td>\n",
              "      <td>0</td>\n",
              "      <td>0</td>\n",
              "    </tr>\n",
              "    <tr>\n",
              "      <th>2326</th>\n",
              "      <td>1</td>\n",
              "      <td>0</td>\n",
              "      <td>0</td>\n",
              "      <td>0</td>\n",
              "      <td>0</td>\n",
              "      <td>1</td>\n",
              "      <td>0</td>\n",
              "      <td>1</td>\n",
              "      <td>0</td>\n",
              "      <td>0</td>\n",
              "      <td>0</td>\n",
              "      <td>0</td>\n",
              "      <td>0</td>\n",
              "      <td>0</td>\n",
              "      <td>0</td>\n",
              "      <td>0</td>\n",
              "    </tr>\n",
              "  </tbody>\n",
              "</table>\n",
              "<p>2327 rows × 16 columns</p>\n",
              "</div>"
            ],
            "text/plain": [
              "      customer_activity_add  customer_activity_chk  ...  counts_4  counts_5\n",
              "0                         0                      0  ...         0         0\n",
              "1                         0                      0  ...         0         0\n",
              "2                         0                      0  ...         0         0\n",
              "3                         0                      0  ...         0         0\n",
              "4                         0                      0  ...         0         0\n",
              "...                     ...                    ...  ...       ...       ...\n",
              "2322                      0                      0  ...         0         0\n",
              "2323                      1                      0  ...         0         0\n",
              "2324                      0                      0  ...         0         0\n",
              "2325                      0                      0  ...         0         0\n",
              "2326                      1                      0  ...         0         0\n",
              "\n",
              "[2327 rows x 16 columns]"
            ]
          },
          "metadata": {
            "tags": []
          },
          "execution_count": 398
        }
      ]
    },
    {
      "cell_type": "code",
      "metadata": {
        "colab": {
          "base_uri": "https://localhost:8080/"
        },
        "id": "R9Ng1XdthTtB",
        "outputId": "15864436-ff68-4af6-ccc2-5e535a00e15a"
      },
      "source": [
        "from sklearn.ensemble import GradientBoostingRegressor\r\n",
        "from math import sqrt \r\n",
        "from sklearn.metrics import mean_squared_log_error\r\n",
        "gb = GradientBoostingRegressor(verbose=1, learning_rate=0.2, n_estimators=100, random_state=33, subsample=0.7, loss='ls')\r\n",
        "gb.fit(x_train, y_train)\r\n",
        "y_pred_gb = gb.predict(x_test)\r\n",
        "print('score', (sqrt(mean_squared_log_error(y_test, y_pred_gb))))"
      ],
      "execution_count": null,
      "outputs": [
        {
          "output_type": "stream",
          "text": [
            "      Iter       Train Loss      OOB Improve   Remaining Time \n",
            "         1           2.7044           0.3470            0.35s\n",
            "         2           2.5190           0.2179            0.30s\n",
            "         3           2.3184           0.1773            0.28s\n",
            "         4           2.2026           0.0943            0.25s\n",
            "         5           2.1501           0.0814            0.23s\n",
            "         6           2.1122           0.0399            0.23s\n",
            "         7           2.0508           0.0360            0.23s\n",
            "         8           2.0335           0.0160            0.23s\n",
            "         9           2.0236           0.0128            0.24s\n",
            "        10           2.0050           0.0083            0.23s\n",
            "        20           1.9651           0.0003            0.16s\n",
            "        30           1.9264          -0.0005            0.13s\n",
            "        40           1.9126          -0.0012            0.11s\n",
            "        50           1.8850          -0.0048            0.09s\n",
            "        60           1.8609          -0.0064            0.07s\n",
            "        70           1.8723          -0.0028            0.05s\n",
            "        80           1.8684          -0.0028            0.03s\n",
            "        90           1.8714          -0.0036            0.02s\n",
            "       100           1.8108          -0.0036            0.00s\n",
            "score 0.23540032357092\n"
          ],
          "name": "stdout"
        }
      ]
    },
    {
      "cell_type": "code",
      "metadata": {
        "colab": {
          "base_uri": "https://localhost:8080/"
        },
        "id": "VwhYCF9dhgAy",
        "outputId": "e166ecb0-1250-43a1-85b5-60c533dac63b"
      },
      "source": [
        "from sklearn.metrics import r2_score\r\n",
        "score3 = r2_score(y_test, y_pred_gb)\r\n",
        "score3"
      ],
      "execution_count": null,
      "outputs": [
        {
          "output_type": "execute_result",
          "data": {
            "text/plain": [
              "0.3912762659644823"
            ]
          },
          "metadata": {
            "tags": []
          },
          "execution_count": 400
        }
      ]
    },
    {
      "cell_type": "code",
      "metadata": {
        "colab": {
          "base_uri": "https://localhost:8080/"
        },
        "id": "p4K6vO5kxGYf",
        "outputId": "3482d96f-5aa7-4539-b0bf-6739f8eb7648"
      },
      "source": [
        "y_pred4 = gb.predict(x_test)\r\n",
        "print('RMSLE', sqrt(mean_squared_log_error(np.expm1(y_test), np.expm1(y_pred_gb))))"
      ],
      "execution_count": null,
      "outputs": [
        {
          "output_type": "stream",
          "text": [
            "RMSLE 1.396157850702386\n"
          ],
          "name": "stdout"
        }
      ]
    },
    {
      "cell_type": "code",
      "metadata": {
        "colab": {
          "base_uri": "https://localhost:8080/"
        },
        "id": "uBpHyiS9hj5_",
        "outputId": "8a06bec8-14ab-4cb2-e429-d1be4d2f348e"
      },
      "source": [
        "pip install catboost"
      ],
      "execution_count": null,
      "outputs": [
        {
          "output_type": "stream",
          "text": [
            "Requirement already satisfied: catboost in /usr/local/lib/python3.6/dist-packages (0.24.4)\n",
            "Requirement already satisfied: graphviz in /usr/local/lib/python3.6/dist-packages (from catboost) (0.10.1)\n",
            "Requirement already satisfied: pandas>=0.24.0 in /usr/local/lib/python3.6/dist-packages (from catboost) (1.1.5)\n",
            "Requirement already satisfied: scipy in /usr/local/lib/python3.6/dist-packages (from catboost) (1.4.1)\n",
            "Requirement already satisfied: numpy>=1.16.0 in /usr/local/lib/python3.6/dist-packages (from catboost) (1.19.4)\n",
            "Requirement already satisfied: matplotlib in /usr/local/lib/python3.6/dist-packages (from catboost) (3.2.2)\n",
            "Requirement already satisfied: plotly in /usr/local/lib/python3.6/dist-packages (from catboost) (4.4.1)\n",
            "Requirement already satisfied: six in /usr/local/lib/python3.6/dist-packages (from catboost) (1.15.0)\n",
            "Requirement already satisfied: pytz>=2017.2 in /usr/local/lib/python3.6/dist-packages (from pandas>=0.24.0->catboost) (2018.9)\n",
            "Requirement already satisfied: python-dateutil>=2.7.3 in /usr/local/lib/python3.6/dist-packages (from pandas>=0.24.0->catboost) (2.8.1)\n",
            "Requirement already satisfied: pyparsing!=2.0.4,!=2.1.2,!=2.1.6,>=2.0.1 in /usr/local/lib/python3.6/dist-packages (from matplotlib->catboost) (2.4.7)\n",
            "Requirement already satisfied: kiwisolver>=1.0.1 in /usr/local/lib/python3.6/dist-packages (from matplotlib->catboost) (1.3.1)\n",
            "Requirement already satisfied: cycler>=0.10 in /usr/local/lib/python3.6/dist-packages (from matplotlib->catboost) (0.10.0)\n",
            "Requirement already satisfied: retrying>=1.3.3 in /usr/local/lib/python3.6/dist-packages (from plotly->catboost) (1.3.3)\n"
          ],
          "name": "stdout"
        }
      ]
    },
    {
      "cell_type": "code",
      "metadata": {
        "colab": {
          "base_uri": "https://localhost:8080/"
        },
        "id": "ft32ab8Zhrlf",
        "outputId": "b2f94663-36ad-4773-a56d-01d6b900ea27"
      },
      "source": [
        "pip install xgboost"
      ],
      "execution_count": null,
      "outputs": [
        {
          "output_type": "stream",
          "text": [
            "Requirement already satisfied: xgboost in /usr/local/lib/python3.6/dist-packages (0.90)\n",
            "Requirement already satisfied: numpy in /usr/local/lib/python3.6/dist-packages (from xgboost) (1.19.4)\n",
            "Requirement already satisfied: scipy in /usr/local/lib/python3.6/dist-packages (from xgboost) (1.4.1)\n"
          ],
          "name": "stdout"
        }
      ]
    },
    {
      "cell_type": "code",
      "metadata": {
        "colab": {
          "base_uri": "https://localhost:8080/"
        },
        "id": "RjLwIrKthurz",
        "outputId": "bca80e3f-6010-41e5-8cae-fbf498b3ef46"
      },
      "source": [
        "pip install lightgbm"
      ],
      "execution_count": null,
      "outputs": [
        {
          "output_type": "stream",
          "text": [
            "Requirement already satisfied: lightgbm in /usr/local/lib/python3.6/dist-packages (2.2.3)\n",
            "Requirement already satisfied: scipy in /usr/local/lib/python3.6/dist-packages (from lightgbm) (1.4.1)\n",
            "Requirement already satisfied: numpy in /usr/local/lib/python3.6/dist-packages (from lightgbm) (1.19.4)\n",
            "Requirement already satisfied: scikit-learn in /usr/local/lib/python3.6/dist-packages (from lightgbm) (0.22.2.post1)\n",
            "Requirement already satisfied: joblib>=0.11 in /usr/local/lib/python3.6/dist-packages (from scikit-learn->lightgbm) (1.0.0)\n"
          ],
          "name": "stdout"
        }
      ]
    },
    {
      "cell_type": "code",
      "metadata": {
        "colab": {
          "base_uri": "https://localhost:8080/"
        },
        "id": "aYu1dF8phyGB",
        "outputId": "f791edee-375e-467d-b1d7-bab404f5233f"
      },
      "source": [
        "from lightgbm import LGBMRegressor\r\n",
        "from math import sqrt\r\n",
        "from sklearn.metrics import mean_squared_log_error\r\n",
        "model = LGBMRegressor()\r\n",
        "model.fit(x_train, y_train)\r\n",
        "pred = model.predict(x_test)\r\n",
        "accuracy = model.score(x_test, y_test) \r\n",
        "print(accuracy) "
      ],
      "execution_count": null,
      "outputs": [
        {
          "output_type": "stream",
          "text": [
            "0.38657606885445517\n"
          ],
          "name": "stdout"
        }
      ]
    },
    {
      "cell_type": "code",
      "metadata": {
        "colab": {
          "base_uri": "https://localhost:8080/"
        },
        "id": "FkmyDZsGh5aX",
        "outputId": "efc9d2d4-96e4-4463-ddda-69bb71deca0c"
      },
      "source": [
        "pred"
      ],
      "execution_count": null,
      "outputs": [
        {
          "output_type": "execute_result",
          "data": {
            "text/plain": [
              "array([4.92509396, 3.371918  , 5.19986212, ..., 3.55110377, 4.78350741,\n",
              "       3.93830398])"
            ]
          },
          "metadata": {
            "tags": []
          },
          "execution_count": 404
        }
      ]
    },
    {
      "cell_type": "code",
      "metadata": {
        "colab": {
          "base_uri": "https://localhost:8080/"
        },
        "id": "Yc-TZ143xwJa",
        "outputId": "ee126dad-149d-4792-c002-e0d216d7969f"
      },
      "source": [
        "y_pred4 = model.predict(x_test)\r\n",
        "print('RMSLE', sqrt(mean_squared_log_error(np.expm1(y_test), np.expm1(y_pred4))))"
      ],
      "execution_count": null,
      "outputs": [
        {
          "output_type": "stream",
          "text": [
            "RMSLE 1.4015376297626267\n"
          ],
          "name": "stdout"
        }
      ]
    },
    {
      "cell_type": "code",
      "metadata": {
        "colab": {
          "base_uri": "https://localhost:8080/"
        },
        "id": "-xijuaKah8uG",
        "outputId": "3fac5fa3-0589-42ce-d689-12a1a4afd794"
      },
      "source": [
        "from catboost import CatBoostRegressor\r\n",
        "clf = CatBoostRegressor()\r\n",
        "\r\n",
        "clf.fit(x_train, y_train)"
      ],
      "execution_count": null,
      "outputs": [
        {
          "output_type": "stream",
          "text": [
            "Learning rate set to 0.050639\n",
            "0:\tlearn: 1.7235602\ttotal: 1.13ms\tremaining: 1.12s\n",
            "1:\tlearn: 1.6982374\ttotal: 2.17ms\tremaining: 1.08s\n",
            "2:\tlearn: 1.6774109\ttotal: 2.97ms\tremaining: 986ms\n",
            "3:\tlearn: 1.6567785\ttotal: 3.87ms\tremaining: 964ms\n",
            "4:\tlearn: 1.6362310\ttotal: 4.9ms\tremaining: 975ms\n",
            "5:\tlearn: 1.6206473\ttotal: 5.54ms\tremaining: 918ms\n",
            "6:\tlearn: 1.6063259\ttotal: 6.18ms\tremaining: 877ms\n",
            "7:\tlearn: 1.5901042\ttotal: 7.63ms\tremaining: 947ms\n",
            "8:\tlearn: 1.5745803\ttotal: 8.64ms\tremaining: 951ms\n",
            "9:\tlearn: 1.5604205\ttotal: 9.97ms\tremaining: 987ms\n",
            "10:\tlearn: 1.5461822\ttotal: 11ms\tremaining: 985ms\n",
            "11:\tlearn: 1.5370578\ttotal: 11.9ms\tremaining: 984ms\n",
            "12:\tlearn: 1.5257310\ttotal: 13.3ms\tremaining: 1.01s\n",
            "13:\tlearn: 1.5162671\ttotal: 14.2ms\tremaining: 1000ms\n",
            "14:\tlearn: 1.5057260\ttotal: 15.1ms\tremaining: 992ms\n",
            "15:\tlearn: 1.4988194\ttotal: 16ms\tremaining: 984ms\n",
            "16:\tlearn: 1.4914826\ttotal: 16.8ms\tremaining: 969ms\n",
            "17:\tlearn: 1.4841263\ttotal: 17.8ms\tremaining: 971ms\n",
            "18:\tlearn: 1.4778364\ttotal: 18.7ms\tremaining: 966ms\n",
            "19:\tlearn: 1.4718121\ttotal: 19.7ms\tremaining: 965ms\n",
            "20:\tlearn: 1.4653530\ttotal: 20.6ms\tremaining: 961ms\n",
            "21:\tlearn: 1.4610586\ttotal: 21.6ms\tremaining: 960ms\n",
            "22:\tlearn: 1.4558869\ttotal: 22.5ms\tremaining: 957ms\n",
            "23:\tlearn: 1.4525266\ttotal: 23.7ms\tremaining: 965ms\n",
            "24:\tlearn: 1.4478013\ttotal: 24.8ms\tremaining: 969ms\n",
            "25:\tlearn: 1.4435158\ttotal: 25.9ms\tremaining: 970ms\n",
            "26:\tlearn: 1.4391965\ttotal: 26.9ms\tremaining: 968ms\n",
            "27:\tlearn: 1.4367260\ttotal: 27.8ms\tremaining: 964ms\n",
            "28:\tlearn: 1.4336557\ttotal: 28.7ms\tremaining: 961ms\n",
            "29:\tlearn: 1.4312911\ttotal: 29.7ms\tremaining: 960ms\n",
            "30:\tlearn: 1.4298631\ttotal: 30.3ms\tremaining: 948ms\n",
            "31:\tlearn: 1.4264180\ttotal: 31.4ms\tremaining: 948ms\n",
            "32:\tlearn: 1.4234007\ttotal: 32.3ms\tremaining: 947ms\n",
            "33:\tlearn: 1.4215546\ttotal: 33.3ms\tremaining: 946ms\n",
            "34:\tlearn: 1.4191176\ttotal: 34.3ms\tremaining: 945ms\n",
            "35:\tlearn: 1.4166526\ttotal: 35.2ms\tremaining: 944ms\n",
            "36:\tlearn: 1.4146976\ttotal: 36.3ms\tremaining: 944ms\n",
            "37:\tlearn: 1.4132936\ttotal: 37.3ms\tremaining: 943ms\n",
            "38:\tlearn: 1.4116520\ttotal: 38.2ms\tremaining: 942ms\n",
            "39:\tlearn: 1.4104126\ttotal: 39.2ms\tremaining: 940ms\n",
            "40:\tlearn: 1.4088760\ttotal: 40.1ms\tremaining: 938ms\n",
            "41:\tlearn: 1.4076738\ttotal: 40.9ms\tremaining: 934ms\n",
            "42:\tlearn: 1.4064460\ttotal: 41.9ms\tremaining: 933ms\n",
            "43:\tlearn: 1.4054672\ttotal: 42.9ms\tremaining: 932ms\n",
            "44:\tlearn: 1.4045093\ttotal: 43.9ms\tremaining: 931ms\n",
            "45:\tlearn: 1.4031092\ttotal: 44.8ms\tremaining: 930ms\n",
            "46:\tlearn: 1.4024410\ttotal: 45.7ms\tremaining: 926ms\n",
            "47:\tlearn: 1.4011561\ttotal: 46.9ms\tremaining: 930ms\n",
            "48:\tlearn: 1.3999239\ttotal: 48ms\tremaining: 932ms\n",
            "49:\tlearn: 1.3988934\ttotal: 49ms\tremaining: 931ms\n",
            "50:\tlearn: 1.3978708\ttotal: 50.2ms\tremaining: 934ms\n",
            "51:\tlearn: 1.3973369\ttotal: 51.3ms\tremaining: 935ms\n",
            "52:\tlearn: 1.3966582\ttotal: 52.3ms\tremaining: 935ms\n",
            "53:\tlearn: 1.3956975\ttotal: 53.4ms\tremaining: 935ms\n",
            "54:\tlearn: 1.3950533\ttotal: 54.5ms\tremaining: 936ms\n",
            "55:\tlearn: 1.3942782\ttotal: 55.4ms\tremaining: 934ms\n",
            "56:\tlearn: 1.3934420\ttotal: 56.4ms\tremaining: 933ms\n",
            "57:\tlearn: 1.3928477\ttotal: 57.2ms\tremaining: 929ms\n",
            "58:\tlearn: 1.3922623\ttotal: 58.2ms\tremaining: 928ms\n",
            "59:\tlearn: 1.3915656\ttotal: 59.1ms\tremaining: 925ms\n",
            "60:\tlearn: 1.3908072\ttotal: 60ms\tremaining: 924ms\n",
            "61:\tlearn: 1.3901602\ttotal: 60.9ms\tremaining: 921ms\n",
            "62:\tlearn: 1.3897215\ttotal: 61.9ms\tremaining: 920ms\n",
            "63:\tlearn: 1.3891619\ttotal: 62.8ms\tremaining: 919ms\n",
            "64:\tlearn: 1.3884686\ttotal: 63.8ms\tremaining: 917ms\n",
            "65:\tlearn: 1.3879724\ttotal: 64.7ms\tremaining: 916ms\n",
            "66:\tlearn: 1.3875907\ttotal: 65.6ms\tremaining: 914ms\n",
            "67:\tlearn: 1.3870414\ttotal: 66.7ms\tremaining: 914ms\n",
            "68:\tlearn: 1.3867914\ttotal: 67.5ms\tremaining: 911ms\n",
            "69:\tlearn: 1.3863807\ttotal: 68.4ms\tremaining: 909ms\n",
            "70:\tlearn: 1.3858837\ttotal: 69.3ms\tremaining: 906ms\n",
            "71:\tlearn: 1.3852143\ttotal: 70.2ms\tremaining: 905ms\n",
            "72:\tlearn: 1.3846344\ttotal: 71.1ms\tremaining: 903ms\n",
            "73:\tlearn: 1.3841579\ttotal: 72ms\tremaining: 900ms\n",
            "74:\tlearn: 1.3835997\ttotal: 72.9ms\tremaining: 899ms\n",
            "75:\tlearn: 1.3831970\ttotal: 73.8ms\tremaining: 897ms\n",
            "76:\tlearn: 1.3825633\ttotal: 74.8ms\tremaining: 896ms\n",
            "77:\tlearn: 1.3821434\ttotal: 75.7ms\tremaining: 895ms\n",
            "78:\tlearn: 1.3817003\ttotal: 76.7ms\tremaining: 894ms\n",
            "79:\tlearn: 1.3813573\ttotal: 77.6ms\tremaining: 892ms\n",
            "80:\tlearn: 1.3809963\ttotal: 78.5ms\tremaining: 890ms\n",
            "81:\tlearn: 1.3806367\ttotal: 79.4ms\tremaining: 888ms\n",
            "82:\tlearn: 1.3802335\ttotal: 80.5ms\tremaining: 889ms\n",
            "83:\tlearn: 1.3801803\ttotal: 81.2ms\tremaining: 885ms\n",
            "84:\tlearn: 1.3800454\ttotal: 82.3ms\tremaining: 886ms\n",
            "85:\tlearn: 1.3799981\ttotal: 82.9ms\tremaining: 881ms\n",
            "86:\tlearn: 1.3796163\ttotal: 84ms\tremaining: 881ms\n",
            "87:\tlearn: 1.3794194\ttotal: 85ms\tremaining: 881ms\n",
            "88:\tlearn: 1.3793619\ttotal: 85.8ms\tremaining: 878ms\n",
            "89:\tlearn: 1.3789227\ttotal: 86.8ms\tremaining: 877ms\n",
            "90:\tlearn: 1.3788347\ttotal: 87.6ms\tremaining: 875ms\n",
            "91:\tlearn: 1.3785306\ttotal: 88.5ms\tremaining: 873ms\n",
            "92:\tlearn: 1.3784341\ttotal: 89.3ms\tremaining: 870ms\n",
            "93:\tlearn: 1.3781324\ttotal: 90.1ms\tremaining: 869ms\n",
            "94:\tlearn: 1.3778649\ttotal: 91ms\tremaining: 867ms\n",
            "95:\tlearn: 1.3776502\ttotal: 91.8ms\tremaining: 864ms\n",
            "96:\tlearn: 1.3775460\ttotal: 92.5ms\tremaining: 861ms\n",
            "97:\tlearn: 1.3770369\ttotal: 93.4ms\tremaining: 859ms\n",
            "98:\tlearn: 1.3766910\ttotal: 94.2ms\tremaining: 858ms\n",
            "99:\tlearn: 1.3763519\ttotal: 95.1ms\tremaining: 856ms\n",
            "100:\tlearn: 1.3760590\ttotal: 96ms\tremaining: 855ms\n",
            "101:\tlearn: 1.3760510\ttotal: 96.6ms\tremaining: 851ms\n",
            "102:\tlearn: 1.3758938\ttotal: 97.6ms\tremaining: 850ms\n",
            "103:\tlearn: 1.3755119\ttotal: 98.5ms\tremaining: 849ms\n",
            "104:\tlearn: 1.3751382\ttotal: 99.4ms\tremaining: 847ms\n",
            "105:\tlearn: 1.3749190\ttotal: 100ms\tremaining: 846ms\n",
            "106:\tlearn: 1.3746668\ttotal: 101ms\tremaining: 844ms\n",
            "107:\tlearn: 1.3743866\ttotal: 102ms\tremaining: 844ms\n",
            "108:\tlearn: 1.3741305\ttotal: 103ms\tremaining: 842ms\n",
            "109:\tlearn: 1.3738984\ttotal: 104ms\tremaining: 841ms\n",
            "110:\tlearn: 1.3736256\ttotal: 105ms\tremaining: 840ms\n",
            "111:\tlearn: 1.3733655\ttotal: 106ms\tremaining: 838ms\n",
            "112:\tlearn: 1.3731278\ttotal: 107ms\tremaining: 837ms\n",
            "113:\tlearn: 1.3729841\ttotal: 107ms\tremaining: 835ms\n",
            "114:\tlearn: 1.3729298\ttotal: 108ms\tremaining: 832ms\n",
            "115:\tlearn: 1.3727172\ttotal: 109ms\tremaining: 831ms\n",
            "116:\tlearn: 1.3725746\ttotal: 110ms\tremaining: 830ms\n",
            "117:\tlearn: 1.3724497\ttotal: 111ms\tremaining: 828ms\n",
            "118:\tlearn: 1.3722353\ttotal: 112ms\tremaining: 826ms\n",
            "119:\tlearn: 1.3721974\ttotal: 112ms\tremaining: 824ms\n",
            "120:\tlearn: 1.3720047\ttotal: 113ms\tremaining: 822ms\n",
            "121:\tlearn: 1.3718805\ttotal: 114ms\tremaining: 821ms\n",
            "122:\tlearn: 1.3716820\ttotal: 115ms\tremaining: 819ms\n",
            "123:\tlearn: 1.3714782\ttotal: 116ms\tremaining: 818ms\n",
            "124:\tlearn: 1.3713994\ttotal: 116ms\tremaining: 815ms\n",
            "125:\tlearn: 1.3712507\ttotal: 117ms\tremaining: 813ms\n",
            "126:\tlearn: 1.3709998\ttotal: 118ms\tremaining: 812ms\n",
            "127:\tlearn: 1.3707324\ttotal: 119ms\tremaining: 811ms\n",
            "128:\tlearn: 1.3706912\ttotal: 120ms\tremaining: 808ms\n",
            "129:\tlearn: 1.3705044\ttotal: 121ms\tremaining: 807ms\n",
            "130:\tlearn: 1.3703185\ttotal: 122ms\tremaining: 806ms\n",
            "131:\tlearn: 1.3701634\ttotal: 123ms\tremaining: 806ms\n",
            "132:\tlearn: 1.3699137\ttotal: 123ms\tremaining: 805ms\n",
            "133:\tlearn: 1.3697067\ttotal: 124ms\tremaining: 803ms\n",
            "134:\tlearn: 1.3695553\ttotal: 125ms\tremaining: 802ms\n",
            "135:\tlearn: 1.3694419\ttotal: 126ms\tremaining: 801ms\n",
            "136:\tlearn: 1.3693074\ttotal: 127ms\tremaining: 799ms\n",
            "137:\tlearn: 1.3690398\ttotal: 128ms\tremaining: 798ms\n",
            "138:\tlearn: 1.3688747\ttotal: 129ms\tremaining: 797ms\n",
            "139:\tlearn: 1.3686115\ttotal: 130ms\tremaining: 796ms\n",
            "140:\tlearn: 1.3685258\ttotal: 130ms\tremaining: 794ms\n",
            "141:\tlearn: 1.3683328\ttotal: 131ms\tremaining: 793ms\n",
            "142:\tlearn: 1.3681156\ttotal: 132ms\tremaining: 792ms\n",
            "143:\tlearn: 1.3678574\ttotal: 133ms\tremaining: 791ms\n",
            "144:\tlearn: 1.3676543\ttotal: 134ms\tremaining: 790ms\n",
            "145:\tlearn: 1.3674407\ttotal: 135ms\tremaining: 788ms\n",
            "146:\tlearn: 1.3672419\ttotal: 136ms\tremaining: 787ms\n",
            "147:\tlearn: 1.3670713\ttotal: 137ms\tremaining: 786ms\n",
            "148:\tlearn: 1.3669050\ttotal: 137ms\tremaining: 785ms\n",
            "149:\tlearn: 1.3667734\ttotal: 138ms\tremaining: 784ms\n",
            "150:\tlearn: 1.3665783\ttotal: 139ms\tremaining: 783ms\n",
            "151:\tlearn: 1.3664184\ttotal: 140ms\tremaining: 782ms\n",
            "152:\tlearn: 1.3662703\ttotal: 141ms\tremaining: 781ms\n",
            "153:\tlearn: 1.3662459\ttotal: 142ms\tremaining: 779ms\n",
            "154:\tlearn: 1.3661768\ttotal: 143ms\tremaining: 777ms\n",
            "155:\tlearn: 1.3661535\ttotal: 143ms\tremaining: 775ms\n",
            "156:\tlearn: 1.3660652\ttotal: 144ms\tremaining: 773ms\n",
            "157:\tlearn: 1.3659505\ttotal: 145ms\tremaining: 772ms\n",
            "158:\tlearn: 1.3659243\ttotal: 146ms\tremaining: 771ms\n",
            "159:\tlearn: 1.3658008\ttotal: 147ms\tremaining: 770ms\n",
            "160:\tlearn: 1.3656363\ttotal: 148ms\tremaining: 769ms\n",
            "161:\tlearn: 1.3655134\ttotal: 148ms\tremaining: 768ms\n",
            "162:\tlearn: 1.3653826\ttotal: 149ms\tremaining: 767ms\n",
            "163:\tlearn: 1.3653011\ttotal: 150ms\tremaining: 766ms\n",
            "164:\tlearn: 1.3651466\ttotal: 151ms\tremaining: 765ms\n",
            "165:\tlearn: 1.3650377\ttotal: 152ms\tremaining: 764ms\n",
            "166:\tlearn: 1.3649048\ttotal: 153ms\tremaining: 763ms\n",
            "167:\tlearn: 1.3648040\ttotal: 154ms\tremaining: 762ms\n",
            "168:\tlearn: 1.3647521\ttotal: 155ms\tremaining: 761ms\n",
            "169:\tlearn: 1.3645949\ttotal: 156ms\tremaining: 760ms\n",
            "170:\tlearn: 1.3644188\ttotal: 157ms\tremaining: 759ms\n",
            "171:\tlearn: 1.3642612\ttotal: 158ms\tremaining: 758ms\n",
            "172:\tlearn: 1.3642019\ttotal: 158ms\tremaining: 758ms\n",
            "173:\tlearn: 1.3641555\ttotal: 159ms\tremaining: 756ms\n",
            "174:\tlearn: 1.3640393\ttotal: 160ms\tremaining: 755ms\n",
            "175:\tlearn: 1.3639436\ttotal: 161ms\tremaining: 754ms\n",
            "176:\tlearn: 1.3637148\ttotal: 162ms\tremaining: 753ms\n",
            "177:\tlearn: 1.3636139\ttotal: 163ms\tremaining: 752ms\n",
            "178:\tlearn: 1.3635040\ttotal: 164ms\tremaining: 750ms\n",
            "179:\tlearn: 1.3634225\ttotal: 164ms\tremaining: 749ms\n",
            "180:\tlearn: 1.3632764\ttotal: 165ms\tremaining: 748ms\n",
            "181:\tlearn: 1.3631678\ttotal: 166ms\tremaining: 748ms\n",
            "182:\tlearn: 1.3630416\ttotal: 167ms\tremaining: 747ms\n",
            "183:\tlearn: 1.3629039\ttotal: 168ms\tremaining: 747ms\n",
            "184:\tlearn: 1.3627965\ttotal: 169ms\tremaining: 745ms\n",
            "185:\tlearn: 1.3626474\ttotal: 170ms\tremaining: 745ms\n",
            "186:\tlearn: 1.3625008\ttotal: 171ms\tremaining: 745ms\n",
            "187:\tlearn: 1.3623922\ttotal: 172ms\tremaining: 744ms\n",
            "188:\tlearn: 1.3622646\ttotal: 173ms\tremaining: 744ms\n",
            "189:\tlearn: 1.3621672\ttotal: 174ms\tremaining: 743ms\n",
            "190:\tlearn: 1.3620050\ttotal: 175ms\tremaining: 742ms\n",
            "191:\tlearn: 1.3618853\ttotal: 176ms\tremaining: 742ms\n",
            "192:\tlearn: 1.3617870\ttotal: 177ms\tremaining: 741ms\n",
            "193:\tlearn: 1.3616626\ttotal: 178ms\tremaining: 740ms\n",
            "194:\tlearn: 1.3615739\ttotal: 180ms\tremaining: 742ms\n",
            "195:\tlearn: 1.3614813\ttotal: 181ms\tremaining: 743ms\n",
            "196:\tlearn: 1.3614025\ttotal: 182ms\tremaining: 743ms\n",
            "197:\tlearn: 1.3612715\ttotal: 185ms\tremaining: 748ms\n",
            "198:\tlearn: 1.3611491\ttotal: 186ms\tremaining: 750ms\n",
            "199:\tlearn: 1.3610849\ttotal: 188ms\tremaining: 750ms\n",
            "200:\tlearn: 1.3609269\ttotal: 189ms\tremaining: 750ms\n",
            "201:\tlearn: 1.3608350\ttotal: 190ms\tremaining: 750ms\n",
            "202:\tlearn: 1.3607204\ttotal: 191ms\tremaining: 749ms\n",
            "203:\tlearn: 1.3606311\ttotal: 192ms\tremaining: 748ms\n",
            "204:\tlearn: 1.3605334\ttotal: 193ms\tremaining: 747ms\n",
            "205:\tlearn: 1.3604269\ttotal: 193ms\tremaining: 746ms\n",
            "206:\tlearn: 1.3604241\ttotal: 194ms\tremaining: 743ms\n",
            "207:\tlearn: 1.3603485\ttotal: 195ms\tremaining: 742ms\n",
            "208:\tlearn: 1.3602892\ttotal: 196ms\tremaining: 741ms\n",
            "209:\tlearn: 1.3602197\ttotal: 197ms\tremaining: 740ms\n",
            "210:\tlearn: 1.3601327\ttotal: 198ms\tremaining: 740ms\n",
            "211:\tlearn: 1.3600255\ttotal: 199ms\tremaining: 739ms\n",
            "212:\tlearn: 1.3599695\ttotal: 200ms\tremaining: 738ms\n",
            "213:\tlearn: 1.3599098\ttotal: 201ms\tremaining: 737ms\n",
            "214:\tlearn: 1.3598601\ttotal: 202ms\tremaining: 736ms\n",
            "215:\tlearn: 1.3598071\ttotal: 202ms\tremaining: 735ms\n",
            "216:\tlearn: 1.3597273\ttotal: 204ms\tremaining: 734ms\n",
            "217:\tlearn: 1.3596597\ttotal: 205ms\tremaining: 734ms\n",
            "218:\tlearn: 1.3595489\ttotal: 205ms\tremaining: 733ms\n",
            "219:\tlearn: 1.3595052\ttotal: 206ms\tremaining: 732ms\n",
            "220:\tlearn: 1.3593962\ttotal: 207ms\tremaining: 731ms\n",
            "221:\tlearn: 1.3593363\ttotal: 208ms\tremaining: 730ms\n",
            "222:\tlearn: 1.3592583\ttotal: 209ms\tremaining: 729ms\n",
            "223:\tlearn: 1.3592093\ttotal: 210ms\tremaining: 728ms\n",
            "224:\tlearn: 1.3590907\ttotal: 211ms\tremaining: 727ms\n",
            "225:\tlearn: 1.3590201\ttotal: 212ms\tremaining: 727ms\n",
            "226:\tlearn: 1.3589628\ttotal: 213ms\tremaining: 726ms\n",
            "227:\tlearn: 1.3588248\ttotal: 214ms\tremaining: 725ms\n",
            "228:\tlearn: 1.3587860\ttotal: 215ms\tremaining: 724ms\n",
            "229:\tlearn: 1.3587341\ttotal: 216ms\tremaining: 723ms\n",
            "230:\tlearn: 1.3586039\ttotal: 217ms\tremaining: 722ms\n",
            "231:\tlearn: 1.3585535\ttotal: 218ms\tremaining: 721ms\n",
            "232:\tlearn: 1.3585200\ttotal: 219ms\tremaining: 720ms\n",
            "233:\tlearn: 1.3584572\ttotal: 220ms\tremaining: 719ms\n",
            "234:\tlearn: 1.3584059\ttotal: 221ms\tremaining: 718ms\n",
            "235:\tlearn: 1.3583014\ttotal: 222ms\tremaining: 718ms\n",
            "236:\tlearn: 1.3582441\ttotal: 223ms\tremaining: 716ms\n",
            "237:\tlearn: 1.3581668\ttotal: 223ms\tremaining: 715ms\n",
            "238:\tlearn: 1.3580925\ttotal: 224ms\tremaining: 715ms\n",
            "239:\tlearn: 1.3580028\ttotal: 225ms\tremaining: 714ms\n",
            "240:\tlearn: 1.3579559\ttotal: 226ms\tremaining: 713ms\n",
            "241:\tlearn: 1.3578786\ttotal: 227ms\tremaining: 712ms\n",
            "242:\tlearn: 1.3577895\ttotal: 228ms\tremaining: 711ms\n",
            "243:\tlearn: 1.3577683\ttotal: 229ms\tremaining: 710ms\n",
            "244:\tlearn: 1.3577058\ttotal: 230ms\tremaining: 709ms\n",
            "245:\tlearn: 1.3576695\ttotal: 231ms\tremaining: 708ms\n",
            "246:\tlearn: 1.3576015\ttotal: 232ms\tremaining: 707ms\n",
            "247:\tlearn: 1.3575784\ttotal: 233ms\tremaining: 706ms\n",
            "248:\tlearn: 1.3575205\ttotal: 234ms\tremaining: 705ms\n",
            "249:\tlearn: 1.3574808\ttotal: 235ms\tremaining: 704ms\n",
            "250:\tlearn: 1.3573739\ttotal: 236ms\tremaining: 703ms\n",
            "251:\tlearn: 1.3573166\ttotal: 237ms\tremaining: 702ms\n",
            "252:\tlearn: 1.3572600\ttotal: 238ms\tremaining: 701ms\n",
            "253:\tlearn: 1.3571611\ttotal: 238ms\tremaining: 700ms\n",
            "254:\tlearn: 1.3571227\ttotal: 239ms\tremaining: 699ms\n",
            "255:\tlearn: 1.3569986\ttotal: 240ms\tremaining: 698ms\n",
            "256:\tlearn: 1.3569291\ttotal: 241ms\tremaining: 697ms\n",
            "257:\tlearn: 1.3568539\ttotal: 242ms\tremaining: 696ms\n",
            "258:\tlearn: 1.3567941\ttotal: 243ms\tremaining: 696ms\n",
            "259:\tlearn: 1.3567531\ttotal: 244ms\tremaining: 694ms\n",
            "260:\tlearn: 1.3567183\ttotal: 245ms\tremaining: 693ms\n",
            "261:\tlearn: 1.3566896\ttotal: 246ms\tremaining: 692ms\n",
            "262:\tlearn: 1.3566588\ttotal: 247ms\tremaining: 691ms\n",
            "263:\tlearn: 1.3565899\ttotal: 248ms\tremaining: 690ms\n",
            "264:\tlearn: 1.3565414\ttotal: 249ms\tremaining: 689ms\n",
            "265:\tlearn: 1.3565189\ttotal: 249ms\tremaining: 688ms\n",
            "266:\tlearn: 1.3564689\ttotal: 250ms\tremaining: 687ms\n",
            "267:\tlearn: 1.3564413\ttotal: 251ms\tremaining: 686ms\n",
            "268:\tlearn: 1.3563620\ttotal: 252ms\tremaining: 685ms\n",
            "269:\tlearn: 1.3563230\ttotal: 253ms\tremaining: 684ms\n",
            "270:\tlearn: 1.3562772\ttotal: 254ms\tremaining: 683ms\n",
            "271:\tlearn: 1.3562542\ttotal: 255ms\tremaining: 682ms\n",
            "272:\tlearn: 1.3562211\ttotal: 255ms\tremaining: 680ms\n",
            "273:\tlearn: 1.3561978\ttotal: 256ms\tremaining: 679ms\n",
            "274:\tlearn: 1.3561309\ttotal: 257ms\tremaining: 678ms\n",
            "275:\tlearn: 1.3560810\ttotal: 258ms\tremaining: 677ms\n",
            "276:\tlearn: 1.3559800\ttotal: 259ms\tremaining: 676ms\n",
            "277:\tlearn: 1.3559262\ttotal: 260ms\tremaining: 675ms\n",
            "278:\tlearn: 1.3558654\ttotal: 261ms\tremaining: 674ms\n",
            "279:\tlearn: 1.3558095\ttotal: 262ms\tremaining: 673ms\n",
            "280:\tlearn: 1.3557908\ttotal: 263ms\tremaining: 672ms\n",
            "281:\tlearn: 1.3557691\ttotal: 264ms\tremaining: 671ms\n",
            "282:\tlearn: 1.3557495\ttotal: 264ms\tremaining: 670ms\n",
            "283:\tlearn: 1.3557221\ttotal: 265ms\tremaining: 669ms\n",
            "284:\tlearn: 1.3556410\ttotal: 266ms\tremaining: 668ms\n",
            "285:\tlearn: 1.3556206\ttotal: 267ms\tremaining: 667ms\n",
            "286:\tlearn: 1.3555743\ttotal: 268ms\tremaining: 666ms\n",
            "287:\tlearn: 1.3555484\ttotal: 269ms\tremaining: 665ms\n",
            "288:\tlearn: 1.3554500\ttotal: 270ms\tremaining: 664ms\n",
            "289:\tlearn: 1.3554197\ttotal: 271ms\tremaining: 662ms\n",
            "290:\tlearn: 1.3553938\ttotal: 272ms\tremaining: 662ms\n",
            "291:\tlearn: 1.3553420\ttotal: 272ms\tremaining: 661ms\n",
            "292:\tlearn: 1.3553142\ttotal: 273ms\tremaining: 660ms\n",
            "293:\tlearn: 1.3552885\ttotal: 274ms\tremaining: 658ms\n",
            "294:\tlearn: 1.3552565\ttotal: 275ms\tremaining: 657ms\n",
            "295:\tlearn: 1.3552385\ttotal: 276ms\tremaining: 656ms\n",
            "296:\tlearn: 1.3551573\ttotal: 277ms\tremaining: 655ms\n",
            "297:\tlearn: 1.3551244\ttotal: 278ms\tremaining: 654ms\n",
            "298:\tlearn: 1.3550586\ttotal: 279ms\tremaining: 653ms\n",
            "299:\tlearn: 1.3550193\ttotal: 280ms\tremaining: 653ms\n",
            "300:\tlearn: 1.3549638\ttotal: 281ms\tremaining: 651ms\n",
            "301:\tlearn: 1.3549341\ttotal: 281ms\tremaining: 650ms\n",
            "302:\tlearn: 1.3549214\ttotal: 282ms\tremaining: 649ms\n",
            "303:\tlearn: 1.3549041\ttotal: 283ms\tremaining: 648ms\n",
            "304:\tlearn: 1.3548863\ttotal: 284ms\tremaining: 647ms\n",
            "305:\tlearn: 1.3548701\ttotal: 285ms\tremaining: 646ms\n",
            "306:\tlearn: 1.3548529\ttotal: 286ms\tremaining: 645ms\n",
            "307:\tlearn: 1.3547935\ttotal: 287ms\tremaining: 644ms\n",
            "308:\tlearn: 1.3547771\ttotal: 287ms\tremaining: 643ms\n",
            "309:\tlearn: 1.3547307\ttotal: 288ms\tremaining: 642ms\n",
            "310:\tlearn: 1.3546889\ttotal: 289ms\tremaining: 641ms\n",
            "311:\tlearn: 1.3546318\ttotal: 290ms\tremaining: 640ms\n",
            "312:\tlearn: 1.3545819\ttotal: 291ms\tremaining: 639ms\n",
            "313:\tlearn: 1.3545035\ttotal: 292ms\tremaining: 637ms\n",
            "314:\tlearn: 1.3544876\ttotal: 293ms\tremaining: 636ms\n",
            "315:\tlearn: 1.3544614\ttotal: 294ms\tremaining: 635ms\n",
            "316:\tlearn: 1.3544163\ttotal: 294ms\tremaining: 634ms\n",
            "317:\tlearn: 1.3543643\ttotal: 295ms\tremaining: 633ms\n",
            "318:\tlearn: 1.3543314\ttotal: 296ms\tremaining: 632ms\n",
            "319:\tlearn: 1.3543117\ttotal: 297ms\tremaining: 631ms\n",
            "320:\tlearn: 1.3542931\ttotal: 298ms\tremaining: 630ms\n",
            "321:\tlearn: 1.3542557\ttotal: 299ms\tremaining: 629ms\n",
            "322:\tlearn: 1.3542261\ttotal: 300ms\tremaining: 629ms\n",
            "323:\tlearn: 1.3541797\ttotal: 301ms\tremaining: 628ms\n",
            "324:\tlearn: 1.3541685\ttotal: 302ms\tremaining: 627ms\n",
            "325:\tlearn: 1.3541347\ttotal: 303ms\tremaining: 626ms\n",
            "326:\tlearn: 1.3540874\ttotal: 304ms\tremaining: 625ms\n",
            "327:\tlearn: 1.3540625\ttotal: 304ms\tremaining: 624ms\n",
            "328:\tlearn: 1.3540395\ttotal: 305ms\tremaining: 623ms\n",
            "329:\tlearn: 1.3540263\ttotal: 306ms\tremaining: 622ms\n",
            "330:\tlearn: 1.3540128\ttotal: 307ms\tremaining: 621ms\n",
            "331:\tlearn: 1.3539952\ttotal: 308ms\tremaining: 620ms\n",
            "332:\tlearn: 1.3539663\ttotal: 309ms\tremaining: 619ms\n",
            "333:\tlearn: 1.3539195\ttotal: 310ms\tremaining: 618ms\n",
            "334:\tlearn: 1.3539062\ttotal: 311ms\tremaining: 617ms\n",
            "335:\tlearn: 1.3538593\ttotal: 312ms\tremaining: 616ms\n",
            "336:\tlearn: 1.3538264\ttotal: 312ms\tremaining: 615ms\n",
            "337:\tlearn: 1.3538016\ttotal: 313ms\tremaining: 614ms\n",
            "338:\tlearn: 1.3537923\ttotal: 314ms\tremaining: 613ms\n",
            "339:\tlearn: 1.3537466\ttotal: 315ms\tremaining: 612ms\n",
            "340:\tlearn: 1.3537248\ttotal: 316ms\tremaining: 610ms\n",
            "341:\tlearn: 1.3537047\ttotal: 317ms\tremaining: 609ms\n",
            "342:\tlearn: 1.3536956\ttotal: 318ms\tremaining: 608ms\n",
            "343:\tlearn: 1.3536506\ttotal: 318ms\tremaining: 607ms\n",
            "344:\tlearn: 1.3536192\ttotal: 319ms\tremaining: 606ms\n",
            "345:\tlearn: 1.3535749\ttotal: 320ms\tremaining: 605ms\n",
            "346:\tlearn: 1.3535252\ttotal: 321ms\tremaining: 604ms\n",
            "347:\tlearn: 1.3535004\ttotal: 322ms\tremaining: 603ms\n",
            "348:\tlearn: 1.3534791\ttotal: 323ms\tremaining: 602ms\n",
            "349:\tlearn: 1.3534694\ttotal: 324ms\tremaining: 602ms\n",
            "350:\tlearn: 1.3534353\ttotal: 325ms\tremaining: 601ms\n",
            "351:\tlearn: 1.3534064\ttotal: 326ms\tremaining: 600ms\n",
            "352:\tlearn: 1.3533932\ttotal: 327ms\tremaining: 599ms\n",
            "353:\tlearn: 1.3533859\ttotal: 327ms\tremaining: 598ms\n",
            "354:\tlearn: 1.3533580\ttotal: 328ms\tremaining: 597ms\n",
            "355:\tlearn: 1.3533374\ttotal: 329ms\tremaining: 596ms\n",
            "356:\tlearn: 1.3533241\ttotal: 330ms\tremaining: 595ms\n",
            "357:\tlearn: 1.3532864\ttotal: 331ms\tremaining: 594ms\n",
            "358:\tlearn: 1.3532766\ttotal: 332ms\tremaining: 593ms\n",
            "359:\tlearn: 1.3532472\ttotal: 333ms\tremaining: 592ms\n",
            "360:\tlearn: 1.3532323\ttotal: 334ms\tremaining: 591ms\n",
            "361:\tlearn: 1.3531928\ttotal: 335ms\tremaining: 590ms\n",
            "362:\tlearn: 1.3531615\ttotal: 336ms\tremaining: 590ms\n",
            "363:\tlearn: 1.3531500\ttotal: 337ms\tremaining: 589ms\n",
            "364:\tlearn: 1.3531262\ttotal: 338ms\tremaining: 589ms\n",
            "365:\tlearn: 1.3530988\ttotal: 339ms\tremaining: 588ms\n",
            "366:\tlearn: 1.3530833\ttotal: 340ms\tremaining: 587ms\n",
            "367:\tlearn: 1.3530543\ttotal: 341ms\tremaining: 586ms\n",
            "368:\tlearn: 1.3530251\ttotal: 342ms\tremaining: 585ms\n",
            "369:\tlearn: 1.3530175\ttotal: 343ms\tremaining: 584ms\n",
            "370:\tlearn: 1.3529758\ttotal: 344ms\tremaining: 584ms\n",
            "371:\tlearn: 1.3529515\ttotal: 345ms\tremaining: 583ms\n",
            "372:\tlearn: 1.3529073\ttotal: 346ms\tremaining: 582ms\n",
            "373:\tlearn: 1.3528801\ttotal: 347ms\tremaining: 581ms\n",
            "374:\tlearn: 1.3528709\ttotal: 348ms\tremaining: 580ms\n",
            "375:\tlearn: 1.3528273\ttotal: 349ms\tremaining: 579ms\n",
            "376:\tlearn: 1.3528187\ttotal: 350ms\tremaining: 578ms\n",
            "377:\tlearn: 1.3527842\ttotal: 351ms\tremaining: 577ms\n",
            "378:\tlearn: 1.3527610\ttotal: 352ms\tremaining: 576ms\n",
            "379:\tlearn: 1.3527342\ttotal: 353ms\tremaining: 575ms\n",
            "380:\tlearn: 1.3527032\ttotal: 353ms\tremaining: 574ms\n",
            "381:\tlearn: 1.3526755\ttotal: 354ms\tremaining: 573ms\n",
            "382:\tlearn: 1.3526343\ttotal: 355ms\tremaining: 572ms\n",
            "383:\tlearn: 1.3525953\ttotal: 356ms\tremaining: 571ms\n",
            "384:\tlearn: 1.3525723\ttotal: 357ms\tremaining: 570ms\n",
            "385:\tlearn: 1.3525617\ttotal: 358ms\tremaining: 569ms\n",
            "386:\tlearn: 1.3525378\ttotal: 359ms\tremaining: 568ms\n",
            "387:\tlearn: 1.3525184\ttotal: 360ms\tremaining: 567ms\n",
            "388:\tlearn: 1.3525110\ttotal: 361ms\tremaining: 566ms\n",
            "389:\tlearn: 1.3524836\ttotal: 361ms\tremaining: 565ms\n",
            "390:\tlearn: 1.3524581\ttotal: 362ms\tremaining: 564ms\n",
            "391:\tlearn: 1.3524444\ttotal: 363ms\tremaining: 563ms\n",
            "392:\tlearn: 1.3524310\ttotal: 364ms\tremaining: 562ms\n",
            "393:\tlearn: 1.3524183\ttotal: 365ms\tremaining: 562ms\n",
            "394:\tlearn: 1.3524118\ttotal: 367ms\tremaining: 561ms\n",
            "395:\tlearn: 1.3524001\ttotal: 368ms\tremaining: 561ms\n",
            "396:\tlearn: 1.3523948\ttotal: 369ms\tremaining: 560ms\n",
            "397:\tlearn: 1.3523635\ttotal: 371ms\tremaining: 561ms\n",
            "398:\tlearn: 1.3523227\ttotal: 372ms\tremaining: 560ms\n",
            "399:\tlearn: 1.3522928\ttotal: 373ms\tremaining: 560ms\n",
            "400:\tlearn: 1.3522674\ttotal: 374ms\tremaining: 559ms\n",
            "401:\tlearn: 1.3522484\ttotal: 375ms\tremaining: 558ms\n",
            "402:\tlearn: 1.3522221\ttotal: 376ms\tremaining: 557ms\n",
            "403:\tlearn: 1.3521955\ttotal: 377ms\tremaining: 555ms\n",
            "404:\tlearn: 1.3521580\ttotal: 377ms\tremaining: 554ms\n",
            "405:\tlearn: 1.3521294\ttotal: 378ms\tremaining: 553ms\n",
            "406:\tlearn: 1.3520998\ttotal: 379ms\tremaining: 552ms\n",
            "407:\tlearn: 1.3520846\ttotal: 380ms\tremaining: 551ms\n",
            "408:\tlearn: 1.3520743\ttotal: 381ms\tremaining: 550ms\n",
            "409:\tlearn: 1.3520477\ttotal: 382ms\tremaining: 549ms\n",
            "410:\tlearn: 1.3520345\ttotal: 383ms\tremaining: 548ms\n",
            "411:\tlearn: 1.3520116\ttotal: 383ms\tremaining: 547ms\n",
            "412:\tlearn: 1.3519948\ttotal: 384ms\tremaining: 546ms\n",
            "413:\tlearn: 1.3519690\ttotal: 385ms\tremaining: 545ms\n",
            "414:\tlearn: 1.3519415\ttotal: 386ms\tremaining: 545ms\n",
            "415:\tlearn: 1.3519288\ttotal: 387ms\tremaining: 544ms\n",
            "416:\tlearn: 1.3519206\ttotal: 388ms\tremaining: 543ms\n",
            "417:\tlearn: 1.3518947\ttotal: 389ms\tremaining: 542ms\n",
            "418:\tlearn: 1.3518736\ttotal: 390ms\tremaining: 541ms\n",
            "419:\tlearn: 1.3518608\ttotal: 391ms\tremaining: 540ms\n",
            "420:\tlearn: 1.3518543\ttotal: 392ms\tremaining: 539ms\n",
            "421:\tlearn: 1.3518373\ttotal: 393ms\tremaining: 538ms\n",
            "422:\tlearn: 1.3518281\ttotal: 394ms\tremaining: 538ms\n",
            "423:\tlearn: 1.3518210\ttotal: 395ms\tremaining: 537ms\n",
            "424:\tlearn: 1.3518024\ttotal: 396ms\tremaining: 536ms\n",
            "425:\tlearn: 1.3517759\ttotal: 397ms\tremaining: 535ms\n",
            "426:\tlearn: 1.3517574\ttotal: 398ms\tremaining: 534ms\n",
            "427:\tlearn: 1.3517442\ttotal: 399ms\tremaining: 533ms\n",
            "428:\tlearn: 1.3517396\ttotal: 400ms\tremaining: 532ms\n",
            "429:\tlearn: 1.3517195\ttotal: 401ms\tremaining: 531ms\n",
            "430:\tlearn: 1.3517099\ttotal: 401ms\tremaining: 530ms\n",
            "431:\tlearn: 1.3516877\ttotal: 402ms\tremaining: 529ms\n",
            "432:\tlearn: 1.3516657\ttotal: 403ms\tremaining: 528ms\n",
            "433:\tlearn: 1.3516439\ttotal: 404ms\tremaining: 527ms\n",
            "434:\tlearn: 1.3516334\ttotal: 405ms\tremaining: 526ms\n",
            "435:\tlearn: 1.3516148\ttotal: 406ms\tremaining: 525ms\n",
            "436:\tlearn: 1.3515947\ttotal: 407ms\tremaining: 524ms\n",
            "437:\tlearn: 1.3515852\ttotal: 407ms\tremaining: 523ms\n",
            "438:\tlearn: 1.3515769\ttotal: 408ms\tremaining: 522ms\n",
            "439:\tlearn: 1.3515533\ttotal: 409ms\tremaining: 521ms\n",
            "440:\tlearn: 1.3515382\ttotal: 410ms\tremaining: 520ms\n",
            "441:\tlearn: 1.3515300\ttotal: 411ms\tremaining: 519ms\n",
            "442:\tlearn: 1.3515100\ttotal: 412ms\tremaining: 518ms\n",
            "443:\tlearn: 1.3514793\ttotal: 413ms\tremaining: 517ms\n",
            "444:\tlearn: 1.3514730\ttotal: 414ms\tremaining: 516ms\n",
            "445:\tlearn: 1.3514673\ttotal: 415ms\tremaining: 515ms\n",
            "446:\tlearn: 1.3514471\ttotal: 416ms\tremaining: 514ms\n",
            "447:\tlearn: 1.3514408\ttotal: 416ms\tremaining: 513ms\n",
            "448:\tlearn: 1.3514222\ttotal: 417ms\tremaining: 512ms\n",
            "449:\tlearn: 1.3514166\ttotal: 418ms\tremaining: 511ms\n",
            "450:\tlearn: 1.3514052\ttotal: 419ms\tremaining: 510ms\n",
            "451:\tlearn: 1.3513968\ttotal: 420ms\tremaining: 509ms\n",
            "452:\tlearn: 1.3513834\ttotal: 421ms\tremaining: 508ms\n",
            "453:\tlearn: 1.3513736\ttotal: 422ms\tremaining: 507ms\n",
            "454:\tlearn: 1.3513651\ttotal: 423ms\tremaining: 506ms\n",
            "455:\tlearn: 1.3513438\ttotal: 424ms\tremaining: 505ms\n",
            "456:\tlearn: 1.3513375\ttotal: 425ms\tremaining: 504ms\n",
            "457:\tlearn: 1.3513332\ttotal: 425ms\tremaining: 503ms\n",
            "458:\tlearn: 1.3513295\ttotal: 426ms\tremaining: 503ms\n",
            "459:\tlearn: 1.3513211\ttotal: 427ms\tremaining: 502ms\n",
            "460:\tlearn: 1.3513152\ttotal: 428ms\tremaining: 501ms\n",
            "461:\tlearn: 1.3513028\ttotal: 429ms\tremaining: 500ms\n",
            "462:\tlearn: 1.3512852\ttotal: 430ms\tremaining: 499ms\n",
            "463:\tlearn: 1.3512637\ttotal: 431ms\tremaining: 498ms\n",
            "464:\tlearn: 1.3512528\ttotal: 432ms\tremaining: 497ms\n",
            "465:\tlearn: 1.3512427\ttotal: 433ms\tremaining: 496ms\n",
            "466:\tlearn: 1.3512303\ttotal: 434ms\tremaining: 495ms\n",
            "467:\tlearn: 1.3512225\ttotal: 435ms\tremaining: 494ms\n",
            "468:\tlearn: 1.3512134\ttotal: 436ms\tremaining: 493ms\n",
            "469:\tlearn: 1.3511943\ttotal: 437ms\tremaining: 492ms\n",
            "470:\tlearn: 1.3511803\ttotal: 438ms\tremaining: 491ms\n",
            "471:\tlearn: 1.3511637\ttotal: 438ms\tremaining: 490ms\n",
            "472:\tlearn: 1.3511399\ttotal: 439ms\tremaining: 490ms\n",
            "473:\tlearn: 1.3511219\ttotal: 440ms\tremaining: 489ms\n",
            "474:\tlearn: 1.3511165\ttotal: 441ms\tremaining: 488ms\n",
            "475:\tlearn: 1.3511036\ttotal: 442ms\tremaining: 487ms\n",
            "476:\tlearn: 1.3510978\ttotal: 443ms\tremaining: 486ms\n",
            "477:\tlearn: 1.3510897\ttotal: 444ms\tremaining: 485ms\n",
            "478:\tlearn: 1.3510708\ttotal: 445ms\tremaining: 484ms\n",
            "479:\tlearn: 1.3510545\ttotal: 446ms\tremaining: 483ms\n",
            "480:\tlearn: 1.3510429\ttotal: 447ms\tremaining: 482ms\n",
            "481:\tlearn: 1.3510337\ttotal: 448ms\tremaining: 481ms\n",
            "482:\tlearn: 1.3510179\ttotal: 448ms\tremaining: 480ms\n",
            "483:\tlearn: 1.3510057\ttotal: 449ms\tremaining: 479ms\n",
            "484:\tlearn: 1.3509970\ttotal: 450ms\tremaining: 478ms\n",
            "485:\tlearn: 1.3509870\ttotal: 451ms\tremaining: 477ms\n",
            "486:\tlearn: 1.3509808\ttotal: 452ms\tremaining: 476ms\n",
            "487:\tlearn: 1.3509620\ttotal: 453ms\tremaining: 475ms\n",
            "488:\tlearn: 1.3509472\ttotal: 454ms\tremaining: 474ms\n",
            "489:\tlearn: 1.3509414\ttotal: 455ms\tremaining: 473ms\n",
            "490:\tlearn: 1.3509267\ttotal: 455ms\tremaining: 472ms\n",
            "491:\tlearn: 1.3509181\ttotal: 456ms\tremaining: 471ms\n",
            "492:\tlearn: 1.3509150\ttotal: 457ms\tremaining: 470ms\n",
            "493:\tlearn: 1.3509089\ttotal: 458ms\tremaining: 469ms\n",
            "494:\tlearn: 1.3509053\ttotal: 459ms\tremaining: 468ms\n",
            "495:\tlearn: 1.3508983\ttotal: 460ms\tremaining: 467ms\n",
            "496:\tlearn: 1.3508885\ttotal: 461ms\tremaining: 467ms\n",
            "497:\tlearn: 1.3508750\ttotal: 462ms\tremaining: 466ms\n",
            "498:\tlearn: 1.3508598\ttotal: 463ms\tremaining: 465ms\n",
            "499:\tlearn: 1.3508348\ttotal: 464ms\tremaining: 464ms\n",
            "500:\tlearn: 1.3508230\ttotal: 465ms\tremaining: 463ms\n",
            "501:\tlearn: 1.3508092\ttotal: 466ms\tremaining: 462ms\n",
            "502:\tlearn: 1.3508051\ttotal: 467ms\tremaining: 461ms\n",
            "503:\tlearn: 1.3507936\ttotal: 467ms\tremaining: 460ms\n",
            "504:\tlearn: 1.3507884\ttotal: 468ms\tremaining: 459ms\n",
            "505:\tlearn: 1.3507798\ttotal: 469ms\tremaining: 458ms\n",
            "506:\tlearn: 1.3507711\ttotal: 470ms\tremaining: 457ms\n",
            "507:\tlearn: 1.3507579\ttotal: 471ms\tremaining: 456ms\n",
            "508:\tlearn: 1.3507488\ttotal: 472ms\tremaining: 455ms\n",
            "509:\tlearn: 1.3507348\ttotal: 473ms\tremaining: 454ms\n",
            "510:\tlearn: 1.3507254\ttotal: 474ms\tremaining: 453ms\n",
            "511:\tlearn: 1.3507198\ttotal: 475ms\tremaining: 452ms\n",
            "512:\tlearn: 1.3507089\ttotal: 475ms\tremaining: 451ms\n",
            "513:\tlearn: 1.3506942\ttotal: 476ms\tremaining: 450ms\n",
            "514:\tlearn: 1.3506766\ttotal: 477ms\tremaining: 449ms\n",
            "515:\tlearn: 1.3506641\ttotal: 478ms\tremaining: 448ms\n",
            "516:\tlearn: 1.3506565\ttotal: 479ms\tremaining: 448ms\n",
            "517:\tlearn: 1.3506494\ttotal: 480ms\tremaining: 447ms\n",
            "518:\tlearn: 1.3506335\ttotal: 481ms\tremaining: 446ms\n",
            "519:\tlearn: 1.3506186\ttotal: 482ms\tremaining: 445ms\n",
            "520:\tlearn: 1.3506159\ttotal: 483ms\tremaining: 444ms\n",
            "521:\tlearn: 1.3506101\ttotal: 483ms\tremaining: 443ms\n",
            "522:\tlearn: 1.3506044\ttotal: 484ms\tremaining: 442ms\n",
            "523:\tlearn: 1.3505982\ttotal: 485ms\tremaining: 441ms\n",
            "524:\tlearn: 1.3505926\ttotal: 486ms\tremaining: 440ms\n",
            "525:\tlearn: 1.3505865\ttotal: 487ms\tremaining: 439ms\n",
            "526:\tlearn: 1.3505781\ttotal: 488ms\tremaining: 438ms\n",
            "527:\tlearn: 1.3505716\ttotal: 489ms\tremaining: 437ms\n",
            "528:\tlearn: 1.3505668\ttotal: 490ms\tremaining: 436ms\n",
            "529:\tlearn: 1.3505632\ttotal: 491ms\tremaining: 435ms\n",
            "530:\tlearn: 1.3505504\ttotal: 492ms\tremaining: 434ms\n",
            "531:\tlearn: 1.3505447\ttotal: 493ms\tremaining: 433ms\n",
            "532:\tlearn: 1.3505411\ttotal: 493ms\tremaining: 432ms\n",
            "533:\tlearn: 1.3505300\ttotal: 496ms\tremaining: 432ms\n",
            "534:\tlearn: 1.3505270\ttotal: 496ms\tremaining: 431ms\n",
            "535:\tlearn: 1.3505118\ttotal: 497ms\tremaining: 430ms\n",
            "536:\tlearn: 1.3505076\ttotal: 498ms\tremaining: 429ms\n",
            "537:\tlearn: 1.3505050\ttotal: 499ms\tremaining: 428ms\n",
            "538:\tlearn: 1.3504925\ttotal: 500ms\tremaining: 428ms\n",
            "539:\tlearn: 1.3504810\ttotal: 501ms\tremaining: 427ms\n",
            "540:\tlearn: 1.3504652\ttotal: 502ms\tremaining: 426ms\n",
            "541:\tlearn: 1.3504581\ttotal: 503ms\tremaining: 425ms\n",
            "542:\tlearn: 1.3504463\ttotal: 503ms\tremaining: 424ms\n",
            "543:\tlearn: 1.3504422\ttotal: 504ms\tremaining: 423ms\n",
            "544:\tlearn: 1.3504287\ttotal: 505ms\tremaining: 422ms\n",
            "545:\tlearn: 1.3504188\ttotal: 506ms\tremaining: 421ms\n",
            "546:\tlearn: 1.3504094\ttotal: 507ms\tremaining: 420ms\n",
            "547:\tlearn: 1.3504029\ttotal: 508ms\tremaining: 419ms\n",
            "548:\tlearn: 1.3504013\ttotal: 509ms\tremaining: 418ms\n",
            "549:\tlearn: 1.3503895\ttotal: 510ms\tremaining: 417ms\n",
            "550:\tlearn: 1.3503844\ttotal: 511ms\tremaining: 416ms\n",
            "551:\tlearn: 1.3503696\ttotal: 511ms\tremaining: 415ms\n",
            "552:\tlearn: 1.3503628\ttotal: 512ms\tremaining: 414ms\n",
            "553:\tlearn: 1.3503604\ttotal: 513ms\tremaining: 413ms\n",
            "554:\tlearn: 1.3503573\ttotal: 514ms\tremaining: 412ms\n",
            "555:\tlearn: 1.3503491\ttotal: 515ms\tremaining: 411ms\n",
            "556:\tlearn: 1.3503469\ttotal: 516ms\tremaining: 410ms\n",
            "557:\tlearn: 1.3503403\ttotal: 517ms\tremaining: 409ms\n",
            "558:\tlearn: 1.3503362\ttotal: 518ms\tremaining: 408ms\n",
            "559:\tlearn: 1.3503271\ttotal: 519ms\tremaining: 407ms\n",
            "560:\tlearn: 1.3503228\ttotal: 519ms\tremaining: 406ms\n",
            "561:\tlearn: 1.3503202\ttotal: 520ms\tremaining: 405ms\n",
            "562:\tlearn: 1.3503129\ttotal: 521ms\tremaining: 404ms\n",
            "563:\tlearn: 1.3503072\ttotal: 522ms\tremaining: 403ms\n",
            "564:\tlearn: 1.3502984\ttotal: 523ms\tremaining: 402ms\n",
            "565:\tlearn: 1.3502813\ttotal: 524ms\tremaining: 402ms\n",
            "566:\tlearn: 1.3502773\ttotal: 525ms\tremaining: 401ms\n",
            "567:\tlearn: 1.3502669\ttotal: 525ms\tremaining: 400ms\n",
            "568:\tlearn: 1.3502631\ttotal: 526ms\tremaining: 399ms\n",
            "569:\tlearn: 1.3502546\ttotal: 527ms\tremaining: 398ms\n",
            "570:\tlearn: 1.3502488\ttotal: 528ms\tremaining: 397ms\n",
            "571:\tlearn: 1.3502374\ttotal: 529ms\tremaining: 396ms\n",
            "572:\tlearn: 1.3502264\ttotal: 530ms\tremaining: 395ms\n",
            "573:\tlearn: 1.3502196\ttotal: 531ms\tremaining: 394ms\n",
            "574:\tlearn: 1.3502172\ttotal: 531ms\tremaining: 393ms\n",
            "575:\tlearn: 1.3502060\ttotal: 532ms\tremaining: 392ms\n",
            "576:\tlearn: 1.3501930\ttotal: 533ms\tremaining: 391ms\n",
            "577:\tlearn: 1.3501851\ttotal: 534ms\tremaining: 390ms\n",
            "578:\tlearn: 1.3501687\ttotal: 535ms\tremaining: 389ms\n",
            "579:\tlearn: 1.3501596\ttotal: 536ms\tremaining: 388ms\n",
            "580:\tlearn: 1.3501517\ttotal: 537ms\tremaining: 387ms\n",
            "581:\tlearn: 1.3501473\ttotal: 538ms\tremaining: 386ms\n",
            "582:\tlearn: 1.3501443\ttotal: 538ms\tremaining: 385ms\n",
            "583:\tlearn: 1.3501385\ttotal: 539ms\tremaining: 384ms\n",
            "584:\tlearn: 1.3501318\ttotal: 540ms\tremaining: 383ms\n",
            "585:\tlearn: 1.3501248\ttotal: 541ms\tremaining: 382ms\n",
            "586:\tlearn: 1.3501149\ttotal: 542ms\tremaining: 381ms\n",
            "587:\tlearn: 1.3501108\ttotal: 543ms\tremaining: 380ms\n",
            "588:\tlearn: 1.3501082\ttotal: 544ms\tremaining: 379ms\n",
            "589:\tlearn: 1.3501036\ttotal: 544ms\tremaining: 378ms\n",
            "590:\tlearn: 1.3500906\ttotal: 545ms\tremaining: 377ms\n",
            "591:\tlearn: 1.3500869\ttotal: 546ms\tremaining: 377ms\n",
            "592:\tlearn: 1.3500819\ttotal: 547ms\tremaining: 376ms\n",
            "593:\tlearn: 1.3500771\ttotal: 548ms\tremaining: 375ms\n",
            "594:\tlearn: 1.3500663\ttotal: 549ms\tremaining: 374ms\n",
            "595:\tlearn: 1.3500583\ttotal: 550ms\tremaining: 373ms\n",
            "596:\tlearn: 1.3500486\ttotal: 558ms\tremaining: 377ms\n",
            "597:\tlearn: 1.3500433\ttotal: 559ms\tremaining: 376ms\n",
            "598:\tlearn: 1.3500324\ttotal: 560ms\tremaining: 375ms\n",
            "599:\tlearn: 1.3500290\ttotal: 561ms\tremaining: 374ms\n",
            "600:\tlearn: 1.3500247\ttotal: 562ms\tremaining: 373ms\n",
            "601:\tlearn: 1.3500226\ttotal: 563ms\tremaining: 372ms\n",
            "602:\tlearn: 1.3500090\ttotal: 564ms\tremaining: 371ms\n",
            "603:\tlearn: 1.3499979\ttotal: 565ms\tremaining: 370ms\n",
            "604:\tlearn: 1.3499883\ttotal: 566ms\tremaining: 369ms\n",
            "605:\tlearn: 1.3499830\ttotal: 567ms\tremaining: 368ms\n",
            "606:\tlearn: 1.3499784\ttotal: 568ms\tremaining: 368ms\n",
            "607:\tlearn: 1.3499636\ttotal: 569ms\tremaining: 367ms\n",
            "608:\tlearn: 1.3499581\ttotal: 570ms\tremaining: 366ms\n",
            "609:\tlearn: 1.3499557\ttotal: 571ms\tremaining: 365ms\n",
            "610:\tlearn: 1.3499503\ttotal: 572ms\tremaining: 364ms\n",
            "611:\tlearn: 1.3499477\ttotal: 572ms\tremaining: 363ms\n",
            "612:\tlearn: 1.3499371\ttotal: 573ms\tremaining: 362ms\n",
            "613:\tlearn: 1.3499350\ttotal: 574ms\tremaining: 361ms\n",
            "614:\tlearn: 1.3499300\ttotal: 575ms\tremaining: 360ms\n",
            "615:\tlearn: 1.3499249\ttotal: 576ms\tremaining: 359ms\n",
            "616:\tlearn: 1.3499203\ttotal: 577ms\tremaining: 358ms\n",
            "617:\tlearn: 1.3499160\ttotal: 578ms\tremaining: 357ms\n",
            "618:\tlearn: 1.3499097\ttotal: 579ms\tremaining: 356ms\n",
            "619:\tlearn: 1.3499028\ttotal: 580ms\tremaining: 356ms\n",
            "620:\tlearn: 1.3498994\ttotal: 581ms\tremaining: 355ms\n",
            "621:\tlearn: 1.3498935\ttotal: 582ms\tremaining: 354ms\n",
            "622:\tlearn: 1.3498878\ttotal: 583ms\tremaining: 353ms\n",
            "623:\tlearn: 1.3498844\ttotal: 584ms\tremaining: 352ms\n",
            "624:\tlearn: 1.3498788\ttotal: 585ms\tremaining: 351ms\n",
            "625:\tlearn: 1.3498733\ttotal: 586ms\tremaining: 350ms\n",
            "626:\tlearn: 1.3498639\ttotal: 587ms\tremaining: 349ms\n",
            "627:\tlearn: 1.3498582\ttotal: 587ms\tremaining: 348ms\n",
            "628:\tlearn: 1.3498511\ttotal: 588ms\tremaining: 347ms\n",
            "629:\tlearn: 1.3498450\ttotal: 589ms\tremaining: 346ms\n",
            "630:\tlearn: 1.3498395\ttotal: 590ms\tremaining: 345ms\n",
            "631:\tlearn: 1.3498336\ttotal: 591ms\tremaining: 344ms\n",
            "632:\tlearn: 1.3498253\ttotal: 592ms\tremaining: 343ms\n",
            "633:\tlearn: 1.3498128\ttotal: 593ms\tremaining: 342ms\n",
            "634:\tlearn: 1.3498107\ttotal: 594ms\tremaining: 341ms\n",
            "635:\tlearn: 1.3498005\ttotal: 595ms\tremaining: 340ms\n",
            "636:\tlearn: 1.3497978\ttotal: 596ms\tremaining: 339ms\n",
            "637:\tlearn: 1.3497940\ttotal: 596ms\tremaining: 338ms\n",
            "638:\tlearn: 1.3497888\ttotal: 597ms\tremaining: 337ms\n",
            "639:\tlearn: 1.3497858\ttotal: 598ms\tremaining: 337ms\n",
            "640:\tlearn: 1.3497828\ttotal: 599ms\tremaining: 336ms\n",
            "641:\tlearn: 1.3497705\ttotal: 600ms\tremaining: 335ms\n",
            "642:\tlearn: 1.3497664\ttotal: 601ms\tremaining: 334ms\n",
            "643:\tlearn: 1.3497622\ttotal: 602ms\tremaining: 333ms\n",
            "644:\tlearn: 1.3497597\ttotal: 603ms\tremaining: 332ms\n",
            "645:\tlearn: 1.3497486\ttotal: 604ms\tremaining: 331ms\n",
            "646:\tlearn: 1.3497429\ttotal: 605ms\tremaining: 330ms\n",
            "647:\tlearn: 1.3497407\ttotal: 606ms\tremaining: 329ms\n",
            "648:\tlearn: 1.3497388\ttotal: 606ms\tremaining: 328ms\n",
            "649:\tlearn: 1.3497311\ttotal: 607ms\tremaining: 327ms\n",
            "650:\tlearn: 1.3497266\ttotal: 608ms\tremaining: 326ms\n",
            "651:\tlearn: 1.3497232\ttotal: 609ms\tremaining: 325ms\n",
            "652:\tlearn: 1.3497152\ttotal: 610ms\tremaining: 324ms\n",
            "653:\tlearn: 1.3497134\ttotal: 611ms\tremaining: 323ms\n",
            "654:\tlearn: 1.3497071\ttotal: 612ms\tremaining: 322ms\n",
            "655:\tlearn: 1.3496996\ttotal: 612ms\tremaining: 321ms\n",
            "656:\tlearn: 1.3496968\ttotal: 613ms\tremaining: 320ms\n",
            "657:\tlearn: 1.3496941\ttotal: 614ms\tremaining: 319ms\n",
            "658:\tlearn: 1.3496918\ttotal: 615ms\tremaining: 318ms\n",
            "659:\tlearn: 1.3496842\ttotal: 616ms\tremaining: 317ms\n",
            "660:\tlearn: 1.3496812\ttotal: 617ms\tremaining: 316ms\n",
            "661:\tlearn: 1.3496774\ttotal: 618ms\tremaining: 315ms\n",
            "662:\tlearn: 1.3496676\ttotal: 619ms\tremaining: 314ms\n",
            "663:\tlearn: 1.3496655\ttotal: 619ms\tremaining: 313ms\n",
            "664:\tlearn: 1.3496590\ttotal: 620ms\tremaining: 312ms\n",
            "665:\tlearn: 1.3496507\ttotal: 621ms\tremaining: 312ms\n",
            "666:\tlearn: 1.3496437\ttotal: 622ms\tremaining: 311ms\n",
            "667:\tlearn: 1.3496372\ttotal: 623ms\tremaining: 310ms\n",
            "668:\tlearn: 1.3496351\ttotal: 624ms\tremaining: 309ms\n",
            "669:\tlearn: 1.3496264\ttotal: 625ms\tremaining: 308ms\n",
            "670:\tlearn: 1.3496213\ttotal: 626ms\tremaining: 307ms\n",
            "671:\tlearn: 1.3496130\ttotal: 627ms\tremaining: 306ms\n",
            "672:\tlearn: 1.3496115\ttotal: 627ms\tremaining: 305ms\n",
            "673:\tlearn: 1.3496036\ttotal: 628ms\tremaining: 304ms\n",
            "674:\tlearn: 1.3496004\ttotal: 629ms\tremaining: 303ms\n",
            "675:\tlearn: 1.3495983\ttotal: 630ms\tremaining: 302ms\n",
            "676:\tlearn: 1.3495912\ttotal: 631ms\tremaining: 301ms\n",
            "677:\tlearn: 1.3495894\ttotal: 632ms\tremaining: 300ms\n",
            "678:\tlearn: 1.3495825\ttotal: 633ms\tremaining: 299ms\n",
            "679:\tlearn: 1.3495765\ttotal: 634ms\tremaining: 298ms\n",
            "680:\tlearn: 1.3495747\ttotal: 635ms\tremaining: 297ms\n",
            "681:\tlearn: 1.3495722\ttotal: 635ms\tremaining: 296ms\n",
            "682:\tlearn: 1.3495664\ttotal: 636ms\tremaining: 295ms\n",
            "683:\tlearn: 1.3495603\ttotal: 637ms\tremaining: 294ms\n",
            "684:\tlearn: 1.3495590\ttotal: 638ms\tremaining: 294ms\n",
            "685:\tlearn: 1.3495548\ttotal: 639ms\tremaining: 293ms\n",
            "686:\tlearn: 1.3495519\ttotal: 640ms\tremaining: 292ms\n",
            "687:\tlearn: 1.3495465\ttotal: 641ms\tremaining: 291ms\n",
            "688:\tlearn: 1.3495442\ttotal: 642ms\tremaining: 290ms\n",
            "689:\tlearn: 1.3495373\ttotal: 643ms\tremaining: 289ms\n",
            "690:\tlearn: 1.3495321\ttotal: 644ms\tremaining: 288ms\n",
            "691:\tlearn: 1.3495287\ttotal: 645ms\tremaining: 287ms\n",
            "692:\tlearn: 1.3495216\ttotal: 645ms\tremaining: 286ms\n",
            "693:\tlearn: 1.3495184\ttotal: 646ms\tremaining: 285ms\n",
            "694:\tlearn: 1.3495126\ttotal: 647ms\tremaining: 284ms\n",
            "695:\tlearn: 1.3495100\ttotal: 648ms\tremaining: 283ms\n",
            "696:\tlearn: 1.3495047\ttotal: 649ms\tremaining: 282ms\n",
            "697:\tlearn: 1.3494998\ttotal: 650ms\tremaining: 281ms\n",
            "698:\tlearn: 1.3494946\ttotal: 651ms\tremaining: 280ms\n",
            "699:\tlearn: 1.3494935\ttotal: 652ms\tremaining: 279ms\n",
            "700:\tlearn: 1.3494869\ttotal: 653ms\tremaining: 279ms\n",
            "701:\tlearn: 1.3494855\ttotal: 654ms\tremaining: 278ms\n",
            "702:\tlearn: 1.3494800\ttotal: 655ms\tremaining: 277ms\n",
            "703:\tlearn: 1.3494782\ttotal: 656ms\tremaining: 276ms\n",
            "704:\tlearn: 1.3494761\ttotal: 657ms\tremaining: 275ms\n",
            "705:\tlearn: 1.3494665\ttotal: 658ms\tremaining: 274ms\n",
            "706:\tlearn: 1.3494598\ttotal: 659ms\tremaining: 273ms\n",
            "707:\tlearn: 1.3494502\ttotal: 660ms\tremaining: 272ms\n",
            "708:\tlearn: 1.3494459\ttotal: 661ms\tremaining: 271ms\n",
            "709:\tlearn: 1.3494405\ttotal: 662ms\tremaining: 270ms\n",
            "710:\tlearn: 1.3494366\ttotal: 663ms\tremaining: 270ms\n",
            "711:\tlearn: 1.3494350\ttotal: 664ms\tremaining: 269ms\n",
            "712:\tlearn: 1.3494338\ttotal: 666ms\tremaining: 268ms\n",
            "713:\tlearn: 1.3494262\ttotal: 667ms\tremaining: 267ms\n",
            "714:\tlearn: 1.3494234\ttotal: 669ms\tremaining: 267ms\n",
            "715:\tlearn: 1.3494145\ttotal: 670ms\tremaining: 266ms\n",
            "716:\tlearn: 1.3494102\ttotal: 671ms\tremaining: 265ms\n",
            "717:\tlearn: 1.3494053\ttotal: 672ms\tremaining: 264ms\n",
            "718:\tlearn: 1.3494024\ttotal: 673ms\tremaining: 263ms\n",
            "719:\tlearn: 1.3493952\ttotal: 674ms\tremaining: 262ms\n",
            "720:\tlearn: 1.3493933\ttotal: 674ms\tremaining: 261ms\n",
            "721:\tlearn: 1.3493918\ttotal: 675ms\tremaining: 260ms\n",
            "722:\tlearn: 1.3493883\ttotal: 676ms\tremaining: 259ms\n",
            "723:\tlearn: 1.3493843\ttotal: 677ms\tremaining: 258ms\n",
            "724:\tlearn: 1.3493812\ttotal: 678ms\tremaining: 257ms\n",
            "725:\tlearn: 1.3493811\ttotal: 679ms\tremaining: 256ms\n",
            "726:\tlearn: 1.3493769\ttotal: 679ms\tremaining: 255ms\n",
            "727:\tlearn: 1.3493744\ttotal: 680ms\tremaining: 254ms\n",
            "728:\tlearn: 1.3493686\ttotal: 681ms\tremaining: 253ms\n",
            "729:\tlearn: 1.3493659\ttotal: 682ms\tremaining: 252ms\n",
            "730:\tlearn: 1.3493650\ttotal: 683ms\tremaining: 251ms\n",
            "731:\tlearn: 1.3493591\ttotal: 684ms\tremaining: 250ms\n",
            "732:\tlearn: 1.3493576\ttotal: 685ms\tremaining: 249ms\n",
            "733:\tlearn: 1.3493559\ttotal: 686ms\tremaining: 248ms\n",
            "734:\tlearn: 1.3493530\ttotal: 686ms\tremaining: 247ms\n",
            "735:\tlearn: 1.3493503\ttotal: 687ms\tremaining: 247ms\n",
            "736:\tlearn: 1.3493489\ttotal: 688ms\tremaining: 246ms\n",
            "737:\tlearn: 1.3493437\ttotal: 689ms\tremaining: 245ms\n",
            "738:\tlearn: 1.3493356\ttotal: 690ms\tremaining: 244ms\n",
            "739:\tlearn: 1.3493318\ttotal: 691ms\tremaining: 243ms\n",
            "740:\tlearn: 1.3493271\ttotal: 691ms\tremaining: 242ms\n",
            "741:\tlearn: 1.3493245\ttotal: 692ms\tremaining: 241ms\n",
            "742:\tlearn: 1.3493233\ttotal: 693ms\tremaining: 240ms\n",
            "743:\tlearn: 1.3493190\ttotal: 694ms\tremaining: 239ms\n",
            "744:\tlearn: 1.3493176\ttotal: 695ms\tremaining: 238ms\n",
            "745:\tlearn: 1.3493148\ttotal: 696ms\tremaining: 237ms\n",
            "746:\tlearn: 1.3493126\ttotal: 697ms\tremaining: 236ms\n",
            "747:\tlearn: 1.3493051\ttotal: 698ms\tremaining: 235ms\n",
            "748:\tlearn: 1.3493022\ttotal: 698ms\tremaining: 234ms\n",
            "749:\tlearn: 1.3492971\ttotal: 699ms\tremaining: 233ms\n",
            "750:\tlearn: 1.3492927\ttotal: 700ms\tremaining: 232ms\n",
            "751:\tlearn: 1.3492909\ttotal: 701ms\tremaining: 231ms\n",
            "752:\tlearn: 1.3492896\ttotal: 702ms\tremaining: 230ms\n",
            "753:\tlearn: 1.3492841\ttotal: 703ms\tremaining: 229ms\n",
            "754:\tlearn: 1.3492828\ttotal: 704ms\tremaining: 228ms\n",
            "755:\tlearn: 1.3492732\ttotal: 705ms\tremaining: 227ms\n",
            "756:\tlearn: 1.3492653\ttotal: 706ms\tremaining: 226ms\n",
            "757:\tlearn: 1.3492616\ttotal: 707ms\tremaining: 226ms\n",
            "758:\tlearn: 1.3492576\ttotal: 707ms\tremaining: 225ms\n",
            "759:\tlearn: 1.3492545\ttotal: 708ms\tremaining: 224ms\n",
            "760:\tlearn: 1.3492517\ttotal: 709ms\tremaining: 223ms\n",
            "761:\tlearn: 1.3492491\ttotal: 711ms\tremaining: 222ms\n",
            "762:\tlearn: 1.3492468\ttotal: 712ms\tremaining: 221ms\n",
            "763:\tlearn: 1.3492402\ttotal: 713ms\tremaining: 220ms\n",
            "764:\tlearn: 1.3492352\ttotal: 714ms\tremaining: 219ms\n",
            "765:\tlearn: 1.3492298\ttotal: 715ms\tremaining: 218ms\n",
            "766:\tlearn: 1.3492262\ttotal: 716ms\tremaining: 217ms\n",
            "767:\tlearn: 1.3492239\ttotal: 717ms\tremaining: 217ms\n",
            "768:\tlearn: 1.3492168\ttotal: 718ms\tremaining: 216ms\n",
            "769:\tlearn: 1.3492134\ttotal: 719ms\tremaining: 215ms\n",
            "770:\tlearn: 1.3492117\ttotal: 719ms\tremaining: 214ms\n",
            "771:\tlearn: 1.3492099\ttotal: 720ms\tremaining: 213ms\n",
            "772:\tlearn: 1.3492082\ttotal: 721ms\tremaining: 212ms\n",
            "773:\tlearn: 1.3492022\ttotal: 722ms\tremaining: 211ms\n",
            "774:\tlearn: 1.3491989\ttotal: 723ms\tremaining: 210ms\n",
            "775:\tlearn: 1.3491942\ttotal: 724ms\tremaining: 209ms\n",
            "776:\tlearn: 1.3491882\ttotal: 725ms\tremaining: 208ms\n",
            "777:\tlearn: 1.3491857\ttotal: 726ms\tremaining: 207ms\n",
            "778:\tlearn: 1.3491831\ttotal: 727ms\tremaining: 206ms\n",
            "779:\tlearn: 1.3491803\ttotal: 728ms\tremaining: 205ms\n",
            "780:\tlearn: 1.3491789\ttotal: 728ms\tremaining: 204ms\n",
            "781:\tlearn: 1.3491765\ttotal: 730ms\tremaining: 203ms\n",
            "782:\tlearn: 1.3491751\ttotal: 730ms\tremaining: 202ms\n",
            "783:\tlearn: 1.3491729\ttotal: 731ms\tremaining: 201ms\n",
            "784:\tlearn: 1.3491703\ttotal: 732ms\tremaining: 201ms\n",
            "785:\tlearn: 1.3491678\ttotal: 734ms\tremaining: 200ms\n",
            "786:\tlearn: 1.3491638\ttotal: 735ms\tremaining: 199ms\n",
            "787:\tlearn: 1.3491612\ttotal: 736ms\tremaining: 198ms\n",
            "788:\tlearn: 1.3491544\ttotal: 736ms\tremaining: 197ms\n",
            "789:\tlearn: 1.3491517\ttotal: 737ms\tremaining: 196ms\n",
            "790:\tlearn: 1.3491444\ttotal: 738ms\tremaining: 195ms\n",
            "791:\tlearn: 1.3491411\ttotal: 740ms\tremaining: 194ms\n",
            "792:\tlearn: 1.3491368\ttotal: 741ms\tremaining: 193ms\n",
            "793:\tlearn: 1.3491354\ttotal: 742ms\tremaining: 193ms\n",
            "794:\tlearn: 1.3491310\ttotal: 744ms\tremaining: 192ms\n",
            "795:\tlearn: 1.3491283\ttotal: 746ms\tremaining: 191ms\n",
            "796:\tlearn: 1.3491220\ttotal: 746ms\tremaining: 190ms\n",
            "797:\tlearn: 1.3491181\ttotal: 747ms\tremaining: 189ms\n",
            "798:\tlearn: 1.3491123\ttotal: 748ms\tremaining: 188ms\n",
            "799:\tlearn: 1.3491067\ttotal: 749ms\tremaining: 187ms\n",
            "800:\tlearn: 1.3491041\ttotal: 750ms\tremaining: 186ms\n",
            "801:\tlearn: 1.3491025\ttotal: 751ms\tremaining: 185ms\n",
            "802:\tlearn: 1.3491014\ttotal: 752ms\tremaining: 184ms\n",
            "803:\tlearn: 1.3490995\ttotal: 753ms\tremaining: 183ms\n",
            "804:\tlearn: 1.3490975\ttotal: 753ms\tremaining: 182ms\n",
            "805:\tlearn: 1.3490916\ttotal: 754ms\tremaining: 182ms\n",
            "806:\tlearn: 1.3490867\ttotal: 755ms\tremaining: 181ms\n",
            "807:\tlearn: 1.3490856\ttotal: 756ms\tremaining: 180ms\n",
            "808:\tlearn: 1.3490830\ttotal: 757ms\tremaining: 179ms\n",
            "809:\tlearn: 1.3490817\ttotal: 758ms\tremaining: 178ms\n",
            "810:\tlearn: 1.3490745\ttotal: 759ms\tremaining: 177ms\n",
            "811:\tlearn: 1.3490728\ttotal: 760ms\tremaining: 176ms\n",
            "812:\tlearn: 1.3490680\ttotal: 760ms\tremaining: 175ms\n",
            "813:\tlearn: 1.3490633\ttotal: 761ms\tremaining: 174ms\n",
            "814:\tlearn: 1.3490622\ttotal: 762ms\tremaining: 173ms\n",
            "815:\tlearn: 1.3490602\ttotal: 763ms\tremaining: 172ms\n",
            "816:\tlearn: 1.3490573\ttotal: 764ms\tremaining: 171ms\n",
            "817:\tlearn: 1.3490552\ttotal: 765ms\tremaining: 170ms\n",
            "818:\tlearn: 1.3490491\ttotal: 766ms\tremaining: 169ms\n",
            "819:\tlearn: 1.3490467\ttotal: 767ms\tremaining: 168ms\n",
            "820:\tlearn: 1.3490449\ttotal: 768ms\tremaining: 167ms\n",
            "821:\tlearn: 1.3490426\ttotal: 768ms\tremaining: 166ms\n",
            "822:\tlearn: 1.3490372\ttotal: 769ms\tremaining: 165ms\n",
            "823:\tlearn: 1.3490317\ttotal: 770ms\tremaining: 165ms\n",
            "824:\tlearn: 1.3490285\ttotal: 771ms\tremaining: 164ms\n",
            "825:\tlearn: 1.3490261\ttotal: 772ms\tremaining: 163ms\n",
            "826:\tlearn: 1.3490236\ttotal: 773ms\tremaining: 162ms\n",
            "827:\tlearn: 1.3490169\ttotal: 774ms\tremaining: 161ms\n",
            "828:\tlearn: 1.3490143\ttotal: 775ms\tremaining: 160ms\n",
            "829:\tlearn: 1.3490111\ttotal: 776ms\tremaining: 159ms\n",
            "830:\tlearn: 1.3490107\ttotal: 777ms\tremaining: 158ms\n",
            "831:\tlearn: 1.3490087\ttotal: 777ms\tremaining: 157ms\n",
            "832:\tlearn: 1.3490064\ttotal: 778ms\tremaining: 156ms\n",
            "833:\tlearn: 1.3490033\ttotal: 779ms\tremaining: 155ms\n",
            "834:\tlearn: 1.3490008\ttotal: 780ms\tremaining: 154ms\n",
            "835:\tlearn: 1.3489966\ttotal: 781ms\tremaining: 153ms\n",
            "836:\tlearn: 1.3489925\ttotal: 782ms\tremaining: 152ms\n",
            "837:\tlearn: 1.3489857\ttotal: 783ms\tremaining: 151ms\n",
            "838:\tlearn: 1.3489843\ttotal: 784ms\tremaining: 150ms\n",
            "839:\tlearn: 1.3489801\ttotal: 785ms\tremaining: 150ms\n",
            "840:\tlearn: 1.3489791\ttotal: 786ms\tremaining: 149ms\n",
            "841:\tlearn: 1.3489775\ttotal: 787ms\tremaining: 148ms\n",
            "842:\tlearn: 1.3489771\ttotal: 788ms\tremaining: 147ms\n",
            "843:\tlearn: 1.3489741\ttotal: 789ms\tremaining: 146ms\n",
            "844:\tlearn: 1.3489693\ttotal: 790ms\tremaining: 145ms\n",
            "845:\tlearn: 1.3489636\ttotal: 791ms\tremaining: 144ms\n",
            "846:\tlearn: 1.3489598\ttotal: 792ms\tremaining: 143ms\n",
            "847:\tlearn: 1.3489572\ttotal: 792ms\tremaining: 142ms\n",
            "848:\tlearn: 1.3489533\ttotal: 793ms\tremaining: 141ms\n",
            "849:\tlearn: 1.3489505\ttotal: 794ms\tremaining: 140ms\n",
            "850:\tlearn: 1.3489479\ttotal: 795ms\tremaining: 139ms\n",
            "851:\tlearn: 1.3489458\ttotal: 796ms\tremaining: 138ms\n",
            "852:\tlearn: 1.3489433\ttotal: 797ms\tremaining: 137ms\n",
            "853:\tlearn: 1.3489399\ttotal: 798ms\tremaining: 136ms\n",
            "854:\tlearn: 1.3489374\ttotal: 799ms\tremaining: 136ms\n",
            "855:\tlearn: 1.3489358\ttotal: 800ms\tremaining: 135ms\n",
            "856:\tlearn: 1.3489349\ttotal: 801ms\tremaining: 134ms\n",
            "857:\tlearn: 1.3489299\ttotal: 802ms\tremaining: 133ms\n",
            "858:\tlearn: 1.3489289\ttotal: 803ms\tremaining: 132ms\n",
            "859:\tlearn: 1.3489240\ttotal: 804ms\tremaining: 131ms\n",
            "860:\tlearn: 1.3489188\ttotal: 805ms\tremaining: 130ms\n",
            "861:\tlearn: 1.3489164\ttotal: 806ms\tremaining: 129ms\n",
            "862:\tlearn: 1.3489141\ttotal: 806ms\tremaining: 128ms\n",
            "863:\tlearn: 1.3489121\ttotal: 807ms\tremaining: 127ms\n",
            "864:\tlearn: 1.3489085\ttotal: 808ms\tremaining: 126ms\n",
            "865:\tlearn: 1.3489063\ttotal: 809ms\tremaining: 125ms\n",
            "866:\tlearn: 1.3489055\ttotal: 810ms\tremaining: 124ms\n",
            "867:\tlearn: 1.3489047\ttotal: 811ms\tremaining: 123ms\n",
            "868:\tlearn: 1.3489009\ttotal: 812ms\tremaining: 122ms\n",
            "869:\tlearn: 1.3488980\ttotal: 813ms\tremaining: 121ms\n",
            "870:\tlearn: 1.3488963\ttotal: 814ms\tremaining: 120ms\n",
            "871:\tlearn: 1.3488944\ttotal: 814ms\tremaining: 120ms\n",
            "872:\tlearn: 1.3488908\ttotal: 815ms\tremaining: 119ms\n",
            "873:\tlearn: 1.3488887\ttotal: 816ms\tremaining: 118ms\n",
            "874:\tlearn: 1.3488865\ttotal: 817ms\tremaining: 117ms\n",
            "875:\tlearn: 1.3488836\ttotal: 818ms\tremaining: 116ms\n",
            "876:\tlearn: 1.3488818\ttotal: 819ms\tremaining: 115ms\n",
            "877:\tlearn: 1.3488812\ttotal: 820ms\tremaining: 114ms\n",
            "878:\tlearn: 1.3488785\ttotal: 821ms\tremaining: 113ms\n",
            "879:\tlearn: 1.3488759\ttotal: 822ms\tremaining: 112ms\n",
            "880:\tlearn: 1.3488697\ttotal: 823ms\tremaining: 111ms\n",
            "881:\tlearn: 1.3488674\ttotal: 823ms\tremaining: 110ms\n",
            "882:\tlearn: 1.3488665\ttotal: 824ms\tremaining: 109ms\n",
            "883:\tlearn: 1.3488632\ttotal: 825ms\tremaining: 108ms\n",
            "884:\tlearn: 1.3488610\ttotal: 826ms\tremaining: 107ms\n",
            "885:\tlearn: 1.3488558\ttotal: 827ms\tremaining: 106ms\n",
            "886:\tlearn: 1.3488535\ttotal: 828ms\tremaining: 105ms\n",
            "887:\tlearn: 1.3488523\ttotal: 829ms\tremaining: 105ms\n",
            "888:\tlearn: 1.3488485\ttotal: 830ms\tremaining: 104ms\n",
            "889:\tlearn: 1.3488456\ttotal: 831ms\tremaining: 103ms\n",
            "890:\tlearn: 1.3488423\ttotal: 832ms\tremaining: 102ms\n",
            "891:\tlearn: 1.3488405\ttotal: 833ms\tremaining: 101ms\n",
            "892:\tlearn: 1.3488374\ttotal: 834ms\tremaining: 99.9ms\n",
            "893:\tlearn: 1.3488366\ttotal: 835ms\tremaining: 99ms\n",
            "894:\tlearn: 1.3488320\ttotal: 836ms\tremaining: 98ms\n",
            "895:\tlearn: 1.3488277\ttotal: 837ms\tremaining: 97.1ms\n",
            "896:\tlearn: 1.3488231\ttotal: 838ms\tremaining: 96.2ms\n",
            "897:\tlearn: 1.3488196\ttotal: 838ms\tremaining: 95.2ms\n",
            "898:\tlearn: 1.3488163\ttotal: 839ms\tremaining: 94.3ms\n",
            "899:\tlearn: 1.3488146\ttotal: 840ms\tremaining: 93.4ms\n",
            "900:\tlearn: 1.3488139\ttotal: 841ms\tremaining: 92.4ms\n",
            "901:\tlearn: 1.3488121\ttotal: 842ms\tremaining: 91.5ms\n",
            "902:\tlearn: 1.3488091\ttotal: 843ms\tremaining: 90.6ms\n",
            "903:\tlearn: 1.3488080\ttotal: 844ms\tremaining: 89.6ms\n",
            "904:\tlearn: 1.3488075\ttotal: 845ms\tremaining: 88.7ms\n",
            "905:\tlearn: 1.3488058\ttotal: 846ms\tremaining: 87.8ms\n",
            "906:\tlearn: 1.3488054\ttotal: 847ms\tremaining: 86.8ms\n",
            "907:\tlearn: 1.3488043\ttotal: 848ms\tremaining: 85.9ms\n",
            "908:\tlearn: 1.3487996\ttotal: 849ms\tremaining: 85ms\n",
            "909:\tlearn: 1.3487989\ttotal: 850ms\tremaining: 84ms\n",
            "910:\tlearn: 1.3487974\ttotal: 850ms\tremaining: 83.1ms\n",
            "911:\tlearn: 1.3487966\ttotal: 851ms\tremaining: 82.2ms\n",
            "912:\tlearn: 1.3487946\ttotal: 852ms\tremaining: 81.2ms\n",
            "913:\tlearn: 1.3487918\ttotal: 853ms\tremaining: 80.3ms\n",
            "914:\tlearn: 1.3487892\ttotal: 854ms\tremaining: 79.3ms\n",
            "915:\tlearn: 1.3487862\ttotal: 855ms\tremaining: 78.4ms\n",
            "916:\tlearn: 1.3487852\ttotal: 856ms\tremaining: 77.5ms\n",
            "917:\tlearn: 1.3487820\ttotal: 857ms\tremaining: 76.6ms\n",
            "918:\tlearn: 1.3487801\ttotal: 858ms\tremaining: 75.6ms\n",
            "919:\tlearn: 1.3487780\ttotal: 859ms\tremaining: 74.7ms\n",
            "920:\tlearn: 1.3487762\ttotal: 860ms\tremaining: 73.8ms\n",
            "921:\tlearn: 1.3487744\ttotal: 861ms\tremaining: 72.8ms\n",
            "922:\tlearn: 1.3487724\ttotal: 862ms\tremaining: 71.9ms\n",
            "923:\tlearn: 1.3487717\ttotal: 863ms\tremaining: 70.9ms\n",
            "924:\tlearn: 1.3487693\ttotal: 864ms\tremaining: 70ms\n",
            "925:\tlearn: 1.3487657\ttotal: 864ms\tremaining: 69.1ms\n",
            "926:\tlearn: 1.3487612\ttotal: 865ms\tremaining: 68.1ms\n",
            "927:\tlearn: 1.3487602\ttotal: 866ms\tremaining: 67.2ms\n",
            "928:\tlearn: 1.3487585\ttotal: 867ms\tremaining: 66.3ms\n",
            "929:\tlearn: 1.3487576\ttotal: 868ms\tremaining: 65.3ms\n",
            "930:\tlearn: 1.3487549\ttotal: 869ms\tremaining: 64.4ms\n",
            "931:\tlearn: 1.3487541\ttotal: 870ms\tremaining: 63.5ms\n",
            "932:\tlearn: 1.3487488\ttotal: 871ms\tremaining: 62.5ms\n",
            "933:\tlearn: 1.3487444\ttotal: 872ms\tremaining: 61.6ms\n",
            "934:\tlearn: 1.3487423\ttotal: 873ms\tremaining: 60.7ms\n",
            "935:\tlearn: 1.3487393\ttotal: 873ms\tremaining: 59.7ms\n",
            "936:\tlearn: 1.3487370\ttotal: 874ms\tremaining: 58.8ms\n",
            "937:\tlearn: 1.3487339\ttotal: 875ms\tremaining: 57.8ms\n",
            "938:\tlearn: 1.3487314\ttotal: 876ms\tremaining: 56.9ms\n",
            "939:\tlearn: 1.3487297\ttotal: 877ms\tremaining: 56ms\n",
            "940:\tlearn: 1.3487292\ttotal: 878ms\tremaining: 55ms\n",
            "941:\tlearn: 1.3487274\ttotal: 879ms\tremaining: 54.1ms\n",
            "942:\tlearn: 1.3487242\ttotal: 880ms\tremaining: 53.2ms\n",
            "943:\tlearn: 1.3487222\ttotal: 880ms\tremaining: 52.2ms\n",
            "944:\tlearn: 1.3487190\ttotal: 881ms\tremaining: 51.3ms\n",
            "945:\tlearn: 1.3487156\ttotal: 882ms\tremaining: 50.4ms\n",
            "946:\tlearn: 1.3487128\ttotal: 883ms\tremaining: 49.4ms\n",
            "947:\tlearn: 1.3487110\ttotal: 884ms\tremaining: 48.5ms\n",
            "948:\tlearn: 1.3487096\ttotal: 885ms\tremaining: 47.6ms\n",
            "949:\tlearn: 1.3487085\ttotal: 886ms\tremaining: 46.6ms\n",
            "950:\tlearn: 1.3487054\ttotal: 887ms\tremaining: 45.7ms\n",
            "951:\tlearn: 1.3487042\ttotal: 888ms\tremaining: 44.8ms\n",
            "952:\tlearn: 1.3487034\ttotal: 888ms\tremaining: 43.8ms\n",
            "953:\tlearn: 1.3487009\ttotal: 889ms\tremaining: 42.9ms\n",
            "954:\tlearn: 1.3486998\ttotal: 890ms\tremaining: 41.9ms\n",
            "955:\tlearn: 1.3486993\ttotal: 891ms\tremaining: 41ms\n",
            "956:\tlearn: 1.3486984\ttotal: 892ms\tremaining: 40.1ms\n",
            "957:\tlearn: 1.3486971\ttotal: 893ms\tremaining: 39.1ms\n",
            "958:\tlearn: 1.3486931\ttotal: 894ms\tremaining: 38.2ms\n",
            "959:\tlearn: 1.3486922\ttotal: 895ms\tremaining: 37.3ms\n",
            "960:\tlearn: 1.3486885\ttotal: 896ms\tremaining: 36.3ms\n",
            "961:\tlearn: 1.3486866\ttotal: 897ms\tremaining: 35.4ms\n",
            "962:\tlearn: 1.3486846\ttotal: 898ms\tremaining: 34.5ms\n",
            "963:\tlearn: 1.3486839\ttotal: 899ms\tremaining: 33.6ms\n",
            "964:\tlearn: 1.3486821\ttotal: 900ms\tremaining: 32.6ms\n",
            "965:\tlearn: 1.3486813\ttotal: 900ms\tremaining: 31.7ms\n",
            "966:\tlearn: 1.3486802\ttotal: 901ms\tremaining: 30.8ms\n",
            "967:\tlearn: 1.3486779\ttotal: 902ms\tremaining: 29.8ms\n",
            "968:\tlearn: 1.3486755\ttotal: 903ms\tremaining: 28.9ms\n",
            "969:\tlearn: 1.3486737\ttotal: 904ms\tremaining: 28ms\n",
            "970:\tlearn: 1.3486698\ttotal: 905ms\tremaining: 27ms\n",
            "971:\tlearn: 1.3486685\ttotal: 906ms\tremaining: 26.1ms\n",
            "972:\tlearn: 1.3486661\ttotal: 907ms\tremaining: 25.2ms\n",
            "973:\tlearn: 1.3486623\ttotal: 908ms\tremaining: 24.2ms\n",
            "974:\tlearn: 1.3486606\ttotal: 909ms\tremaining: 23.3ms\n",
            "975:\tlearn: 1.3486592\ttotal: 909ms\tremaining: 22.4ms\n",
            "976:\tlearn: 1.3486581\ttotal: 910ms\tremaining: 21.4ms\n",
            "977:\tlearn: 1.3486572\ttotal: 911ms\tremaining: 20.5ms\n",
            "978:\tlearn: 1.3486563\ttotal: 912ms\tremaining: 19.6ms\n",
            "979:\tlearn: 1.3486548\ttotal: 913ms\tremaining: 18.6ms\n",
            "980:\tlearn: 1.3486516\ttotal: 914ms\tremaining: 17.7ms\n",
            "981:\tlearn: 1.3486497\ttotal: 915ms\tremaining: 16.8ms\n",
            "982:\tlearn: 1.3486479\ttotal: 916ms\tremaining: 15.8ms\n",
            "983:\tlearn: 1.3486448\ttotal: 917ms\tremaining: 14.9ms\n",
            "984:\tlearn: 1.3486443\ttotal: 918ms\tremaining: 14ms\n",
            "985:\tlearn: 1.3486433\ttotal: 919ms\tremaining: 13ms\n",
            "986:\tlearn: 1.3486398\ttotal: 920ms\tremaining: 12.1ms\n",
            "987:\tlearn: 1.3486360\ttotal: 921ms\tremaining: 11.2ms\n",
            "988:\tlearn: 1.3486341\ttotal: 921ms\tremaining: 10.2ms\n",
            "989:\tlearn: 1.3486332\ttotal: 922ms\tremaining: 9.32ms\n",
            "990:\tlearn: 1.3486327\ttotal: 923ms\tremaining: 8.38ms\n",
            "991:\tlearn: 1.3486315\ttotal: 924ms\tremaining: 7.45ms\n",
            "992:\tlearn: 1.3486302\ttotal: 925ms\tremaining: 6.52ms\n",
            "993:\tlearn: 1.3486265\ttotal: 933ms\tremaining: 5.63ms\n",
            "994:\tlearn: 1.3486256\ttotal: 934ms\tremaining: 4.69ms\n",
            "995:\tlearn: 1.3486240\ttotal: 935ms\tremaining: 3.76ms\n",
            "996:\tlearn: 1.3486211\ttotal: 936ms\tremaining: 2.82ms\n",
            "997:\tlearn: 1.3486207\ttotal: 937ms\tremaining: 1.88ms\n",
            "998:\tlearn: 1.3486191\ttotal: 938ms\tremaining: 938us\n",
            "999:\tlearn: 1.3486179\ttotal: 939ms\tremaining: 0us\n"
          ],
          "name": "stdout"
        },
        {
          "output_type": "execute_result",
          "data": {
            "text/plain": [
              "<catboost.core.CatBoostRegressor at 0x7f6f83fa8828>"
            ]
          },
          "metadata": {
            "tags": []
          },
          "execution_count": 406
        }
      ]
    },
    {
      "cell_type": "code",
      "metadata": {
        "colab": {
          "base_uri": "https://localhost:8080/"
        },
        "id": "63nRETumiDEh",
        "outputId": "ad25f5b9-74f2-4a90-8344-77e00a20a19c"
      },
      "source": [
        "y_pred_cb = clf.predict(x_test)\r\n",
        "score4 = r2_score(y_test, y_pred_cb)\r\n",
        "score4"
      ],
      "execution_count": null,
      "outputs": [
        {
          "output_type": "execute_result",
          "data": {
            "text/plain": [
              "0.3865095855199805"
            ]
          },
          "metadata": {
            "tags": []
          },
          "execution_count": 407
        }
      ]
    },
    {
      "cell_type": "code",
      "metadata": {
        "colab": {
          "base_uri": "https://localhost:8080/"
        },
        "id": "7W4I-gmNx8Vc",
        "outputId": "0dd9c0a0-d8c4-4bf3-9ba5-dbe0d217824e"
      },
      "source": [
        "y_pred4 = clf.predict(x_test)\r\n",
        "print('RMSLE', sqrt(mean_squared_log_error(np.expm1(y_test), np.expm1(y_pred4))))"
      ],
      "execution_count": null,
      "outputs": [
        {
          "output_type": "stream",
          "text": [
            "RMSLE 1.4016135775417442\n"
          ],
          "name": "stdout"
        }
      ]
    },
    {
      "cell_type": "code",
      "metadata": {
        "colab": {
          "base_uri": "https://localhost:8080/"
        },
        "id": "fe0IkKEpiHB9",
        "outputId": "78d6105d-f000-4a3b-e4c5-524a8290104c"
      },
      "source": [
        "import xgboost as xgb \r\n",
        "my_model = xgb.XGBRegressor()\r\n",
        "my_model.fit(x_train, y_train)"
      ],
      "execution_count": null,
      "outputs": [
        {
          "output_type": "stream",
          "text": [
            "[10:31:31] WARNING: /workspace/src/objective/regression_obj.cu:152: reg:linear is now deprecated in favor of reg:squarederror.\n"
          ],
          "name": "stdout"
        },
        {
          "output_type": "execute_result",
          "data": {
            "text/plain": [
              "XGBRegressor(base_score=0.5, booster='gbtree', colsample_bylevel=1,\n",
              "             colsample_bynode=1, colsample_bytree=1, gamma=0,\n",
              "             importance_type='gain', learning_rate=0.1, max_delta_step=0,\n",
              "             max_depth=3, min_child_weight=1, missing=None, n_estimators=100,\n",
              "             n_jobs=1, nthread=None, objective='reg:linear', random_state=0,\n",
              "             reg_alpha=0, reg_lambda=1, scale_pos_weight=1, seed=None,\n",
              "             silent=None, subsample=1, verbosity=1)"
            ]
          },
          "metadata": {
            "tags": []
          },
          "execution_count": 409
        }
      ]
    },
    {
      "cell_type": "code",
      "metadata": {
        "colab": {
          "base_uri": "https://localhost:8080/"
        },
        "id": "AZGclDuqiJwI",
        "outputId": "509ad260-037c-40ac-99b0-f3fbbd6c8f26"
      },
      "source": [
        "y_pred4 = my_model.predict(x_test)\r\n",
        "print('RMSLE', sqrt(mean_squared_log_error(np.expm1(y_test), np.expm1(y_pred4))))"
      ],
      "execution_count": null,
      "outputs": [
        {
          "output_type": "stream",
          "text": [
            "RMSLE 1.4093146866219055\n"
          ],
          "name": "stdout"
        }
      ]
    },
    {
      "cell_type": "code",
      "metadata": {
        "colab": {
          "base_uri": "https://localhost:8080/",
          "height": 346
        },
        "id": "CPFnAZTSiOYj",
        "outputId": "d60706bf-9621-455a-8985-85086b83bba7"
      },
      "source": [
        "from sklearn.metrics import r2_score\r\n",
        "score3 = r2_score(y_test, y_pred_xg)\r\n",
        "score3"
      ],
      "execution_count": null,
      "outputs": [
        {
          "output_type": "error",
          "ename": "ValueError",
          "evalue": "ignored",
          "traceback": [
            "\u001b[0;31m---------------------------------------------------------------------------\u001b[0m",
            "\u001b[0;31mValueError\u001b[0m                                Traceback (most recent call last)",
            "\u001b[0;32m<ipython-input-411-a074b17bea1a>\u001b[0m in \u001b[0;36m<module>\u001b[0;34m()\u001b[0m\n\u001b[1;32m      1\u001b[0m \u001b[0;32mfrom\u001b[0m \u001b[0msklearn\u001b[0m\u001b[0;34m.\u001b[0m\u001b[0mmetrics\u001b[0m \u001b[0;32mimport\u001b[0m \u001b[0mr2_score\u001b[0m\u001b[0;34m\u001b[0m\u001b[0;34m\u001b[0m\u001b[0m\n\u001b[0;32m----> 2\u001b[0;31m \u001b[0mscore3\u001b[0m \u001b[0;34m=\u001b[0m \u001b[0mr2_score\u001b[0m\u001b[0;34m(\u001b[0m\u001b[0my_test\u001b[0m\u001b[0;34m,\u001b[0m \u001b[0my_pred_xg\u001b[0m\u001b[0;34m)\u001b[0m\u001b[0;34m\u001b[0m\u001b[0;34m\u001b[0m\u001b[0m\n\u001b[0m\u001b[1;32m      3\u001b[0m \u001b[0mscore3\u001b[0m\u001b[0;34m\u001b[0m\u001b[0;34m\u001b[0m\u001b[0m\n",
            "\u001b[0;32m/usr/local/lib/python3.6/dist-packages/sklearn/metrics/_regression.py\u001b[0m in \u001b[0;36mr2_score\u001b[0;34m(y_true, y_pred, sample_weight, multioutput)\u001b[0m\n\u001b[1;32m    575\u001b[0m     \"\"\"\n\u001b[1;32m    576\u001b[0m     y_type, y_true, y_pred, multioutput = _check_reg_targets(\n\u001b[0;32m--> 577\u001b[0;31m         y_true, y_pred, multioutput)\n\u001b[0m\u001b[1;32m    578\u001b[0m     \u001b[0mcheck_consistent_length\u001b[0m\u001b[0;34m(\u001b[0m\u001b[0my_true\u001b[0m\u001b[0;34m,\u001b[0m \u001b[0my_pred\u001b[0m\u001b[0;34m,\u001b[0m \u001b[0msample_weight\u001b[0m\u001b[0;34m)\u001b[0m\u001b[0;34m\u001b[0m\u001b[0;34m\u001b[0m\u001b[0m\n\u001b[1;32m    579\u001b[0m \u001b[0;34m\u001b[0m\u001b[0m\n",
            "\u001b[0;32m/usr/local/lib/python3.6/dist-packages/sklearn/metrics/_regression.py\u001b[0m in \u001b[0;36m_check_reg_targets\u001b[0;34m(y_true, y_pred, multioutput, dtype)\u001b[0m\n\u001b[1;32m     82\u001b[0m \u001b[0;34m\u001b[0m\u001b[0m\n\u001b[1;32m     83\u001b[0m     \"\"\"\n\u001b[0;32m---> 84\u001b[0;31m     \u001b[0mcheck_consistent_length\u001b[0m\u001b[0;34m(\u001b[0m\u001b[0my_true\u001b[0m\u001b[0;34m,\u001b[0m \u001b[0my_pred\u001b[0m\u001b[0;34m)\u001b[0m\u001b[0;34m\u001b[0m\u001b[0;34m\u001b[0m\u001b[0m\n\u001b[0m\u001b[1;32m     85\u001b[0m     \u001b[0my_true\u001b[0m \u001b[0;34m=\u001b[0m \u001b[0mcheck_array\u001b[0m\u001b[0;34m(\u001b[0m\u001b[0my_true\u001b[0m\u001b[0;34m,\u001b[0m \u001b[0mensure_2d\u001b[0m\u001b[0;34m=\u001b[0m\u001b[0;32mFalse\u001b[0m\u001b[0;34m,\u001b[0m \u001b[0mdtype\u001b[0m\u001b[0;34m=\u001b[0m\u001b[0mdtype\u001b[0m\u001b[0;34m)\u001b[0m\u001b[0;34m\u001b[0m\u001b[0;34m\u001b[0m\u001b[0m\n\u001b[1;32m     86\u001b[0m     \u001b[0my_pred\u001b[0m \u001b[0;34m=\u001b[0m \u001b[0mcheck_array\u001b[0m\u001b[0;34m(\u001b[0m\u001b[0my_pred\u001b[0m\u001b[0;34m,\u001b[0m \u001b[0mensure_2d\u001b[0m\u001b[0;34m=\u001b[0m\u001b[0;32mFalse\u001b[0m\u001b[0;34m,\u001b[0m \u001b[0mdtype\u001b[0m\u001b[0;34m=\u001b[0m\u001b[0mdtype\u001b[0m\u001b[0;34m)\u001b[0m\u001b[0;34m\u001b[0m\u001b[0;34m\u001b[0m\u001b[0m\n",
            "\u001b[0;32m/usr/local/lib/python3.6/dist-packages/sklearn/utils/validation.py\u001b[0m in \u001b[0;36mcheck_consistent_length\u001b[0;34m(*arrays)\u001b[0m\n\u001b[1;32m    210\u001b[0m     \u001b[0;32mif\u001b[0m \u001b[0mlen\u001b[0m\u001b[0;34m(\u001b[0m\u001b[0muniques\u001b[0m\u001b[0;34m)\u001b[0m \u001b[0;34m>\u001b[0m \u001b[0;36m1\u001b[0m\u001b[0;34m:\u001b[0m\u001b[0;34m\u001b[0m\u001b[0;34m\u001b[0m\u001b[0m\n\u001b[1;32m    211\u001b[0m         raise ValueError(\"Found input variables with inconsistent numbers of\"\n\u001b[0;32m--> 212\u001b[0;31m                          \" samples: %r\" % [int(l) for l in lengths])\n\u001b[0m\u001b[1;32m    213\u001b[0m \u001b[0;34m\u001b[0m\u001b[0m\n\u001b[1;32m    214\u001b[0m \u001b[0;34m\u001b[0m\u001b[0m\n",
            "\u001b[0;31mValueError\u001b[0m: Found input variables with inconsistent numbers of samples: [1080, 1629]"
          ]
        }
      ]
    },
    {
      "cell_type": "code",
      "metadata": {
        "id": "0mV4ujO5iQkX"
      },
      "source": [
        "from sklearn.model_selection import train_test_split\r\n",
        "X_train, X_cv, y_train, y_cv = train_test_split(X, y, test_size=0.25, random_state=42)\r\n",
        "from math import sqrt \r\n",
        "from sklearn.metrics import mean_squared_log_error"
      ],
      "execution_count": null,
      "outputs": []
    },
    {
      "cell_type": "code",
      "metadata": {
        "colab": {
          "base_uri": "https://localhost:8080/"
        },
        "id": "bXQ_K5WfiUQA",
        "outputId": "84ac31cc-a38c-4d03-ae43-a2931599241f"
      },
      "source": [
        "import lightgbm as lgb\r\n",
        "train_data = lgb.Dataset(X_train, label=y_train)\r\n",
        "test_data = lgb.Dataset(X_cv, label=y_cv)\r\n",
        "\r\n",
        "param = {'objective': 'regression',\r\n",
        "         'boosting': 'gbdt',  \r\n",
        "         'metric': 'l2_root',\r\n",
        "         'learning_rate': 0.1, \r\n",
        "         'num_iterations': 1000,\r\n",
        "         'num_leaves': 69,\r\n",
        "         'max_depth': -1,\r\n",
        "         'min_data_in_leaf': 12,\r\n",
        "         'bagging_fraction': 0.80,\r\n",
        "         'bagging_freq': 1,\r\n",
        "         'bagging_seed': 3,\r\n",
        "         'feature_fraction': 0.90,\r\n",
        "         'feature_fraction_seed': 2,\r\n",
        "         'early_stopping_round': 200,\r\n",
        "         'max_bin': 250\r\n",
        "         }\r\n",
        "\r\n",
        "lgbm = lgb.train(params=param, verbose_eval=100, train_set=train_data, valid_sets=[test_data])\r\n",
        "\r\n",
        "y_pred_lgbm = lgbm.predict(X_cv)\r\n",
        "print('RMSLE:', sqrt(mean_squared_log_error(np.expm1(y_cv), np.expm1(y_pred_lgbm))))"
      ],
      "execution_count": null,
      "outputs": [
        {
          "output_type": "stream",
          "text": [
            "/usr/local/lib/python3.6/dist-packages/lightgbm/engine.py:118: UserWarning: Found `num_iterations` in params. Will use it instead of argument\n",
            "  warnings.warn(\"Found `{}` in params. Will use it instead of argument\".format(alias))\n",
            "/usr/local/lib/python3.6/dist-packages/lightgbm/engine.py:123: UserWarning: Found `early_stopping_round` in params. Will use it instead of argument\n",
            "  warnings.warn(\"Found `{}` in params. Will use it instead of argument\".format(alias))\n"
          ],
          "name": "stderr"
        },
        {
          "output_type": "stream",
          "text": [
            "Training until validation scores don't improve for 200 rounds.\n",
            "[100]\tvalid_0's rmse: 1.39359\n",
            "[200]\tvalid_0's rmse: 1.39565\n",
            "Early stopping, best iteration is:\n",
            "[35]\tvalid_0's rmse: 1.3915\n",
            "RMSLE: 1.39150206430201\n"
          ],
          "name": "stdout"
        }
      ]
    },
    {
      "cell_type": "code",
      "metadata": {
        "colab": {
          "base_uri": "https://localhost:8080/",
          "height": 450
        },
        "id": "Z1G4JozNiabJ",
        "outputId": "29b95f7f-f24d-4c61-b78d-1ddee0519561"
      },
      "source": [
        "from sklearn.model_selection import KFold\r\n",
        "from lightgbm import LGBMRegressor\r\n",
        "\r\n",
        "errlgb = []\r\n",
        "y_pred_totlgb = []\r\n",
        "\r\n",
        "fold = KFold(n_splits=4, shuffle=True, random_state=101)\r\n",
        "\r\n",
        "for train_index, test_index in fold.split(X):\r\n",
        "  X_train, X_test = X.loc[train_index], X.loc[test_index]\r\n",
        "  y_train, y_test = y[train_index], y[test_index]\r\n",
        "\r\n",
        "  lgbm = LGBMRegressor(**param)\r\n",
        "  lgbm.fit(X_train, y_train, eval_set=[(X_test, y_test)], verbose=0, early_stopping_rounds=200)\r\n",
        "\r\n",
        "  y_pred_lgbm = lgbm.predict(X_test)\r\n",
        "  print(\"RMSLE LGBM: \", sqrt(mean_squared_log_error(np.exp(y_test), np.exp(y_pred_lgbm))))\r\n",
        "\r\n",
        "  errlgb.append(sqrt(mean_squared_log_error(np.exp(y_test), np.exp(y_pred_lgbm))))\r\n",
        "  p = lgbm.predict(X_test)\r\n",
        "  y_pred_totlgb.append(p)"
      ],
      "execution_count": null,
      "outputs": [
        {
          "output_type": "error",
          "ename": "KeyError",
          "evalue": "ignored",
          "traceback": [
            "\u001b[0;31m---------------------------------------------------------------------------\u001b[0m",
            "\u001b[0;31mKeyError\u001b[0m                                  Traceback (most recent call last)",
            "\u001b[0;32m<ipython-input-414-d4e3357a8799>\u001b[0m in \u001b[0;36m<module>\u001b[0;34m()\u001b[0m\n\u001b[1;32m      8\u001b[0m \u001b[0;34m\u001b[0m\u001b[0m\n\u001b[1;32m      9\u001b[0m \u001b[0;32mfor\u001b[0m \u001b[0mtrain_index\u001b[0m\u001b[0;34m,\u001b[0m \u001b[0mtest_index\u001b[0m \u001b[0;32min\u001b[0m \u001b[0mfold\u001b[0m\u001b[0;34m.\u001b[0m\u001b[0msplit\u001b[0m\u001b[0;34m(\u001b[0m\u001b[0mX\u001b[0m\u001b[0;34m)\u001b[0m\u001b[0;34m:\u001b[0m\u001b[0;34m\u001b[0m\u001b[0;34m\u001b[0m\u001b[0m\n\u001b[0;32m---> 10\u001b[0;31m   \u001b[0mX_train\u001b[0m\u001b[0;34m,\u001b[0m \u001b[0mX_test\u001b[0m \u001b[0;34m=\u001b[0m \u001b[0mX\u001b[0m\u001b[0;34m.\u001b[0m\u001b[0mloc\u001b[0m\u001b[0;34m[\u001b[0m\u001b[0mtrain_index\u001b[0m\u001b[0;34m]\u001b[0m\u001b[0;34m,\u001b[0m \u001b[0mX\u001b[0m\u001b[0;34m.\u001b[0m\u001b[0mloc\u001b[0m\u001b[0;34m[\u001b[0m\u001b[0mtest_index\u001b[0m\u001b[0;34m]\u001b[0m\u001b[0;34m\u001b[0m\u001b[0;34m\u001b[0m\u001b[0m\n\u001b[0m\u001b[1;32m     11\u001b[0m   \u001b[0my_train\u001b[0m\u001b[0;34m,\u001b[0m \u001b[0my_test\u001b[0m \u001b[0;34m=\u001b[0m \u001b[0my\u001b[0m\u001b[0;34m[\u001b[0m\u001b[0mtrain_index\u001b[0m\u001b[0;34m]\u001b[0m\u001b[0;34m,\u001b[0m \u001b[0my\u001b[0m\u001b[0;34m[\u001b[0m\u001b[0mtest_index\u001b[0m\u001b[0;34m]\u001b[0m\u001b[0;34m\u001b[0m\u001b[0;34m\u001b[0m\u001b[0m\n\u001b[1;32m     12\u001b[0m \u001b[0;34m\u001b[0m\u001b[0m\n",
            "\u001b[0;32m/usr/local/lib/python3.6/dist-packages/pandas/core/indexing.py\u001b[0m in \u001b[0;36m__getitem__\u001b[0;34m(self, key)\u001b[0m\n\u001b[1;32m    877\u001b[0m \u001b[0;34m\u001b[0m\u001b[0m\n\u001b[1;32m    878\u001b[0m             \u001b[0mmaybe_callable\u001b[0m \u001b[0;34m=\u001b[0m \u001b[0mcom\u001b[0m\u001b[0;34m.\u001b[0m\u001b[0mapply_if_callable\u001b[0m\u001b[0;34m(\u001b[0m\u001b[0mkey\u001b[0m\u001b[0;34m,\u001b[0m \u001b[0mself\u001b[0m\u001b[0;34m.\u001b[0m\u001b[0mobj\u001b[0m\u001b[0;34m)\u001b[0m\u001b[0;34m\u001b[0m\u001b[0;34m\u001b[0m\u001b[0m\n\u001b[0;32m--> 879\u001b[0;31m             \u001b[0;32mreturn\u001b[0m \u001b[0mself\u001b[0m\u001b[0;34m.\u001b[0m\u001b[0m_getitem_axis\u001b[0m\u001b[0;34m(\u001b[0m\u001b[0mmaybe_callable\u001b[0m\u001b[0;34m,\u001b[0m \u001b[0maxis\u001b[0m\u001b[0;34m=\u001b[0m\u001b[0maxis\u001b[0m\u001b[0;34m)\u001b[0m\u001b[0;34m\u001b[0m\u001b[0;34m\u001b[0m\u001b[0m\n\u001b[0m\u001b[1;32m    880\u001b[0m \u001b[0;34m\u001b[0m\u001b[0m\n\u001b[1;32m    881\u001b[0m     \u001b[0;32mdef\u001b[0m \u001b[0m_is_scalar_access\u001b[0m\u001b[0;34m(\u001b[0m\u001b[0mself\u001b[0m\u001b[0;34m,\u001b[0m \u001b[0mkey\u001b[0m\u001b[0;34m:\u001b[0m \u001b[0mTuple\u001b[0m\u001b[0;34m)\u001b[0m\u001b[0;34m:\u001b[0m\u001b[0;34m\u001b[0m\u001b[0;34m\u001b[0m\u001b[0m\n",
            "\u001b[0;32m/usr/local/lib/python3.6/dist-packages/pandas/core/indexing.py\u001b[0m in \u001b[0;36m_getitem_axis\u001b[0;34m(self, key, axis)\u001b[0m\n\u001b[1;32m   1097\u001b[0m                     \u001b[0;32mraise\u001b[0m \u001b[0mValueError\u001b[0m\u001b[0;34m(\u001b[0m\u001b[0;34m\"Cannot index with multidimensional key\"\u001b[0m\u001b[0;34m)\u001b[0m\u001b[0;34m\u001b[0m\u001b[0;34m\u001b[0m\u001b[0m\n\u001b[1;32m   1098\u001b[0m \u001b[0;34m\u001b[0m\u001b[0m\n\u001b[0;32m-> 1099\u001b[0;31m                 \u001b[0;32mreturn\u001b[0m \u001b[0mself\u001b[0m\u001b[0;34m.\u001b[0m\u001b[0m_getitem_iterable\u001b[0m\u001b[0;34m(\u001b[0m\u001b[0mkey\u001b[0m\u001b[0;34m,\u001b[0m \u001b[0maxis\u001b[0m\u001b[0;34m=\u001b[0m\u001b[0maxis\u001b[0m\u001b[0;34m)\u001b[0m\u001b[0;34m\u001b[0m\u001b[0;34m\u001b[0m\u001b[0m\n\u001b[0m\u001b[1;32m   1100\u001b[0m \u001b[0;34m\u001b[0m\u001b[0m\n\u001b[1;32m   1101\u001b[0m             \u001b[0;31m# nested tuple slicing\u001b[0m\u001b[0;34m\u001b[0m\u001b[0;34m\u001b[0m\u001b[0;34m\u001b[0m\u001b[0m\n",
            "\u001b[0;32m/usr/local/lib/python3.6/dist-packages/pandas/core/indexing.py\u001b[0m in \u001b[0;36m_getitem_iterable\u001b[0;34m(self, key, axis)\u001b[0m\n\u001b[1;32m   1035\u001b[0m \u001b[0;34m\u001b[0m\u001b[0m\n\u001b[1;32m   1036\u001b[0m         \u001b[0;31m# A collection of keys\u001b[0m\u001b[0;34m\u001b[0m\u001b[0;34m\u001b[0m\u001b[0;34m\u001b[0m\u001b[0m\n\u001b[0;32m-> 1037\u001b[0;31m         \u001b[0mkeyarr\u001b[0m\u001b[0;34m,\u001b[0m \u001b[0mindexer\u001b[0m \u001b[0;34m=\u001b[0m \u001b[0mself\u001b[0m\u001b[0;34m.\u001b[0m\u001b[0m_get_listlike_indexer\u001b[0m\u001b[0;34m(\u001b[0m\u001b[0mkey\u001b[0m\u001b[0;34m,\u001b[0m \u001b[0maxis\u001b[0m\u001b[0;34m,\u001b[0m \u001b[0mraise_missing\u001b[0m\u001b[0;34m=\u001b[0m\u001b[0;32mFalse\u001b[0m\u001b[0;34m)\u001b[0m\u001b[0;34m\u001b[0m\u001b[0;34m\u001b[0m\u001b[0m\n\u001b[0m\u001b[1;32m   1038\u001b[0m         return self.obj._reindex_with_indexers(\n\u001b[1;32m   1039\u001b[0m             \u001b[0;34m{\u001b[0m\u001b[0maxis\u001b[0m\u001b[0;34m:\u001b[0m \u001b[0;34m[\u001b[0m\u001b[0mkeyarr\u001b[0m\u001b[0;34m,\u001b[0m \u001b[0mindexer\u001b[0m\u001b[0;34m]\u001b[0m\u001b[0;34m}\u001b[0m\u001b[0;34m,\u001b[0m \u001b[0mcopy\u001b[0m\u001b[0;34m=\u001b[0m\u001b[0;32mTrue\u001b[0m\u001b[0;34m,\u001b[0m \u001b[0mallow_dups\u001b[0m\u001b[0;34m=\u001b[0m\u001b[0;32mTrue\u001b[0m\u001b[0;34m\u001b[0m\u001b[0;34m\u001b[0m\u001b[0m\n",
            "\u001b[0;32m/usr/local/lib/python3.6/dist-packages/pandas/core/indexing.py\u001b[0m in \u001b[0;36m_get_listlike_indexer\u001b[0;34m(self, key, axis, raise_missing)\u001b[0m\n\u001b[1;32m   1252\u001b[0m             \u001b[0mkeyarr\u001b[0m\u001b[0;34m,\u001b[0m \u001b[0mindexer\u001b[0m\u001b[0;34m,\u001b[0m \u001b[0mnew_indexer\u001b[0m \u001b[0;34m=\u001b[0m \u001b[0max\u001b[0m\u001b[0;34m.\u001b[0m\u001b[0m_reindex_non_unique\u001b[0m\u001b[0;34m(\u001b[0m\u001b[0mkeyarr\u001b[0m\u001b[0;34m)\u001b[0m\u001b[0;34m\u001b[0m\u001b[0;34m\u001b[0m\u001b[0m\n\u001b[1;32m   1253\u001b[0m \u001b[0;34m\u001b[0m\u001b[0m\n\u001b[0;32m-> 1254\u001b[0;31m         \u001b[0mself\u001b[0m\u001b[0;34m.\u001b[0m\u001b[0m_validate_read_indexer\u001b[0m\u001b[0;34m(\u001b[0m\u001b[0mkeyarr\u001b[0m\u001b[0;34m,\u001b[0m \u001b[0mindexer\u001b[0m\u001b[0;34m,\u001b[0m \u001b[0maxis\u001b[0m\u001b[0;34m,\u001b[0m \u001b[0mraise_missing\u001b[0m\u001b[0;34m=\u001b[0m\u001b[0mraise_missing\u001b[0m\u001b[0;34m)\u001b[0m\u001b[0;34m\u001b[0m\u001b[0;34m\u001b[0m\u001b[0m\n\u001b[0m\u001b[1;32m   1255\u001b[0m         \u001b[0;32mreturn\u001b[0m \u001b[0mkeyarr\u001b[0m\u001b[0;34m,\u001b[0m \u001b[0mindexer\u001b[0m\u001b[0;34m\u001b[0m\u001b[0;34m\u001b[0m\u001b[0m\n\u001b[1;32m   1256\u001b[0m \u001b[0;34m\u001b[0m\u001b[0m\n",
            "\u001b[0;32m/usr/local/lib/python3.6/dist-packages/pandas/core/indexing.py\u001b[0m in \u001b[0;36m_validate_read_indexer\u001b[0;34m(self, key, indexer, axis, raise_missing)\u001b[0m\n\u001b[1;32m   1314\u001b[0m                 \u001b[0;32mwith\u001b[0m \u001b[0moption_context\u001b[0m\u001b[0;34m(\u001b[0m\u001b[0;34m\"display.max_seq_items\"\u001b[0m\u001b[0;34m,\u001b[0m \u001b[0;36m10\u001b[0m\u001b[0;34m,\u001b[0m \u001b[0;34m\"display.width\"\u001b[0m\u001b[0;34m,\u001b[0m \u001b[0;36m80\u001b[0m\u001b[0;34m)\u001b[0m\u001b[0;34m:\u001b[0m\u001b[0;34m\u001b[0m\u001b[0;34m\u001b[0m\u001b[0m\n\u001b[1;32m   1315\u001b[0m                     raise KeyError(\n\u001b[0;32m-> 1316\u001b[0;31m                         \u001b[0;34m\"Passing list-likes to .loc or [] with any missing labels \"\u001b[0m\u001b[0;34m\u001b[0m\u001b[0;34m\u001b[0m\u001b[0m\n\u001b[0m\u001b[1;32m   1317\u001b[0m                         \u001b[0;34m\"is no longer supported. \"\u001b[0m\u001b[0;34m\u001b[0m\u001b[0;34m\u001b[0m\u001b[0m\n\u001b[1;32m   1318\u001b[0m                         \u001b[0;34mf\"The following labels were missing: {not_found}. \"\u001b[0m\u001b[0;34m\u001b[0m\u001b[0;34m\u001b[0m\u001b[0m\n",
            "\u001b[0;31mKeyError\u001b[0m: \"Passing list-likes to .loc or [] with any missing labels is no longer supported. The following labels were missing: Int64Index([  16,   35,   76,  374,  918,\\n            ...\\n            4776, 5086, 5299, 5362, 5396],\\n           dtype='int64', length=30). See https://pandas.pydata.org/pandas-docs/stable/user_guide/indexing.html#deprecate-loc-reindex-listlike\""
          ]
        }
      ]
    },
    {
      "cell_type": "code",
      "metadata": {
        "colab": {
          "base_uri": "https://localhost:8080/"
        },
        "id": "JO65dvuJiejn",
        "outputId": "724af16d-001a-4bc4-fcd4-c2b5c39397c3"
      },
      "source": [
        "from sklearn.ensemble import GradientBoostingRegressor\r\n",
        "gb = GradientBoostingRegressor(verbose=1, learning_rate=0.15, n_estimators=1000, random_state=33, subsample=0.7)\r\n",
        "gb.fit(X_train, y_train)\r\n",
        "y_pred1 = gb.predict(X_cv)\r\n",
        "print('RMSLE:', sqrt(mean_squared_log_error(np.expm1(y_cv), np.expm1(y_pred1))))"
      ],
      "execution_count": null,
      "outputs": [
        {
          "output_type": "stream",
          "text": [
            "      Iter       Train Loss      OOB Improve   Remaining Time \n",
            "         1           2.8106           0.2947            5.19s\n",
            "         2           2.5906           0.2210            4.48s\n",
            "         3           2.4809           0.1383            3.59s\n",
            "         4           2.3318           0.0972            3.13s\n",
            "         5           2.2911           0.0853            2.86s\n",
            "         6           2.2179           0.0572            2.68s\n",
            "         7           2.1518           0.0272            2.54s\n",
            "         8           2.1429           0.0359            2.44s\n",
            "         9           2.1035           0.0200            2.36s\n",
            "        10           2.0586           0.0223            2.29s\n",
            "        20           1.9437           0.0003            1.97s\n",
            "        30           1.9440          -0.0014            1.79s\n",
            "        40           1.9049          -0.0024            1.69s\n",
            "        50           1.8694          -0.0012            1.63s\n",
            "        60           1.8705          -0.0012            1.57s\n",
            "        70           1.8866          -0.0014            1.53s\n",
            "        80           1.8188          -0.0004            1.50s\n",
            "        90           1.9077          -0.0025            1.47s\n",
            "       100           1.8248          -0.0037            1.44s\n",
            "       200           1.8509          -0.0014            1.23s\n",
            "       300           1.8100          -0.0018            1.08s\n",
            "       400           1.7895          -0.0033            0.91s\n",
            "       500           1.7965          -0.0026            0.76s\n",
            "       600           1.8274          -0.0024            0.61s\n",
            "       700           1.8425          -0.0031            0.46s\n",
            "       800           1.8140          -0.0041            0.31s\n",
            "       900           1.8053          -0.0029            0.15s\n",
            "      1000           1.9101          -0.0021            0.00s\n",
            "RMSLE: 1.4097310634370164\n"
          ],
          "name": "stdout"
        }
      ]
    },
    {
      "cell_type": "code",
      "metadata": {
        "colab": {
          "base_uri": "https://localhost:8080/"
        },
        "id": "35naMMDpj0th",
        "outputId": "8fa66794-de5b-4045-d185-0bf78e491505"
      },
      "source": [
        "from catboost import CatBoostRegressor\r\n",
        "cat = CatBoostRegressor(verbose=100,n_estimators=1000, random_state=42, subsample=0.7)\r\n",
        "cat.fit(X_train, y_train)\r\n",
        "y_pred = cat.predict(X_cv)\r\n",
        "print('RMSLE', sqrt(mean_squared_log_error(np.expm1(y_cv), np.expm1(y_pred))))"
      ],
      "execution_count": null,
      "outputs": [
        {
          "output_type": "stream",
          "text": [
            "Learning rate set to 0.05006\n",
            "0:\tlearn: 1.7363053\ttotal: 572us\tremaining: 572ms\n",
            "100:\tlearn: 1.3774127\ttotal: 82.6ms\tremaining: 735ms\n",
            "200:\tlearn: 1.3603678\ttotal: 160ms\tremaining: 636ms\n",
            "300:\tlearn: 1.3534840\ttotal: 245ms\tremaining: 568ms\n",
            "400:\tlearn: 1.3503931\ttotal: 334ms\tremaining: 499ms\n",
            "500:\tlearn: 1.3489456\ttotal: 422ms\tremaining: 420ms\n",
            "600:\tlearn: 1.3480107\ttotal: 507ms\tremaining: 336ms\n",
            "700:\tlearn: 1.3473232\ttotal: 588ms\tremaining: 251ms\n",
            "800:\tlearn: 1.3468809\ttotal: 667ms\tremaining: 166ms\n",
            "900:\tlearn: 1.3465421\ttotal: 748ms\tremaining: 82.2ms\n",
            "999:\tlearn: 1.3462816\ttotal: 829ms\tremaining: 0us\n",
            "RMSLE 1.405851111572785\n"
          ],
          "name": "stdout"
        }
      ]
    },
    {
      "cell_type": "code",
      "metadata": {
        "colab": {
          "base_uri": "https://localhost:8080/"
        },
        "id": "OZ16R-4nj48s",
        "outputId": "ca768dc5-8147-464e-b7b1-0b1f6555f0a7"
      },
      "source": [
        "score3 = r2_score(y_cv, y_pred)\r\n",
        "score3"
      ],
      "execution_count": null,
      "outputs": [
        {
          "output_type": "execute_result",
          "data": {
            "text/plain": [
              "0.35750232971283613"
            ]
          },
          "metadata": {
            "tags": []
          },
          "execution_count": 417
        }
      ]
    },
    {
      "cell_type": "code",
      "metadata": {
        "colab": {
          "base_uri": "https://localhost:8080/"
        },
        "id": "5R95OS81lqXB",
        "outputId": "f06d8d40-f06f-48db-9a1a-193eb57b3e87"
      },
      "source": [
        "train.shape"
      ],
      "execution_count": null,
      "outputs": [
        {
          "output_type": "execute_result",
          "data": {
            "text/plain": [
              "(5398, 28)"
            ]
          },
          "metadata": {
            "tags": []
          },
          "execution_count": 418
        }
      ]
    },
    {
      "cell_type": "code",
      "metadata": {
        "colab": {
          "base_uri": "https://localhost:8080/"
        },
        "id": "t09NBqweltKf",
        "outputId": "f5330c44-3816-4c74-b40e-b591c8be8201"
      },
      "source": [
        "X_cv.shape"
      ],
      "execution_count": null,
      "outputs": [
        {
          "output_type": "execute_result",
          "data": {
            "text/plain": [
              "(1350, 16)"
            ]
          },
          "metadata": {
            "tags": []
          },
          "execution_count": 419
        }
      ]
    },
    {
      "cell_type": "code",
      "metadata": {
        "id": "qIXaebQQlbMp"
      },
      "source": [
        "y_pred_rf = xg.predict(test)"
      ],
      "execution_count": null,
      "outputs": []
    },
    {
      "cell_type": "code",
      "metadata": {
        "id": "a9rWoAgekW2n"
      },
      "source": [
        "y_pred_unscaled = np.exp(y_pred_rf)"
      ],
      "execution_count": null,
      "outputs": []
    },
    {
      "cell_type": "code",
      "metadata": {
        "id": "s3KkdWHVndzB"
      },
      "source": [
        "output2 = pd.DataFrame(y_pred_unscaled)"
      ],
      "execution_count": null,
      "outputs": []
    },
    {
      "cell_type": "code",
      "metadata": {
        "id": "JDjiI9YTlgVT"
      },
      "source": [
        "output2.to_csv('my_submission_file2.csv', index= False)"
      ],
      "execution_count": null,
      "outputs": []
    },
    {
      "cell_type": "code",
      "metadata": {
        "colab": {
          "base_uri": "https://localhost:8080/"
        },
        "id": "U7mZGXezj-nl",
        "outputId": "68203393-e1a9-460f-db12-ae595f8ef8fb"
      },
      "source": [
        "score3 = r2_score(y_cv, y_pred1)\r\n",
        "score3"
      ],
      "execution_count": null,
      "outputs": [
        {
          "output_type": "execute_result",
          "data": {
            "text/plain": [
              "0.39526562738555493"
            ]
          },
          "metadata": {
            "tags": []
          },
          "execution_count": 207
        }
      ]
    },
    {
      "cell_type": "code",
      "metadata": {
        "colab": {
          "base_uri": "https://localhost:8080/",
          "height": 433
        },
        "id": "qllsfSl-kFke",
        "outputId": "d24ccf4b-9645-4c8f-f9d9-9adb55a644ba"
      },
      "source": [
        "from xgboost import XGBRegressor\r\n",
        "from sklearn.model_selection import KFold\r\n",
        "\r\n",
        "errxgb = []\r\n",
        "y_pred_totxgb = []\r\n",
        "\r\n",
        "fold = KFold(n_splits=10, shuffle=True, random_state=42)\r\n",
        "\r\n",
        "for train_index, test_index in fold.split(X):\r\n",
        "    X_train, X_test = X.loc[train_index], X.loc[test_index]\r\n",
        "    y_train, y_test = y[train_index], y[test_index]\r\n",
        "    \r\n",
        "    #xgb = XGBRegressor(random_state=101)\r\n",
        "    \r\n",
        "    xgb=XGBRegressor(random_state=42, n_jobs=-1, objective='reg:squarederror', max_depth=9, n_estimators=1000,tree_method='auto')# )\r\n",
        "    xgb.fit(X_train, y_train)\r\n",
        "\r\n",
        "    y_pred_xgb = xgb.predict(X_test)\r\n",
        "    print(\"RMSLE: \", sqrt(mean_squared_log_error(np.exp(y_test), np.exp(y_pred_xgb))))\r\n",
        "\r\n",
        "    errxgb.append(sqrt(mean_squared_log_error(np.exp(y_test), np.exp(y_pred_xgb))))\r\n",
        "    p = xgb.predict(X_test)\r\n",
        "\r\n",
        "    y_pred_totxgb.append(p)"
      ],
      "execution_count": null,
      "outputs": [
        {
          "output_type": "error",
          "ename": "KeyError",
          "evalue": "ignored",
          "traceback": [
            "\u001b[0;31m---------------------------------------------------------------------------\u001b[0m",
            "\u001b[0;31mKeyError\u001b[0m                                  Traceback (most recent call last)",
            "\u001b[0;32m<ipython-input-148-798780eeb926>\u001b[0m in \u001b[0;36m<module>\u001b[0;34m()\u001b[0m\n\u001b[1;32m      8\u001b[0m \u001b[0;34m\u001b[0m\u001b[0m\n\u001b[1;32m      9\u001b[0m \u001b[0;32mfor\u001b[0m \u001b[0mtrain_index\u001b[0m\u001b[0;34m,\u001b[0m \u001b[0mtest_index\u001b[0m \u001b[0;32min\u001b[0m \u001b[0mfold\u001b[0m\u001b[0;34m.\u001b[0m\u001b[0msplit\u001b[0m\u001b[0;34m(\u001b[0m\u001b[0mX\u001b[0m\u001b[0;34m)\u001b[0m\u001b[0;34m:\u001b[0m\u001b[0;34m\u001b[0m\u001b[0;34m\u001b[0m\u001b[0m\n\u001b[0;32m---> 10\u001b[0;31m     \u001b[0mX_train\u001b[0m\u001b[0;34m,\u001b[0m \u001b[0mX_test\u001b[0m \u001b[0;34m=\u001b[0m \u001b[0mX\u001b[0m\u001b[0;34m.\u001b[0m\u001b[0mloc\u001b[0m\u001b[0;34m[\u001b[0m\u001b[0mtrain_index\u001b[0m\u001b[0;34m]\u001b[0m\u001b[0;34m,\u001b[0m \u001b[0mX\u001b[0m\u001b[0;34m.\u001b[0m\u001b[0mloc\u001b[0m\u001b[0;34m[\u001b[0m\u001b[0mtest_index\u001b[0m\u001b[0;34m]\u001b[0m\u001b[0;34m\u001b[0m\u001b[0;34m\u001b[0m\u001b[0m\n\u001b[0m\u001b[1;32m     11\u001b[0m     \u001b[0my_train\u001b[0m\u001b[0;34m,\u001b[0m \u001b[0my_test\u001b[0m \u001b[0;34m=\u001b[0m \u001b[0my\u001b[0m\u001b[0;34m[\u001b[0m\u001b[0mtrain_index\u001b[0m\u001b[0;34m]\u001b[0m\u001b[0;34m,\u001b[0m \u001b[0my\u001b[0m\u001b[0;34m[\u001b[0m\u001b[0mtest_index\u001b[0m\u001b[0;34m]\u001b[0m\u001b[0;34m\u001b[0m\u001b[0;34m\u001b[0m\u001b[0m\n\u001b[1;32m     12\u001b[0m \u001b[0;34m\u001b[0m\u001b[0m\n",
            "\u001b[0;32m/usr/local/lib/python3.6/dist-packages/pandas/core/indexing.py\u001b[0m in \u001b[0;36m__getitem__\u001b[0;34m(self, key)\u001b[0m\n\u001b[1;32m    877\u001b[0m \u001b[0;34m\u001b[0m\u001b[0m\n\u001b[1;32m    878\u001b[0m             \u001b[0mmaybe_callable\u001b[0m \u001b[0;34m=\u001b[0m \u001b[0mcom\u001b[0m\u001b[0;34m.\u001b[0m\u001b[0mapply_if_callable\u001b[0m\u001b[0;34m(\u001b[0m\u001b[0mkey\u001b[0m\u001b[0;34m,\u001b[0m \u001b[0mself\u001b[0m\u001b[0;34m.\u001b[0m\u001b[0mobj\u001b[0m\u001b[0;34m)\u001b[0m\u001b[0;34m\u001b[0m\u001b[0;34m\u001b[0m\u001b[0m\n\u001b[0;32m--> 879\u001b[0;31m             \u001b[0;32mreturn\u001b[0m \u001b[0mself\u001b[0m\u001b[0;34m.\u001b[0m\u001b[0m_getitem_axis\u001b[0m\u001b[0;34m(\u001b[0m\u001b[0mmaybe_callable\u001b[0m\u001b[0;34m,\u001b[0m \u001b[0maxis\u001b[0m\u001b[0;34m=\u001b[0m\u001b[0maxis\u001b[0m\u001b[0;34m)\u001b[0m\u001b[0;34m\u001b[0m\u001b[0;34m\u001b[0m\u001b[0m\n\u001b[0m\u001b[1;32m    880\u001b[0m \u001b[0;34m\u001b[0m\u001b[0m\n\u001b[1;32m    881\u001b[0m     \u001b[0;32mdef\u001b[0m \u001b[0m_is_scalar_access\u001b[0m\u001b[0;34m(\u001b[0m\u001b[0mself\u001b[0m\u001b[0;34m,\u001b[0m \u001b[0mkey\u001b[0m\u001b[0;34m:\u001b[0m \u001b[0mTuple\u001b[0m\u001b[0;34m)\u001b[0m\u001b[0;34m:\u001b[0m\u001b[0;34m\u001b[0m\u001b[0;34m\u001b[0m\u001b[0m\n",
            "\u001b[0;32m/usr/local/lib/python3.6/dist-packages/pandas/core/indexing.py\u001b[0m in \u001b[0;36m_getitem_axis\u001b[0;34m(self, key, axis)\u001b[0m\n\u001b[1;32m   1097\u001b[0m                     \u001b[0;32mraise\u001b[0m \u001b[0mValueError\u001b[0m\u001b[0;34m(\u001b[0m\u001b[0;34m\"Cannot index with multidimensional key\"\u001b[0m\u001b[0;34m)\u001b[0m\u001b[0;34m\u001b[0m\u001b[0;34m\u001b[0m\u001b[0m\n\u001b[1;32m   1098\u001b[0m \u001b[0;34m\u001b[0m\u001b[0m\n\u001b[0;32m-> 1099\u001b[0;31m                 \u001b[0;32mreturn\u001b[0m \u001b[0mself\u001b[0m\u001b[0;34m.\u001b[0m\u001b[0m_getitem_iterable\u001b[0m\u001b[0;34m(\u001b[0m\u001b[0mkey\u001b[0m\u001b[0;34m,\u001b[0m \u001b[0maxis\u001b[0m\u001b[0;34m=\u001b[0m\u001b[0maxis\u001b[0m\u001b[0;34m)\u001b[0m\u001b[0;34m\u001b[0m\u001b[0;34m\u001b[0m\u001b[0m\n\u001b[0m\u001b[1;32m   1100\u001b[0m \u001b[0;34m\u001b[0m\u001b[0m\n\u001b[1;32m   1101\u001b[0m             \u001b[0;31m# nested tuple slicing\u001b[0m\u001b[0;34m\u001b[0m\u001b[0;34m\u001b[0m\u001b[0;34m\u001b[0m\u001b[0m\n",
            "\u001b[0;32m/usr/local/lib/python3.6/dist-packages/pandas/core/indexing.py\u001b[0m in \u001b[0;36m_getitem_iterable\u001b[0;34m(self, key, axis)\u001b[0m\n\u001b[1;32m   1035\u001b[0m \u001b[0;34m\u001b[0m\u001b[0m\n\u001b[1;32m   1036\u001b[0m         \u001b[0;31m# A collection of keys\u001b[0m\u001b[0;34m\u001b[0m\u001b[0;34m\u001b[0m\u001b[0;34m\u001b[0m\u001b[0m\n\u001b[0;32m-> 1037\u001b[0;31m         \u001b[0mkeyarr\u001b[0m\u001b[0;34m,\u001b[0m \u001b[0mindexer\u001b[0m \u001b[0;34m=\u001b[0m \u001b[0mself\u001b[0m\u001b[0;34m.\u001b[0m\u001b[0m_get_listlike_indexer\u001b[0m\u001b[0;34m(\u001b[0m\u001b[0mkey\u001b[0m\u001b[0;34m,\u001b[0m \u001b[0maxis\u001b[0m\u001b[0;34m,\u001b[0m \u001b[0mraise_missing\u001b[0m\u001b[0;34m=\u001b[0m\u001b[0;32mFalse\u001b[0m\u001b[0;34m)\u001b[0m\u001b[0;34m\u001b[0m\u001b[0;34m\u001b[0m\u001b[0m\n\u001b[0m\u001b[1;32m   1038\u001b[0m         return self.obj._reindex_with_indexers(\n\u001b[1;32m   1039\u001b[0m             \u001b[0;34m{\u001b[0m\u001b[0maxis\u001b[0m\u001b[0;34m:\u001b[0m \u001b[0;34m[\u001b[0m\u001b[0mkeyarr\u001b[0m\u001b[0;34m,\u001b[0m \u001b[0mindexer\u001b[0m\u001b[0;34m]\u001b[0m\u001b[0;34m}\u001b[0m\u001b[0;34m,\u001b[0m \u001b[0mcopy\u001b[0m\u001b[0;34m=\u001b[0m\u001b[0;32mTrue\u001b[0m\u001b[0;34m,\u001b[0m \u001b[0mallow_dups\u001b[0m\u001b[0;34m=\u001b[0m\u001b[0;32mTrue\u001b[0m\u001b[0;34m\u001b[0m\u001b[0;34m\u001b[0m\u001b[0m\n",
            "\u001b[0;32m/usr/local/lib/python3.6/dist-packages/pandas/core/indexing.py\u001b[0m in \u001b[0;36m_get_listlike_indexer\u001b[0;34m(self, key, axis, raise_missing)\u001b[0m\n\u001b[1;32m   1252\u001b[0m             \u001b[0mkeyarr\u001b[0m\u001b[0;34m,\u001b[0m \u001b[0mindexer\u001b[0m\u001b[0;34m,\u001b[0m \u001b[0mnew_indexer\u001b[0m \u001b[0;34m=\u001b[0m \u001b[0max\u001b[0m\u001b[0;34m.\u001b[0m\u001b[0m_reindex_non_unique\u001b[0m\u001b[0;34m(\u001b[0m\u001b[0mkeyarr\u001b[0m\u001b[0;34m)\u001b[0m\u001b[0;34m\u001b[0m\u001b[0;34m\u001b[0m\u001b[0m\n\u001b[1;32m   1253\u001b[0m \u001b[0;34m\u001b[0m\u001b[0m\n\u001b[0;32m-> 1254\u001b[0;31m         \u001b[0mself\u001b[0m\u001b[0;34m.\u001b[0m\u001b[0m_validate_read_indexer\u001b[0m\u001b[0;34m(\u001b[0m\u001b[0mkeyarr\u001b[0m\u001b[0;34m,\u001b[0m \u001b[0mindexer\u001b[0m\u001b[0;34m,\u001b[0m \u001b[0maxis\u001b[0m\u001b[0;34m,\u001b[0m \u001b[0mraise_missing\u001b[0m\u001b[0;34m=\u001b[0m\u001b[0mraise_missing\u001b[0m\u001b[0;34m)\u001b[0m\u001b[0;34m\u001b[0m\u001b[0;34m\u001b[0m\u001b[0m\n\u001b[0m\u001b[1;32m   1255\u001b[0m         \u001b[0;32mreturn\u001b[0m \u001b[0mkeyarr\u001b[0m\u001b[0;34m,\u001b[0m \u001b[0mindexer\u001b[0m\u001b[0;34m\u001b[0m\u001b[0;34m\u001b[0m\u001b[0m\n\u001b[1;32m   1256\u001b[0m \u001b[0;34m\u001b[0m\u001b[0m\n",
            "\u001b[0;32m/usr/local/lib/python3.6/dist-packages/pandas/core/indexing.py\u001b[0m in \u001b[0;36m_validate_read_indexer\u001b[0;34m(self, key, indexer, axis, raise_missing)\u001b[0m\n\u001b[1;32m   1314\u001b[0m                 \u001b[0;32mwith\u001b[0m \u001b[0moption_context\u001b[0m\u001b[0;34m(\u001b[0m\u001b[0;34m\"display.max_seq_items\"\u001b[0m\u001b[0;34m,\u001b[0m \u001b[0;36m10\u001b[0m\u001b[0;34m,\u001b[0m \u001b[0;34m\"display.width\"\u001b[0m\u001b[0;34m,\u001b[0m \u001b[0;36m80\u001b[0m\u001b[0;34m)\u001b[0m\u001b[0;34m:\u001b[0m\u001b[0;34m\u001b[0m\u001b[0;34m\u001b[0m\u001b[0m\n\u001b[1;32m   1315\u001b[0m                     raise KeyError(\n\u001b[0;32m-> 1316\u001b[0;31m                         \u001b[0;34m\"Passing list-likes to .loc or [] with any missing labels \"\u001b[0m\u001b[0;34m\u001b[0m\u001b[0;34m\u001b[0m\u001b[0m\n\u001b[0m\u001b[1;32m   1317\u001b[0m                         \u001b[0;34m\"is no longer supported. \"\u001b[0m\u001b[0;34m\u001b[0m\u001b[0;34m\u001b[0m\u001b[0m\n\u001b[1;32m   1318\u001b[0m                         \u001b[0;34mf\"The following labels were missing: {not_found}. \"\u001b[0m\u001b[0;34m\u001b[0m\u001b[0;34m\u001b[0m\u001b[0m\n",
            "\u001b[0;31mKeyError\u001b[0m: \"Passing list-likes to .loc or [] with any missing labels is no longer supported. The following labels were missing: Int64Index([964], dtype='int64'). See https://pandas.pydata.org/pandas-docs/stable/user_guide/indexing.html#deprecate-loc-reindex-listlike\""
          ]
        }
      ]
    },
    {
      "cell_type": "code",
      "metadata": {
        "colab": {
          "base_uri": "https://localhost:8080/"
        },
        "id": "yvaXHBf4kKsS",
        "outputId": "2dd8245a-55f4-41dc-9596-bdffadf96b58"
      },
      "source": [
        "from xgboost import XGBRegressor\r\n",
        "xg = XGBRegressor(verbose=1,n_estimators=2000, random_state=33, subsample=0.7)\r\n",
        "xg.fit(X_train, y_train)\r\n",
        "y_pred3 = xg.predict(X_cv)\r\n",
        "print('RMSLE', sqrt(mean_squared_log_error(np.expm1(y_cv), np.expm1(y_pred3))))"
      ],
      "execution_count": null,
      "outputs": [
        {
          "output_type": "stream",
          "text": [
            "[10:31:59] WARNING: /workspace/src/objective/regression_obj.cu:152: reg:linear is now deprecated in favor of reg:squarederror.\n",
            "RMSLE 1.4109916769624442\n"
          ],
          "name": "stdout"
        }
      ]
    },
    {
      "cell_type": "code",
      "metadata": {
        "colab": {
          "base_uri": "https://localhost:8080/"
        },
        "id": "DauPgKeEksS4",
        "outputId": "e7cb8f02-1c4f-4ccf-e235-6462755fad62"
      },
      "source": [
        "score3 = r2_score(y_cv, y_pred3)\r\n",
        "score3"
      ],
      "execution_count": null,
      "outputs": [
        {
          "output_type": "execute_result",
          "data": {
            "text/plain": [
              "0.3527950891107612"
            ]
          },
          "metadata": {
            "tags": []
          },
          "execution_count": 421
        }
      ]
    },
    {
      "cell_type": "code",
      "metadata": {
        "id": "Ca1Ez7aYk3jk"
      },
      "source": [
        "from sklearn.ensemble import RandomForestRegressor\r\n",
        "random_forest = RandomForestRegressor()"
      ],
      "execution_count": null,
      "outputs": []
    },
    {
      "cell_type": "code",
      "metadata": {
        "colab": {
          "base_uri": "https://localhost:8080/"
        },
        "id": "JxskjZnTv5wP",
        "outputId": "cba03969-2d8d-492b-8875-27cdfc375af5"
      },
      "source": [
        "random_forest.fit(X_train, y_train)"
      ],
      "execution_count": null,
      "outputs": [
        {
          "output_type": "execute_result",
          "data": {
            "text/plain": [
              "RandomForestRegressor(bootstrap=True, ccp_alpha=0.0, criterion='mse',\n",
              "                      max_depth=None, max_features='auto', max_leaf_nodes=None,\n",
              "                      max_samples=None, min_impurity_decrease=0.0,\n",
              "                      min_impurity_split=None, min_samples_leaf=1,\n",
              "                      min_samples_split=2, min_weight_fraction_leaf=0.0,\n",
              "                      n_estimators=100, n_jobs=None, oob_score=False,\n",
              "                      random_state=None, verbose=0, warm_start=False)"
            ]
          },
          "metadata": {
            "tags": []
          },
          "execution_count": 423
        }
      ]
    },
    {
      "cell_type": "code",
      "metadata": {
        "colab": {
          "base_uri": "https://localhost:8080/"
        },
        "id": "knDItVBwv_Lm",
        "outputId": "426ac25e-dc8d-47a8-d89d-19c370a0a7a5"
      },
      "source": [
        "y_pred4 = random_forest.predict(X_cv)\r\n",
        "print('RMSLE', sqrt(mean_squared_log_error(np.expm1(y_cv), np.expm1(y_pred4))))"
      ],
      "execution_count": null,
      "outputs": [
        {
          "output_type": "stream",
          "text": [
            "RMSLE 1.403271846913161\n"
          ],
          "name": "stdout"
        }
      ]
    },
    {
      "cell_type": "code",
      "metadata": {
        "id": "hLUd2myqwIOG"
      },
      "source": [
        ""
      ],
      "execution_count": null,
      "outputs": []
    }
  ]
}